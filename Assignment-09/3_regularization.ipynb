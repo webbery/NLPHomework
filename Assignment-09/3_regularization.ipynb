{
 "cells": [
  {
   "cell_type": "markdown",
   "metadata": {
    "colab_type": "text",
    "id": "kR-4eNdK6lYS"
   },
   "source": [
    "Deep Learning\n",
    "=============\n",
    "\n",
    "Assignment 3\n",
    "------------\n",
    "\n",
    "Previously in `2_fullyconnected.ipynb`, you trained a logistic regression and a neural network model.\n",
    "\n",
    "The goal of this assignment is to explore regularization techniques."
   ]
  },
  {
   "cell_type": "code",
   "execution_count": 1,
   "metadata": {
    "cellView": "both",
    "colab": {
     "autoexec": {
      "startup": false,
      "wait_interval": 0
     }
    },
    "colab_type": "code",
    "id": "JLpLa8Jt7Vu4"
   },
   "outputs": [
    {
     "name": "stderr",
     "output_type": "stream",
     "text": [
      "D:\\UnixlikePrograms\\Anaconda3\\lib\\site-packages\\tensorflow\\python\\framework\\dtypes.py:516: FutureWarning: Passing (type, 1) or '1type' as a synonym of type is deprecated; in a future version of numpy, it will be understood as (type, (1,)) / '(1,)type'.\n",
      "  _np_qint8 = np.dtype([(\"qint8\", np.int8, 1)])\n",
      "D:\\UnixlikePrograms\\Anaconda3\\lib\\site-packages\\tensorflow\\python\\framework\\dtypes.py:517: FutureWarning: Passing (type, 1) or '1type' as a synonym of type is deprecated; in a future version of numpy, it will be understood as (type, (1,)) / '(1,)type'.\n",
      "  _np_quint8 = np.dtype([(\"quint8\", np.uint8, 1)])\n",
      "D:\\UnixlikePrograms\\Anaconda3\\lib\\site-packages\\tensorflow\\python\\framework\\dtypes.py:518: FutureWarning: Passing (type, 1) or '1type' as a synonym of type is deprecated; in a future version of numpy, it will be understood as (type, (1,)) / '(1,)type'.\n",
      "  _np_qint16 = np.dtype([(\"qint16\", np.int16, 1)])\n",
      "D:\\UnixlikePrograms\\Anaconda3\\lib\\site-packages\\tensorflow\\python\\framework\\dtypes.py:519: FutureWarning: Passing (type, 1) or '1type' as a synonym of type is deprecated; in a future version of numpy, it will be understood as (type, (1,)) / '(1,)type'.\n",
      "  _np_quint16 = np.dtype([(\"quint16\", np.uint16, 1)])\n",
      "D:\\UnixlikePrograms\\Anaconda3\\lib\\site-packages\\tensorflow\\python\\framework\\dtypes.py:520: FutureWarning: Passing (type, 1) or '1type' as a synonym of type is deprecated; in a future version of numpy, it will be understood as (type, (1,)) / '(1,)type'.\n",
      "  _np_qint32 = np.dtype([(\"qint32\", np.int32, 1)])\n",
      "D:\\UnixlikePrograms\\Anaconda3\\lib\\site-packages\\tensorflow\\python\\framework\\dtypes.py:525: FutureWarning: Passing (type, 1) or '1type' as a synonym of type is deprecated; in a future version of numpy, it will be understood as (type, (1,)) / '(1,)type'.\n",
      "  np_resource = np.dtype([(\"resource\", np.ubyte, 1)])\n",
      "D:\\UnixlikePrograms\\Anaconda3\\lib\\site-packages\\tensorboard\\compat\\tensorflow_stub\\dtypes.py:541: FutureWarning: Passing (type, 1) or '1type' as a synonym of type is deprecated; in a future version of numpy, it will be understood as (type, (1,)) / '(1,)type'.\n",
      "  _np_qint8 = np.dtype([(\"qint8\", np.int8, 1)])\n",
      "D:\\UnixlikePrograms\\Anaconda3\\lib\\site-packages\\tensorboard\\compat\\tensorflow_stub\\dtypes.py:542: FutureWarning: Passing (type, 1) or '1type' as a synonym of type is deprecated; in a future version of numpy, it will be understood as (type, (1,)) / '(1,)type'.\n",
      "  _np_quint8 = np.dtype([(\"quint8\", np.uint8, 1)])\n",
      "D:\\UnixlikePrograms\\Anaconda3\\lib\\site-packages\\tensorboard\\compat\\tensorflow_stub\\dtypes.py:543: FutureWarning: Passing (type, 1) or '1type' as a synonym of type is deprecated; in a future version of numpy, it will be understood as (type, (1,)) / '(1,)type'.\n",
      "  _np_qint16 = np.dtype([(\"qint16\", np.int16, 1)])\n",
      "D:\\UnixlikePrograms\\Anaconda3\\lib\\site-packages\\tensorboard\\compat\\tensorflow_stub\\dtypes.py:544: FutureWarning: Passing (type, 1) or '1type' as a synonym of type is deprecated; in a future version of numpy, it will be understood as (type, (1,)) / '(1,)type'.\n",
      "  _np_quint16 = np.dtype([(\"quint16\", np.uint16, 1)])\n",
      "D:\\UnixlikePrograms\\Anaconda3\\lib\\site-packages\\tensorboard\\compat\\tensorflow_stub\\dtypes.py:545: FutureWarning: Passing (type, 1) or '1type' as a synonym of type is deprecated; in a future version of numpy, it will be understood as (type, (1,)) / '(1,)type'.\n",
      "  _np_qint32 = np.dtype([(\"qint32\", np.int32, 1)])\n",
      "D:\\UnixlikePrograms\\Anaconda3\\lib\\site-packages\\tensorboard\\compat\\tensorflow_stub\\dtypes.py:550: FutureWarning: Passing (type, 1) or '1type' as a synonym of type is deprecated; in a future version of numpy, it will be understood as (type, (1,)) / '(1,)type'.\n",
      "  np_resource = np.dtype([(\"resource\", np.ubyte, 1)])\n"
     ]
    }
   ],
   "source": [
    "# These are all the modules we'll be using later. Make sure you can import them\n",
    "# before proceeding further.\n",
    "from __future__ import print_function\n",
    "import numpy as np\n",
    "import tensorflow as tf\n",
    "from six.moves import cPickle as pickle\n",
    "import matplotlib.pyplot as plt"
   ]
  },
  {
   "cell_type": "markdown",
   "metadata": {
    "colab_type": "text",
    "id": "1HrCK6e17WzV"
   },
   "source": [
    "First reload the data we generated in `1_notmnist.ipynb`."
   ]
  },
  {
   "cell_type": "code",
   "execution_count": 2,
   "metadata": {
    "cellView": "both",
    "colab": {
     "autoexec": {
      "startup": false,
      "wait_interval": 0
     },
     "output_extras": [
      {
       "item_id": 1
      }
     ]
    },
    "colab_type": "code",
    "executionInfo": {
     "elapsed": 11777,
     "status": "ok",
     "timestamp": 1449849322348,
     "user": {
      "color": "",
      "displayName": "",
      "isAnonymous": false,
      "isMe": true,
      "permissionId": "",
      "photoUrl": "",
      "sessionId": "0",
      "userId": ""
     },
     "user_tz": 480
    },
    "id": "y3-cj1bpmuxc",
    "outputId": "e03576f1-ebbe-4838-c388-f1777bcc9873"
   },
   "outputs": [
    {
     "name": "stdout",
     "output_type": "stream",
     "text": [
      "Training set (200000, 28, 28) (200000,)\n",
      "Validation set (40000, 28, 28) (40000,)\n",
      "Test set (10000, 28, 28) (10000,)\n"
     ]
    }
   ],
   "source": [
    "pickle_file = 'notMNIST.pickle'\n",
    "\n",
    "with open(pickle_file, 'rb') as f:\n",
    "  save = pickle.load(f)\n",
    "  train_dataset = save['train_dataset']\n",
    "  train_labels = save['train_labels']\n",
    "  valid_dataset = save['valid_dataset']\n",
    "  valid_labels = save['valid_labels']\n",
    "  test_dataset = save['test_dataset']\n",
    "  test_labels = save['test_labels']\n",
    "  del save  # hint to help gc free up memory\n",
    "  print('Training set', train_dataset.shape, train_labels.shape)\n",
    "  print('Validation set', valid_dataset.shape, valid_labels.shape)\n",
    "  print('Test set', test_dataset.shape, test_labels.shape)"
   ]
  },
  {
   "cell_type": "markdown",
   "metadata": {
    "colab_type": "text",
    "id": "L7aHrm6nGDMB"
   },
   "source": [
    "Reformat into a shape that's more adapted to the models we're going to train:\n",
    "- data as a flat matrix,\n",
    "- labels as float 1-hot encodings."
   ]
  },
  {
   "cell_type": "code",
   "execution_count": 3,
   "metadata": {
    "cellView": "both",
    "colab": {
     "autoexec": {
      "startup": false,
      "wait_interval": 0
     },
     "output_extras": [
      {
       "item_id": 1
      }
     ]
    },
    "colab_type": "code",
    "executionInfo": {
     "elapsed": 11728,
     "status": "ok",
     "timestamp": 1449849322356,
     "user": {
      "color": "",
      "displayName": "",
      "isAnonymous": false,
      "isMe": true,
      "permissionId": "",
      "photoUrl": "",
      "sessionId": "0",
      "userId": ""
     },
     "user_tz": 480
    },
    "id": "IRSyYiIIGIzS",
    "outputId": "3f8996ee-3574-4f44-c953-5c8a04636582"
   },
   "outputs": [
    {
     "name": "stdout",
     "output_type": "stream",
     "text": [
      "Training set (200000, 784) (200000, 10)\n",
      "Validation set (40000, 784) (40000, 10)\n",
      "Test set (10000, 784) (10000, 10)\n"
     ]
    }
   ],
   "source": [
    "image_size = 28\n",
    "num_labels = 10\n",
    "\n",
    "def reformat(dataset, labels):\n",
    "  dataset = dataset.reshape((-1, image_size * image_size)).astype(np.float32)\n",
    "  # Map 1 to [0.0, 1.0, 0.0 ...], 2 to [0.0, 0.0, 1.0 ...]\n",
    "  labels = (np.arange(num_labels) == labels[:,None]).astype(np.float32)\n",
    "  return dataset, labels\n",
    "train_dataset, train_labels = reformat(train_dataset, train_labels)\n",
    "valid_dataset, valid_labels = reformat(valid_dataset, valid_labels)\n",
    "test_dataset, test_labels = reformat(test_dataset, test_labels)\n",
    "print('Training set', train_dataset.shape, train_labels.shape)\n",
    "print('Validation set', valid_dataset.shape, valid_labels.shape)\n",
    "print('Test set', test_dataset.shape, test_labels.shape)"
   ]
  },
  {
   "cell_type": "code",
   "execution_count": 4,
   "metadata": {
    "cellView": "both",
    "colab": {
     "autoexec": {
      "startup": false,
      "wait_interval": 0
     }
    },
    "colab_type": "code",
    "id": "RajPLaL_ZW6w"
   },
   "outputs": [],
   "source": [
    "def accuracy(predictions, labels):\n",
    "  return (100.0 * np.sum(np.argmax(predictions, 1) == np.argmax(labels, 1))\n",
    "          / predictions.shape[0])"
   ]
  },
  {
   "cell_type": "code",
   "execution_count": 5,
   "metadata": {},
   "outputs": [],
   "source": [
    "batch_size = 128"
   ]
  },
  {
   "cell_type": "code",
   "execution_count": 78,
   "metadata": {},
   "outputs": [],
   "source": [
    "\n",
    "#传入创建层的回调函数，构造图然后运行模型\n",
    "def run_model(train_data,train_labels,valid_data,valid_labels,test_data,test_labels,layers_callback,wd=0):\n",
    "    graph = tf.Graph()\n",
    "    with graph.as_default():\n",
    "\n",
    "        # Input data. For the training data, we use a placeholder that will be fed\n",
    "        # at run time with a training minibatch.\n",
    "        tf_train_dataset = tf.placeholder(tf.float32,\n",
    "                                    shape=(batch_size, image_size * image_size))\n",
    "        tf_train_labels = tf.placeholder(tf.float32, shape=(batch_size, num_labels))\n",
    "        tf_valid_dataset = tf.constant(valid_data)\n",
    "        tf_test_dataset = tf.constant(test_data)\n",
    "\n",
    "        # 创建隐藏层的回调\n",
    "        train_logits,valid_logits,test_logits,regular = layers_callback(\n",
    "            [tf_train_dataset,tf_valid_dataset,tf_test_dataset],wd)\n",
    "        \n",
    "        t = tf.nn.softmax_cross_entropy_with_logits(labels=tf_train_labels, logits=train_logits)\n",
    "#         print(t.shape)\n",
    "        loss = tf.reduce_mean(tf.reduce_mean(t)+regular)\n",
    "  \n",
    "        # Optimizer.\n",
    "        optimizer = tf.train.GradientDescentOptimizer(0.5).minimize(loss)\n",
    "\n",
    "        # Predictions for the training, validation, and test data.\n",
    "        train_prediction = tf.nn.softmax(train_logits)\n",
    "        valid_prediction = tf.nn.softmax(valid_logits)\n",
    "        test_prediction = tf.nn.softmax(test_logits)\n",
    "        \n",
    "        num_steps = 3001\n",
    "        with tf.Session(graph=graph) as session:\n",
    "            tf.global_variables_initializer().run()\n",
    "            print(\"Initialized\")\n",
    "            for step in range(num_steps):\n",
    "                # Pick an offset within the training data, which has been randomized.\n",
    "                # Note: we could use better randomization across epochs.\n",
    "                offset = (step * batch_size) % (train_labels.shape[0] - batch_size)\n",
    "                #     print(offset,step)\n",
    "                # Generate a minibatch.\n",
    "                batch_data = train_data[offset:(offset + batch_size), :]\n",
    "                batch_labels = train_labels[offset:(offset + batch_size), :]\n",
    "                # Prepare a dictionary telling the session where to feed the minibatch.\n",
    "                # The key of the dictionary is the placeholder node of the graph to be fed,\n",
    "                # and the value is the numpy array to feed to it.\n",
    "                feed_dict = {tf_train_dataset : batch_data, tf_train_labels : batch_labels}\n",
    "                _, l, predictions = session.run(\n",
    "                      [optimizer, loss, train_prediction], feed_dict=feed_dict)\n",
    "                if (step % 500 == 0):\n",
    "                    print(\"Minibatch loss at step %d: %f\" % (step, l))\n",
    "                    print(\"Minibatch accuracy: %.1f%%\" % accuracy(predictions, batch_labels))\n",
    "                    print(\"Validation accuracy: %.1f%%\" % accuracy(\n",
    "                        valid_prediction.eval(), valid_labels))\n",
    "                    print(\"Test accuracy: %.1f%%\" % accuracy(test_prediction.eval(), test_labels))"
   ]
  },
  {
   "cell_type": "code",
   "execution_count": 74,
   "metadata": {},
   "outputs": [],
   "source": [
    "# 增加一层全连接层\n",
    "def layer_fullconnect(dataset,wd):\n",
    "    nodes = 1024\n",
    "    [tf_train_dataset,tf_valid_dataset,tf_test_dataset]=dataset\n",
    "    # Variables.\n",
    "    w1 = tf.truncated_normal([image_size * image_size, nodes])\n",
    "    tf.add_to_collection('regular',tf.multiply(tf.nn.l2_loss(w1),wd))\n",
    "    weights1 = tf.Variable(w1)\n",
    "    w2 = tf.truncated_normal([nodes, num_labels])\n",
    "    tf.add_to_collection('regular',tf.multiply(tf.nn.l2_loss(w2),wd))\n",
    "    weights2 = tf.Variable(w2)\n",
    "    biases1 = tf.Variable(tf.zeros([nodes]))\n",
    "    biases2 = tf.Variable(tf.zeros([num_labels]))\n",
    "\n",
    "    # Hidden Layer\n",
    "    train_hidden_layer = tf.nn.relu(tf.matmul(tf_train_dataset, weights1)+biases1)\n",
    "    valid_hidden_layer = tf.nn.relu(tf.matmul(tf_valid_dataset, weights1)+biases1)\n",
    "    test_hidden_layer = tf.nn.relu(tf.matmul(tf_test_dataset, weights1)+biases1) \n",
    "    # Training computation.\n",
    "    train_logits = tf.matmul(train_hidden_layer,weights2) + biases2\n",
    "    valid_logits = tf.matmul(valid_hidden_layer, weights2) + biases2\n",
    "    test_logits = tf.matmul(test_hidden_layer, weights2) + biases2\n",
    "    \n",
    "#     regular = tf.add_n(tf.get_collection(\"regular\"))\n",
    "    regular = tf.nn.l2_loss(w1)+tf.nn.l2_loss(w2)\n",
    "\n",
    "    return (train_logits,valid_logits,test_logits,wd*regular)\n",
    "\n",
    "#没有隐藏层\n",
    "def layer_default(dataset,wd):\n",
    "    [tf_train_dataset,tf_valid_dataset,tf_test_dataset]=dataset\n",
    "    # Variables.\n",
    "    w = tf.truncated_normal([image_size * image_size, num_labels])\n",
    "    tf.add_to_collection('regular',tf.multiply(tf.nn.l2_loss(w),wd))\n",
    "    weights = tf.Variable(w)\n",
    "    biases = tf.Variable(tf.zeros([num_labels]))\n",
    "\n",
    "    # Training computation.\n",
    "    train_logits = tf.matmul(tf_train_dataset, weights) + biases\n",
    "    valid_logits = tf.matmul(tf_valid_dataset, weights) + biases\n",
    "    test_logits = tf.matmul(tf_test_dataset, weights) + biases\n",
    "    \n",
    "    regular = tf.add_n(tf.get_collection(\"regular\"))\n",
    "    return (train_logits,valid_logits,test_logits,regular)\n"
   ]
  },
  {
   "cell_type": "markdown",
   "metadata": {
    "colab_type": "text",
    "id": "sgLbUAQ1CW-1"
   },
   "source": [
    "---\n",
    "Problem 1\n",
    "---------\n",
    "\n",
    "Introduce and tune L2 regularization for both logistic and neural network models. Remember that L2 amounts to adding a penalty on the norm of the weights to the loss. In TensorFlow, you can compute the L2 loss for a tensor `t` using `nn.l2_loss(t)`. The right amount of regularization should improve your validation / test accuracy.\n",
    "\n",
    "---"
   ]
  },
  {
   "cell_type": "code",
   "execution_count": 70,
   "metadata": {},
   "outputs": [
    {
     "name": "stdout",
     "output_type": "stream",
     "text": [
      "Initialized\n",
      "Minibatch loss at step 0: 19.263342\n",
      "Minibatch accuracy: 7.0%\n",
      "Validation accuracy: 10.7%\n",
      "Test accuracy: 10.1%\n",
      "Minibatch loss at step 500: 1.712344\n",
      "Minibatch accuracy: 75.0%\n",
      "Validation accuracy: 75.7%\n",
      "Test accuracy: 83.2%\n",
      "Minibatch loss at step 1000: 1.338128\n",
      "Minibatch accuracy: 76.6%\n",
      "Validation accuracy: 76.3%\n",
      "Test accuracy: 84.1%\n",
      "Minibatch loss at step 1500: 1.124742\n",
      "Minibatch accuracy: 77.3%\n",
      "Validation accuracy: 77.0%\n",
      "Test accuracy: 84.9%\n",
      "Minibatch loss at step 2000: 0.999392\n",
      "Minibatch accuracy: 81.2%\n",
      "Validation accuracy: 77.9%\n",
      "Test accuracy: 85.6%\n",
      "Minibatch loss at step 2500: 1.184443\n",
      "Minibatch accuracy: 73.4%\n",
      "Validation accuracy: 78.2%\n",
      "Test accuracy: 85.9%\n",
      "Minibatch loss at step 3000: 0.906283\n",
      "Minibatch accuracy: 78.1%\n",
      "Validation accuracy: 78.9%\n",
      "Test accuracy: 86.2%\n"
     ]
    }
   ],
   "source": [
    "run_model(train_dataset,train_labels,valid_dataset,valid_labels,test_dataset,test_labels,layer_default)"
   ]
  },
  {
   "cell_type": "code",
   "execution_count": 71,
   "metadata": {},
   "outputs": [
    {
     "name": "stdout",
     "output_type": "stream",
     "text": [
      "Initialized\n",
      "Minibatch loss at step 0: 26.589451\n",
      "Minibatch accuracy: 11.7%\n",
      "Validation accuracy: 13.3%\n",
      "Test accuracy: 13.7%\n",
      "Minibatch loss at step 500: 10.530587\n",
      "Minibatch accuracy: 78.1%\n",
      "Validation accuracy: 75.9%\n",
      "Test accuracy: 83.8%\n",
      "Minibatch loss at step 1000: 10.472232\n",
      "Minibatch accuracy: 76.6%\n",
      "Validation accuracy: 76.8%\n",
      "Test accuracy: 84.0%\n",
      "Minibatch loss at step 1500: 10.195402\n",
      "Minibatch accuracy: 75.0%\n",
      "Validation accuracy: 77.4%\n",
      "Test accuracy: 85.0%\n",
      "Minibatch loss at step 2000: 10.036562\n",
      "Minibatch accuracy: 85.9%\n",
      "Validation accuracy: 78.3%\n",
      "Test accuracy: 85.7%\n",
      "Minibatch loss at step 2500: 10.178033\n",
      "Minibatch accuracy: 78.9%\n",
      "Validation accuracy: 78.5%\n",
      "Test accuracy: 85.6%\n",
      "Minibatch loss at step 3000: 9.967793\n",
      "Minibatch accuracy: 75.8%\n",
      "Validation accuracy: 79.0%\n",
      "Test accuracy: 86.1%\n"
     ]
    }
   ],
   "source": [
    "run_model(train_dataset,train_labels,valid_dataset,valid_labels,test_dataset,test_labels,layer_default,0.003)"
   ]
  },
  {
   "cell_type": "code",
   "execution_count": 66,
   "metadata": {},
   "outputs": [
    {
     "name": "stdout",
     "output_type": "stream",
     "text": [
      "Initialized\n",
      "Minibatch loss at step 0: 392.809631\n",
      "Minibatch accuracy: 4.7%\n",
      "Validation accuracy: 31.5%\n",
      "Test accuracy: 35.0%\n",
      "Minibatch loss at step 500: 10.879689\n",
      "Minibatch accuracy: 78.9%\n",
      "Validation accuracy: 80.3%\n",
      "Test accuracy: 87.3%\n",
      "Minibatch loss at step 1000: 8.535004\n",
      "Minibatch accuracy: 81.2%\n",
      "Validation accuracy: 80.7%\n",
      "Test accuracy: 87.3%\n",
      "Minibatch loss at step 1500: 10.787449\n",
      "Minibatch accuracy: 82.8%\n",
      "Validation accuracy: 80.6%\n",
      "Test accuracy: 87.4%\n",
      "Minibatch loss at step 2000: 1.750031\n",
      "Minibatch accuracy: 85.2%\n",
      "Validation accuracy: 81.2%\n",
      "Test accuracy: 88.2%\n",
      "Minibatch loss at step 2500: 3.716812\n",
      "Minibatch accuracy: 76.6%\n",
      "Validation accuracy: 81.0%\n",
      "Test accuracy: 88.2%\n",
      "Minibatch loss at step 3000: 2.497025\n",
      "Minibatch accuracy: 78.9%\n",
      "Validation accuracy: 82.1%\n",
      "Test accuracy: 89.1%\n"
     ]
    }
   ],
   "source": [
    "run_model(train_dataset,train_labels,valid_dataset,valid_labels,test_dataset,test_labels,layer_fullconnect)"
   ]
  },
  {
   "cell_type": "code",
   "execution_count": 79,
   "metadata": {},
   "outputs": [
    {
     "name": "stdout",
     "output_type": "stream",
     "text": [
      "Initialized\n",
      "Minibatch loss at step 0: 1313.163330\n",
      "Minibatch accuracy: 7.0%\n",
      "Validation accuracy: 31.4%\n",
      "Test accuracy: 34.5%\n",
      "Minibatch loss at step 500: 954.466797\n",
      "Minibatch accuracy: 82.8%\n",
      "Validation accuracy: 80.7%\n",
      "Test accuracy: 87.8%\n",
      "Minibatch loss at step 1000: 951.375671\n",
      "Minibatch accuracy: 82.0%\n",
      "Validation accuracy: 81.5%\n",
      "Test accuracy: 89.0%\n",
      "Minibatch loss at step 1500: 953.182007\n",
      "Minibatch accuracy: 80.5%\n",
      "Validation accuracy: 80.7%\n",
      "Test accuracy: 87.9%\n",
      "Minibatch loss at step 2000: 948.219788\n",
      "Minibatch accuracy: 85.2%\n",
      "Validation accuracy: 82.0%\n",
      "Test accuracy: 88.7%\n",
      "Minibatch loss at step 2500: 949.304077\n",
      "Minibatch accuracy: 78.9%\n",
      "Validation accuracy: 80.4%\n",
      "Test accuracy: 87.7%\n",
      "Minibatch loss at step 3000: 947.265137\n",
      "Minibatch accuracy: 81.2%\n",
      "Validation accuracy: 82.6%\n",
      "Test accuracy: 89.4%\n"
     ]
    }
   ],
   "source": [
    "run_model(train_dataset,train_labels,valid_dataset,valid_labels,test_dataset,test_labels,layer_fullconnect,0.003)"
   ]
  },
  {
   "cell_type": "markdown",
   "metadata": {
    "colab_type": "text",
    "id": "na8xX2yHZzNF"
   },
   "source": [
    "---\n",
    "Problem 2\n",
    "---------\n",
    "Let's demonstrate an extreme case of overfitting. Restrict your training data to just a few batches. What happens?\n",
    "\n",
    "---"
   ]
  },
  {
   "cell_type": "code",
   "execution_count": 83,
   "metadata": {},
   "outputs": [
    {
     "name": "stdout",
     "output_type": "stream",
     "text": [
      "Initialized\n",
      "Minibatch loss at step 0: 311.969971\n",
      "Minibatch accuracy: 8.6%\n",
      "Validation accuracy: 30.7%\n",
      "Test accuracy: 32.9%\n",
      "Minibatch loss at step 500: 17.832119\n",
      "Minibatch accuracy: 91.4%\n",
      "Validation accuracy: 74.4%\n",
      "Test accuracy: 81.6%\n",
      "Minibatch loss at step 1000: 0.419055\n",
      "Minibatch accuracy: 98.4%\n",
      "Validation accuracy: 80.9%\n",
      "Test accuracy: 87.8%\n",
      "Minibatch loss at step 1500: 0.000418\n",
      "Minibatch accuracy: 100.0%\n",
      "Validation accuracy: 81.9%\n",
      "Test accuracy: 88.9%\n",
      "Minibatch loss at step 2000: 0.000749\n",
      "Minibatch accuracy: 100.0%\n",
      "Validation accuracy: 82.0%\n",
      "Test accuracy: 88.9%\n",
      "Minibatch loss at step 2500: 0.000002\n",
      "Minibatch accuracy: 100.0%\n",
      "Validation accuracy: 82.1%\n",
      "Test accuracy: 88.9%\n",
      "Minibatch loss at step 3000: 0.025618\n",
      "Minibatch accuracy: 99.2%\n",
      "Validation accuracy: 81.7%\n",
      "Test accuracy: 88.7%\n"
     ]
    }
   ],
   "source": [
    "run_model(train_dataset[:10000],train_labels[:10000],valid_dataset,valid_labels,test_dataset,test_labels,layer_fullconnect)"
   ]
  },
  {
   "cell_type": "markdown",
   "metadata": {},
   "source": []
  },
  {
   "cell_type": "code",
   "execution_count": 86,
   "metadata": {},
   "outputs": [
    {
     "name": "stdout",
     "output_type": "stream",
     "text": [
      "Initialized\n",
      "Minibatch loss at step 0: 94473.273438\n",
      "Minibatch accuracy: 10.2%\n",
      "Validation accuracy: 41.7%\n",
      "Test accuracy: 45.5%\n",
      "Minibatch loss at step 500: 94167.226562\n",
      "Minibatch accuracy: 93.8%\n",
      "Validation accuracy: 81.5%\n",
      "Test accuracy: 89.3%\n",
      "Minibatch loss at step 1000: 94154.523438\n",
      "Minibatch accuracy: 97.7%\n",
      "Validation accuracy: 82.2%\n",
      "Test accuracy: 89.6%\n",
      "Minibatch loss at step 1500: 94434.101562\n",
      "Minibatch accuracy: 97.7%\n",
      "Validation accuracy: 81.9%\n",
      "Test accuracy: 89.5%\n",
      "Minibatch loss at step 2000: 94393.609375\n",
      "Minibatch accuracy: 99.2%\n",
      "Validation accuracy: 82.4%\n",
      "Test accuracy: 90.0%\n",
      "Minibatch loss at step 2500: 94057.500000\n",
      "Minibatch accuracy: 100.0%\n",
      "Validation accuracy: 82.3%\n",
      "Test accuracy: 89.7%\n",
      "Minibatch loss at step 3000: 94289.210938\n",
      "Minibatch accuracy: 99.2%\n",
      "Validation accuracy: 82.6%\n",
      "Test accuracy: 90.0%\n"
     ]
    }
   ],
   "source": [
    "run_model(train_dataset[:10000],train_labels[:10000],valid_dataset,valid_labels,test_dataset,test_labels,layer_fullconnect,0.3)"
   ]
  },
  {
   "cell_type": "markdown",
   "metadata": {
    "colab_type": "text",
    "id": "ww3SCBUdlkRc"
   },
   "source": [
    "---\n",
    "Problem 3\n",
    "---------\n",
    "Introduce Dropout on the hidden layer of the neural network. Remember: Dropout should only be introduced during training, not evaluation, otherwise your evaluation results would be stochastic as well. TensorFlow provides `nn.dropout()` for that, but you have to make sure it's only inserted during training.\n",
    "\n",
    "What happens to our extreme overfitting case?\n",
    "\n",
    "---"
   ]
  },
  {
   "cell_type": "code",
   "execution_count": 6,
   "metadata": {},
   "outputs": [],
   "source": [
    "def layer_fullconnect_with_dropout(dataset,wd,tf_is_training):\n",
    "    nodes = 1024\n",
    "    [tf_train_dataset,tf_valid_dataset,tf_test_dataset]=dataset\n",
    "    # Variables.\n",
    "    w1 = tf.truncated_normal([image_size * image_size, nodes])\n",
    "    tf.add_to_collection('regular',tf.multiply(tf.nn.l2_loss(w1),wd))\n",
    "    weights1 = tf.Variable(w1)\n",
    "    w2 = tf.truncated_normal([nodes, num_labels])\n",
    "    tf.add_to_collection('regular',tf.multiply(tf.nn.l2_loss(w2),wd))\n",
    "    weights2 = tf.Variable(w2)\n",
    "    biases1 = tf.Variable(tf.zeros([nodes]))\n",
    "    biases2 = tf.Variable(tf.zeros([num_labels]))\n",
    "    \n",
    "    # Hidden Layer\n",
    "    train_hidden_layer = tf.nn.relu(tf.matmul(tf_train_dataset, weights1)+biases1)\n",
    "    train_hidden_layer = tf.layers.dropout(train_hidden_layer,rate=0.5, training=tf_is_training)\n",
    "    valid_hidden_layer = tf.nn.relu(tf.matmul(tf_valid_dataset, weights1)+biases1)\n",
    "    test_hidden_layer = tf.nn.relu(tf.matmul(tf_test_dataset, weights1)+biases1) \n",
    "    # Training computation.\n",
    "    train_logits = tf.matmul(train_hidden_layer,weights2) + biases2\n",
    "    valid_logits = tf.matmul(valid_hidden_layer, weights2) + biases2\n",
    "    test_logits = tf.matmul(test_hidden_layer, weights2) + biases2\n",
    "    \n",
    "#     regular = tf.add_n(tf.get_collection(\"regular\"))\n",
    "    regular = tf.nn.l2_loss(w1)+tf.nn.l2_loss(w2)\n",
    "\n",
    "    return (train_logits,valid_logits,test_logits,wd*regular)\n",
    "\n",
    "def run_model_with_dropout(train_data,train_labels,valid_data,valid_labels,test_data,test_labels,layers_callback,wd=0):\n",
    "    graph = tf.Graph()\n",
    "    with graph.as_default():\n",
    "        # Input data. For the training data, we use a placeholder that will be fed\n",
    "        # at run time with a training minibatch.\n",
    "        tf_train_dataset = tf.placeholder(tf.float32,\n",
    "                                    shape=(batch_size, image_size * image_size))\n",
    "        tf_train_labels = tf.placeholder(tf.float32, shape=(batch_size, num_labels))\n",
    "        tf_valid_dataset = tf.constant(valid_data)\n",
    "        tf_test_dataset = tf.constant(test_data)\n",
    "        # control dropout layer\n",
    "        tf_is_training = tf.placeholder(tf.bool, None)\n",
    "\n",
    "        # 创建隐藏层的回调\n",
    "        train_logits,valid_logits,test_logits,regular = layers_callback(\n",
    "            [tf_train_dataset,tf_valid_dataset,tf_test_dataset],wd,tf_is_training)\n",
    "        \n",
    "        t = tf.nn.softmax_cross_entropy_with_logits(labels=tf_train_labels, logits=train_logits)\n",
    "#         print(t.shape)\n",
    "        loss = tf.reduce_mean(tf.reduce_mean(t)+regular)\n",
    "  \n",
    "        # Optimizer.\n",
    "#         global_step = tf.Variable(0)  # count the number of steps taken.\n",
    "#         learning_rate = tf.train.exponential_decay(0.5, global_step,decay_steps=1200,decay_rate=0.5)\n",
    "#         optimizer = tf.train.GradientDescentOptimizer(learning_rate).minimize(loss, global_step=global_step)\n",
    "        optimizer = tf.train.AdamOptimizer(0.001).minimize(loss)\n",
    "\n",
    "        # Predictions for the training, validation, and test data.\n",
    "        train_prediction = tf.nn.softmax(train_logits)\n",
    "        valid_prediction = tf.nn.softmax(valid_logits)\n",
    "        test_prediction = tf.nn.softmax(test_logits)\n",
    "        \n",
    "        num_steps = 6001\n",
    "        train_acc=np.zeros(num_steps)\n",
    "        valid_acc=np.zeros(num_steps)\n",
    "        test_acc=np.zeros(num_steps)\n",
    "        losses=np.zeros(num_steps)\n",
    "        with tf.Session(graph=graph) as session:\n",
    "            tf.global_variables_initializer().run()\n",
    "            print(\"Initialized\")\n",
    "            for step in range(num_steps):\n",
    "                # Pick an offset within the training data, which has been randomized.\n",
    "                # Note: we could use better randomization across epochs.\n",
    "                offset = (step * batch_size) % (train_labels.shape[0] - batch_size)\n",
    "                #     print(offset,step)\n",
    "                # Generate a minibatch.\n",
    "                batch_data = train_data[offset:(offset + batch_size), :]\n",
    "                batch_labels = train_labels[offset:(offset + batch_size), :]\n",
    "                # Prepare a dictionary telling the session where to feed the minibatch.\n",
    "                # The key of the dictionary is the placeholder node of the graph to be fed,\n",
    "                # and the value is the numpy array to feed to it.\n",
    "                feed_dict = {tf_train_dataset : batch_data, tf_train_labels : batch_labels,tf_is_training:True}\n",
    "                _, l, predictions = session.run(\n",
    "                      [optimizer, loss, train_prediction], feed_dict=feed_dict)\n",
    "                \n",
    "                if np.isnan(l): break\n",
    "                if (step % 500 == 0):\n",
    "                    losses[step]=l\n",
    "                    train_accuracy = accuracy(predictions, batch_labels)\n",
    "                    train_acc[step]=train_accuracy\n",
    "                    valid_accuracy = accuracy(valid_prediction.eval(), valid_labels)\n",
    "                    valid_acc[step]=valid_accuracy\n",
    "                    test_accuracy = accuracy(test_prediction.eval(), test_labels)\n",
    "                    test_acc[step]=test_accuracy\n",
    "                    print(\"Minibatch loss at step %d: %f\" % (step, l))\n",
    "                    print(\"Minibatch accuracy: %.1f%%\" % train_accuracy)\n",
    "                    print(\"Validation accuracy: %.1f%%\" % valid_accuracy)\n",
    "                    print(\"Test accuracy: %.1f%%\" % test_accuracy)\n",
    "#                     break\n",
    "#         sub_axix = range(len(test_acc))\n",
    "#         ax1 = plt.subplot(1,2,1)\n",
    "#         plt.sca(ax1)\n",
    "#         plt.plot(sub_axix,train_acc,color='red',label='train accuracy')\n",
    "#         plt.plot(sub_axix,valid_acc,color='green',label='valid accuracy')\n",
    "#         plt.plot(sub_axix,test_acc,color='blue',label='test accuracy')\n",
    "#         plt.legend()\n",
    "#         ax2 = plt.subplot(1,2,2)\n",
    "#         plt.sca(ax2)\n",
    "#         plt.plot(sub_axix[:10],losses[:10],color='skyblue',label='loss')\n",
    "#         plt.legend()\n",
    "#         plt.show()"
   ]
  },
  {
   "cell_type": "code",
   "execution_count": 93,
   "metadata": {},
   "outputs": [
    {
     "name": "stdout",
     "output_type": "stream",
     "text": [
      "WARNING:tensorflow:Entity <bound method Dropout.call of <tensorflow.python.layers.core.Dropout object at 0x00000183DF1964A8>> could not be transformed and will be executed as-is. Please report this to the AutgoGraph team. When filing the bug, set the verbosity to 10 (on Linux, `export AUTOGRAPH_VERBOSITY=10`) and attach the full output. Cause: converting <bound method Dropout.call of <tensorflow.python.layers.core.Dropout object at 0x00000183DF1964A8>>: AssertionError: Bad argument number for Name: 3, expecting 4\n",
      "WARNING: Entity <bound method Dropout.call of <tensorflow.python.layers.core.Dropout object at 0x00000183DF1964A8>> could not be transformed and will be executed as-is. Please report this to the AutgoGraph team. When filing the bug, set the verbosity to 10 (on Linux, `export AUTOGRAPH_VERBOSITY=10`) and attach the full output. Cause: converting <bound method Dropout.call of <tensorflow.python.layers.core.Dropout object at 0x00000183DF1964A8>>: AssertionError: Bad argument number for Name: 3, expecting 4\n",
      "Initialized\n",
      "Minibatch loss at step 0: 1410.657227\n",
      "Minibatch accuracy: 9.4%\n",
      "Validation accuracy: 31.6%\n",
      "Test accuracy: 34.7%\n",
      "Minibatch loss at step 500: 963.703735\n",
      "Minibatch accuracy: 82.8%\n",
      "Validation accuracy: 80.9%\n",
      "Test accuracy: 87.9%\n",
      "Minibatch loss at step 1000: 955.687500\n",
      "Minibatch accuracy: 87.5%\n",
      "Validation accuracy: 81.9%\n",
      "Test accuracy: 89.0%\n",
      "Minibatch loss at step 1500: 959.057983\n",
      "Minibatch accuracy: 90.6%\n",
      "Validation accuracy: 82.3%\n",
      "Test accuracy: 89.3%\n",
      "Minibatch loss at step 2000: 947.640625\n",
      "Minibatch accuracy: 92.2%\n",
      "Validation accuracy: 82.7%\n",
      "Test accuracy: 89.9%\n",
      "Minibatch loss at step 2500: 944.683594\n",
      "Minibatch accuracy: 90.6%\n",
      "Validation accuracy: 82.8%\n",
      "Test accuracy: 89.8%\n",
      "Minibatch loss at step 3000: 946.646301\n",
      "Minibatch accuracy: 93.8%\n",
      "Validation accuracy: 82.8%\n",
      "Test accuracy: 89.9%\n"
     ]
    }
   ],
   "source": [
    "run_model_with_dropout(\n",
    "    train_dataset[:10000],train_labels[:10000],valid_dataset,valid_labels,test_dataset,test_labels,\n",
    "    layer_fullconnect_with_dropout,0.003)"
   ]
  },
  {
   "cell_type": "markdown",
   "metadata": {
    "colab_type": "text",
    "id": "-b1hTz3VWZjw"
   },
   "source": [
    "---\n",
    "Problem 4\n",
    "---------\n",
    "\n",
    "Try to get the best performance you can using a multi-layer model! The best reported test accuracy using a deep network is [97.1%](http://yaroslavvb.blogspot.com/2011/09/notmnist-dataset.html?showComment=1391023266211#c8758720086795711595).\n",
    "\n",
    "One avenue you can explore is to add multiple layers.\n",
    "\n",
    "Another one is to use learning rate decay:\n",
    "\n",
    "    global_step = tf.Variable(0)  # count the number of steps taken.\n",
    "    learning_rate = tf.train.exponential_decay(0.5, global_step, ...)\n",
    "    optimizer = tf.train.GradientDescentOptimizer(learning_rate).minimize(loss, global_step=global_step)\n",
    " \n",
    " ---\n"
   ]
  },
  {
   "cell_type": "code",
   "execution_count": 7,
   "metadata": {},
   "outputs": [],
   "source": [
    "def deep_layer_with_dropout(dataset,wd,tf_is_training):\n",
    "    # 使用3个隐层\n",
    "    nodes_1 = 4096*2\n",
    "    nodes_2 = 4096\n",
    "    nodes_3 = 4096*2\n",
    "    [tf_train_dataset,tf_valid_dataset,tf_test_dataset]=dataset\n",
    "    # Variables.\n",
    "    w1 = tf.truncated_normal([image_size * image_size, nodes_1])\n",
    "#     tf.add_to_collection('regular',tf.multiply(tf.nn.l2_loss(w1),wd))\n",
    "    weights1 = tf.Variable(w1)\n",
    "    w2 = tf.truncated_normal([nodes_1, nodes_2])\n",
    "#     tf.add_to_collection('regular',tf.multiply(tf.nn.l2_loss(w2),wd))\n",
    "    weights2 = tf.Variable(w2)\n",
    "    w3 = tf.truncated_normal([nodes_2, nodes_3])\n",
    "    weights3 = tf.Variable(w3)\n",
    "    w4 = tf.truncated_normal([nodes_3, num_labels])\n",
    "    weights4 = tf.Variable(w4)\n",
    "    biases1 = tf.Variable(tf.zeros([nodes_1]))\n",
    "    biases2 = tf.Variable(tf.zeros([nodes_2]))\n",
    "    biases3 = tf.Variable(tf.zeros([nodes_3]))\n",
    "    biases4 = tf.Variable(tf.zeros([num_labels]))\n",
    "    \n",
    "    # Hidden Layer\n",
    "#     train_hidden_layer_1 = tf.layers.dense( tf_train_dataset, units = nodes_1, activation = tf.nn.relu )\n",
    "    train_hidden_layer_1 = tf.nn.relu(tf.matmul(tf_train_dataset, weights1)+biases1)\n",
    "    train_hidden_layer_2 = tf.nn.relu(tf.matmul(train_hidden_layer_1, weights2)+biases2)\n",
    "#     train_hidden_layer_2 = tf.layers.dropout(train_hidden_layer_2,rate=0.1, training=tf_is_training)\n",
    "#     train_hidden_layer_3 = tf.nn.relu(tf.matmul(train_hidden_layer_2, weights3)+biases3)\n",
    "    train_hidden_layer_4 = tf.nn.relu(tf.matmul(train_hidden_layer_2, weights3)+biases3)\n",
    "    \n",
    "    valid_hidden_layer_1 = tf.nn.relu(tf.matmul(tf_valid_dataset, weights1)+biases1)\n",
    "    valid_hidden_layer_2 = tf.nn.relu(tf.matmul(valid_hidden_layer_1, weights2)+biases2)\n",
    "#     valid_hidden_layer_3 = tf.nn.relu(tf.matmul(valid_hidden_layer_2, weights3)+biases3)\n",
    "    valid_hidden_layer_4 = tf.nn.relu(tf.matmul(valid_hidden_layer_2, weights3)+biases3)\n",
    "    \n",
    "    test_hidden_layer_1 = tf.nn.relu(tf.matmul(tf_test_dataset, weights1)+biases1) \n",
    "    test_hidden_layer_2 = tf.nn.relu(tf.matmul(test_hidden_layer_1, weights2)+biases2)\n",
    "#     test_hidden_layer_3 = tf.nn.relu(tf.matmul(test_hidden_layer_2, weights3)+biases3)\n",
    "    test_hidden_layer_4 = tf.nn.relu(tf.matmul(test_hidden_layer_2, weights3)+biases3)\n",
    "    \n",
    "    # Training computation.\n",
    "    train_logits = tf.matmul(train_hidden_layer_4,weights4) + biases4\n",
    "    valid_logits = tf.matmul(valid_hidden_layer_4, weights4) + biases4\n",
    "    test_logits = tf.matmul(test_hidden_layer_4, weights4) + biases4\n",
    "    \n",
    "#     regular = tf.add_n(tf.get_collection(\"regular\"))\n",
    "#     regular = tf.nn.l2_loss(w1)+tf.nn.l2_loss(w2)+tf.nn.l2_loss(w3)\n",
    "    regular = 0\n",
    "    return (train_logits,valid_logits,test_logits,wd*regular)"
   ]
  },
  {
   "cell_type": "code",
   "execution_count": 8,
   "metadata": {},
   "outputs": [
    {
     "name": "stdout",
     "output_type": "stream",
     "text": [
      "defaultdict(<class 'int'>, {2: 40000, 5: 40000, 7: 40000, 8: 40000, 9: 40000, 3: 40000, 6: 40000, 4: 40000, 1: 40000, 0: 40000})\n",
      "label 0 count:40000, pecentage: 0.100\n",
      "label 1 count:40000, pecentage: 0.100\n",
      "label 2 count:40000, pecentage: 0.100\n",
      "label 3 count:40000, pecentage: 0.100\n",
      "label 4 count:40000, pecentage: 0.100\n",
      "label 5 count:40000, pecentage: 0.100\n",
      "label 6 count:40000, pecentage: 0.100\n",
      "label 7 count:40000, pecentage: 0.100\n",
      "label 8 count:40000, pecentage: 0.100\n",
      "label 9 count:40000, pecentage: 0.100\n"
     ]
    }
   ],
   "source": [
    "from collections import defaultdict\n",
    "#查看样本种类是否均衡\n",
    "def check_balance():\n",
    "    train_cnt = len(train_labels)\n",
    "#     print(train_labels[:10])\n",
    "    label_count=defaultdict(int)\n",
    "    for label in train_labels:\n",
    "        index = np.argwhere(label)\n",
    "        label_count[index[0][0]]+=1\n",
    "    print(label_count)\n",
    "    for label in range(10):\n",
    "        print(\"label %d count:%d, pecentage: %.3f\" % (label,label_count[label],label_count[label]*1.0/train_cnt))\n",
    "              \n",
    "check_balance()"
   ]
  },
  {
   "cell_type": "code",
   "execution_count": 8,
   "metadata": {},
   "outputs": [
    {
     "name": "stdout",
     "output_type": "stream",
     "text": [
      "WARNING:tensorflow:From <ipython-input-6-ced924a57133>:46: softmax_cross_entropy_with_logits (from tensorflow.python.ops.nn_ops) is deprecated and will be removed in a future version.\n",
      "Instructions for updating:\n",
      "\n",
      "Future major versions of TensorFlow will allow gradients to flow\n",
      "into the labels input on backprop by default.\n",
      "\n",
      "See `tf.nn.softmax_cross_entropy_with_logits_v2`.\n",
      "\n",
      "Initialized\n",
      "Minibatch loss at step 0: 2111297.500000\n",
      "Minibatch accuracy: 11.7%\n",
      "Validation accuracy: 20.3%\n",
      "Test accuracy: 21.9%\n",
      "Minibatch loss at step 500: 104270.632812\n",
      "Minibatch accuracy: 84.4%\n",
      "Validation accuracy: 83.2%\n",
      "Test accuracy: 88.8%\n",
      "Minibatch loss at step 1000: 81650.835938\n",
      "Minibatch accuracy: 79.7%\n",
      "Validation accuracy: 83.7%\n",
      "Test accuracy: 89.2%\n",
      "Minibatch loss at step 1500: 64506.429688\n",
      "Minibatch accuracy: 82.0%\n",
      "Validation accuracy: 85.4%\n",
      "Test accuracy: 90.6%\n",
      "Minibatch loss at step 2000: 30587.343750\n",
      "Minibatch accuracy: 87.5%\n",
      "Validation accuracy: 86.1%\n",
      "Test accuracy: 91.5%\n",
      "Minibatch loss at step 2500: 22427.207031\n",
      "Minibatch accuracy: 87.5%\n",
      "Validation accuracy: 85.9%\n",
      "Test accuracy: 91.9%\n",
      "Minibatch loss at step 3000: 26242.650391\n",
      "Minibatch accuracy: 86.7%\n",
      "Validation accuracy: 86.4%\n",
      "Test accuracy: 91.5%\n",
      "Minibatch loss at step 3500: 17392.908203\n",
      "Minibatch accuracy: 87.5%\n",
      "Validation accuracy: 86.9%\n",
      "Test accuracy: 91.8%\n",
      "Minibatch loss at step 4000: 10589.402344\n",
      "Minibatch accuracy: 93.0%\n",
      "Validation accuracy: 86.5%\n",
      "Test accuracy: 91.9%\n",
      "Minibatch loss at step 4500: 10633.054688\n",
      "Minibatch accuracy: 89.8%\n",
      "Validation accuracy: 86.7%\n",
      "Test accuracy: 92.0%\n",
      "Minibatch loss at step 5000: 19203.378906\n",
      "Minibatch accuracy: 91.4%\n",
      "Validation accuracy: 86.9%\n",
      "Test accuracy: 91.9%\n",
      "Minibatch loss at step 5500: 12521.137695\n",
      "Minibatch accuracy: 93.0%\n",
      "Validation accuracy: 86.8%\n",
      "Test accuracy: 92.4%\n",
      "Minibatch loss at step 6000: 6270.140625\n",
      "Minibatch accuracy: 96.1%\n",
      "Validation accuracy: 86.9%\n",
      "Test accuracy: 91.8%\n"
     ]
    }
   ],
   "source": [
    "run_model_with_dropout(\n",
    "    train_dataset,train_labels,valid_dataset,valid_labels,test_dataset,test_labels,\n",
    "    deep_layer_with_dropout,0.003)"
   ]
  },
  {
   "cell_type": "code",
   "execution_count": null,
   "metadata": {},
   "outputs": [],
   "source": []
  }
 ],
 "metadata": {
  "colab": {
   "default_view": {},
   "name": "3_regularization.ipynb",
   "provenance": [],
   "toc_visible": true,
   "version": "0.3.2",
   "views": {}
  },
  "kernelspec": {
   "display_name": "Python 3",
   "language": "python",
   "name": "python3"
  },
  "language_info": {
   "codemirror_mode": {
    "name": "ipython",
    "version": 3
   },
   "file_extension": ".py",
   "mimetype": "text/x-python",
   "name": "python",
   "nbconvert_exporter": "python",
   "pygments_lexer": "ipython3",
   "version": "3.6.5"
  }
 },
 "nbformat": 4,
 "nbformat_minor": 1
}
