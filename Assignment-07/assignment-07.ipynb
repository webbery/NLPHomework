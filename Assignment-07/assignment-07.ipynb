{
 "cells": [
  {
   "cell_type": "markdown",
   "metadata": {},
   "source": [
    "## Assignment-07 First Step of using machine learning and models."
   ]
  },
  {
   "cell_type": "markdown",
   "metadata": {},
   "source": [
    "![](https://github.com/Computing-Intelligence/jupyters_and_slides/raw/master/entrance-test/images/kkb-ai.png)"
   ]
  },
  {
   "cell_type": "code",
   "execution_count": 1,
   "metadata": {},
   "outputs": [],
   "source": [
    "fname = '/Users/gaominquan/Downloads/sqlResult_1558435 2.csv'"
   ]
  },
  {
   "cell_type": "code",
   "execution_count": 2,
   "metadata": {},
   "outputs": [],
   "source": [
    "import pandas as pd"
   ]
  },
  {
   "cell_type": "code",
   "execution_count": 3,
   "metadata": {},
   "outputs": [],
   "source": [
    "content = pd.read_csv(fname, encoding='gb18030')"
   ]
  },
  {
   "cell_type": "code",
   "execution_count": 4,
   "metadata": {},
   "outputs": [
    {
     "data": {
      "text/html": [
       "<div>\n",
       "<style scoped>\n",
       "    .dataframe tbody tr th:only-of-type {\n",
       "        vertical-align: middle;\n",
       "    }\n",
       "\n",
       "    .dataframe tbody tr th {\n",
       "        vertical-align: top;\n",
       "    }\n",
       "\n",
       "    .dataframe thead th {\n",
       "        text-align: right;\n",
       "    }\n",
       "</style>\n",
       "<table border=\"1\" class=\"dataframe\">\n",
       "  <thead>\n",
       "    <tr style=\"text-align: right;\">\n",
       "      <th></th>\n",
       "      <th>id</th>\n",
       "      <th>author</th>\n",
       "      <th>source</th>\n",
       "      <th>content</th>\n",
       "      <th>feature</th>\n",
       "      <th>title</th>\n",
       "      <th>url</th>\n",
       "    </tr>\n",
       "  </thead>\n",
       "  <tbody>\n",
       "    <tr>\n",
       "      <th>0</th>\n",
       "      <td>89617</td>\n",
       "      <td>NaN</td>\n",
       "      <td>快科技@http://www.kkj.cn/</td>\n",
       "      <td>此外，自本周（6月12日）起，除小米手机6等15款机型外，其余机型已暂停更新发布（含开发版/...</td>\n",
       "      <td>{\"type\":\"科技\",\"site\":\"cnbeta\",\"commentNum\":\"37\"...</td>\n",
       "      <td>小米MIUI 9首批机型曝光：共计15款</td>\n",
       "      <td>http://www.cnbeta.com/articles/tech/623597.htm</td>\n",
       "    </tr>\n",
       "    <tr>\n",
       "      <th>1</th>\n",
       "      <td>89616</td>\n",
       "      <td>NaN</td>\n",
       "      <td>快科技@http://www.kkj.cn/</td>\n",
       "      <td>骁龙835作为唯一通过Windows 10桌面平台认证的ARM处理器，高通强调，不会因为只考...</td>\n",
       "      <td>{\"type\":\"科技\",\"site\":\"cnbeta\",\"commentNum\":\"15\"...</td>\n",
       "      <td>骁龙835在Windows 10上的性能表现有望改善</td>\n",
       "      <td>http://www.cnbeta.com/articles/tech/623599.htm</td>\n",
       "    </tr>\n",
       "    <tr>\n",
       "      <th>2</th>\n",
       "      <td>89615</td>\n",
       "      <td>NaN</td>\n",
       "      <td>快科技@http://www.kkj.cn/</td>\n",
       "      <td>此前的一加3T搭载的是3400mAh电池，DashCharge快充规格为5V/4A。\\r\\n...</td>\n",
       "      <td>{\"type\":\"科技\",\"site\":\"cnbeta\",\"commentNum\":\"18\"...</td>\n",
       "      <td>一加手机5细节曝光：3300mAh、充半小时用1天</td>\n",
       "      <td>http://www.cnbeta.com/articles/tech/623601.htm</td>\n",
       "    </tr>\n",
       "    <tr>\n",
       "      <th>3</th>\n",
       "      <td>89614</td>\n",
       "      <td>NaN</td>\n",
       "      <td>新华社</td>\n",
       "      <td>这是6月18日在葡萄牙中部大佩德罗冈地区拍摄的被森林大火烧毁的汽车。新华社记者张立云摄\\r\\n</td>\n",
       "      <td>{\"type\":\"国际新闻\",\"site\":\"环球\",\"commentNum\":\"0\",\"j...</td>\n",
       "      <td>葡森林火灾造成至少62人死亡 政府宣布进入紧急状态（组图）</td>\n",
       "      <td>http://world.huanqiu.com/hot/2017-06/10866126....</td>\n",
       "    </tr>\n",
       "    <tr>\n",
       "      <th>4</th>\n",
       "      <td>89613</td>\n",
       "      <td>胡淑丽_MN7479</td>\n",
       "      <td>深圳大件事</td>\n",
       "      <td>（原标题：44岁女子跑深圳约会网友被拒，暴雨中裸身奔走……）\\r\\n@深圳交警微博称：昨日清...</td>\n",
       "      <td>{\"type\":\"新闻\",\"site\":\"网易热门\",\"commentNum\":\"978\",...</td>\n",
       "      <td>44岁女子约网友被拒暴雨中裸奔 交警为其披衣相随</td>\n",
       "      <td>http://news.163.com/17/0618/00/CN617P3Q0001875...</td>\n",
       "    </tr>\n",
       "  </tbody>\n",
       "</table>\n",
       "</div>"
      ],
      "text/plain": [
       "      id      author                  source  \\\n",
       "0  89617         NaN  快科技@http://www.kkj.cn/   \n",
       "1  89616         NaN  快科技@http://www.kkj.cn/   \n",
       "2  89615         NaN  快科技@http://www.kkj.cn/   \n",
       "3  89614         NaN                     新华社   \n",
       "4  89613  胡淑丽_MN7479                   深圳大件事   \n",
       "\n",
       "                                             content  \\\n",
       "0  此外，自本周（6月12日）起，除小米手机6等15款机型外，其余机型已暂停更新发布（含开发版/...   \n",
       "1  骁龙835作为唯一通过Windows 10桌面平台认证的ARM处理器，高通强调，不会因为只考...   \n",
       "2  此前的一加3T搭载的是3400mAh电池，DashCharge快充规格为5V/4A。\\r\\n...   \n",
       "3    这是6月18日在葡萄牙中部大佩德罗冈地区拍摄的被森林大火烧毁的汽车。新华社记者张立云摄\\r\\n   \n",
       "4  （原标题：44岁女子跑深圳约会网友被拒，暴雨中裸身奔走……）\\r\\n@深圳交警微博称：昨日清...   \n",
       "\n",
       "                                             feature  \\\n",
       "0  {\"type\":\"科技\",\"site\":\"cnbeta\",\"commentNum\":\"37\"...   \n",
       "1  {\"type\":\"科技\",\"site\":\"cnbeta\",\"commentNum\":\"15\"...   \n",
       "2  {\"type\":\"科技\",\"site\":\"cnbeta\",\"commentNum\":\"18\"...   \n",
       "3  {\"type\":\"国际新闻\",\"site\":\"环球\",\"commentNum\":\"0\",\"j...   \n",
       "4  {\"type\":\"新闻\",\"site\":\"网易热门\",\"commentNum\":\"978\",...   \n",
       "\n",
       "                           title  \\\n",
       "0           小米MIUI 9首批机型曝光：共计15款   \n",
       "1     骁龙835在Windows 10上的性能表现有望改善   \n",
       "2      一加手机5细节曝光：3300mAh、充半小时用1天   \n",
       "3  葡森林火灾造成至少62人死亡 政府宣布进入紧急状态（组图）   \n",
       "4       44岁女子约网友被拒暴雨中裸奔 交警为其披衣相随   \n",
       "\n",
       "                                                 url  \n",
       "0     http://www.cnbeta.com/articles/tech/623597.htm  \n",
       "1     http://www.cnbeta.com/articles/tech/623599.htm  \n",
       "2     http://www.cnbeta.com/articles/tech/623601.htm  \n",
       "3  http://world.huanqiu.com/hot/2017-06/10866126....  \n",
       "4  http://news.163.com/17/0618/00/CN617P3Q0001875...  "
      ]
     },
     "execution_count": 4,
     "metadata": {},
     "output_type": "execute_result"
    }
   ],
   "source": [
    "content.head()"
   ]
  },
  {
   "cell_type": "code",
   "execution_count": 5,
   "metadata": {},
   "outputs": [],
   "source": [
    "xinhua_news = content[content['source'] == '新华社']"
   ]
  },
  {
   "cell_type": "code",
   "execution_count": 6,
   "metadata": {},
   "outputs": [
    {
     "data": {
      "text/plain": [
       "0.8778051801676133"
      ]
     },
     "execution_count": 6,
     "metadata": {},
     "output_type": "execute_result"
    }
   ],
   "source": [
    "len(xinhua_news) / len(content)"
   ]
  },
  {
   "cell_type": "markdown",
   "metadata": {},
   "source": [
    "### 任务描述"
   ]
  },
  {
   "cell_type": "markdown",
   "metadata": {},
   "source": [
    "报社等相关的机构，往往会遇到一个问题，就是别人家的机构使用自己的文章但是并没有标明来源。 在本次任务中，我们将解决新华社的文章被抄袭引用的问题。"
   ]
  },
  {
   "cell_type": "markdown",
   "metadata": {},
   "source": [
    "给定的数据集合中，存在一些新闻预料，该预料是来自新华社，但是其来源并不是新华社，请设计技巧学习模型解决该问题。"
   ]
  },
  {
   "cell_type": "markdown",
   "metadata": {},
   "source": [
    "![](https://timgsa.baidu.com/timg?image&quality=80&size=b9999_10000&sec=1566105348906&di=ee9a2de91207767364853d4decc6cca3&imgtype=0&src=http%3A%2F%2Fmmbiz.qpic.cn%2Fmmbiz_png%2FTicO2kbP6Ao5sCsSQDpehZiczLdC6hDCNvoicjcOCEKX2bLxBc9gVOw28zHyFibfIWq9ceRibP6HDTKReGkr6YyTfQQ%2F640%3Fwx_fmt%3Dpng)"
   ]
  },
  {
   "cell_type": "markdown",
   "metadata": {},
   "source": [
    "### Step1: 数据分析"
   ]
  },
  {
   "cell_type": "markdown",
   "metadata": {},
   "source": [
    "请在课程的GitHub中下载数据集，然后使用pandas进行读取。"
   ]
  },
  {
   "cell_type": "code",
   "execution_count": 1,
   "metadata": {},
   "outputs": [],
   "source": [
    "# it‘s your time\n",
    "import pandas as pd\n",
    "content = pd.read_csv('./sqlResult_1558435.csv', encoding='gb18030')"
   ]
  },
  {
   "cell_type": "markdown",
   "metadata": {},
   "source": [
    "### Step2: 数据预处理"
   ]
  },
  {
   "cell_type": "markdown",
   "metadata": {},
   "source": [
    "将pandas中的数据，依据是否是新华社的文章，请改变成新的数据dataframe: <content, y>, 其中，content是文章内容，y是0或者1. 你可能要使用到pandas的dataframe操作。https://pandas.pydata.org/pandas-docs/stable/reference/api/pandas.DataFrame.apply.html"
   ]
  },
  {
   "cell_type": "code",
   "execution_count": 2,
   "metadata": {},
   "outputs": [
    {
     "name": "stdout",
     "output_type": "stream",
     "text": [
      "                                                 content      y\n",
      "0      此外，自本周（6月12日）起，除小米手机6等15款机型外，其余机型已暂停更新发布（含开发版/...  False\n",
      "1      骁龙835作为唯一通过Windows 10桌面平台认证的ARM处理器，高通强调，不会因为只考...  False\n",
      "2      此前的一加3T搭载的是3400mAh电池，DashCharge快充规格为5V/4A。\\r\\n...  False\n",
      "3        这是6月18日在葡萄牙中部大佩德罗冈地区拍摄的被森林大火烧毁的汽车。新华社记者张立云摄\\r\\n   True\n",
      "4      （原标题：44岁女子跑深圳约会网友被拒，暴雨中裸身奔走……）\\r\\n@深圳交警微博称：昨日清...  False\n",
      "5      　　受到A股被纳入MSCI指数的利好消息刺激，A股市场从周三开始再度上演龙马行情，周四上午金...  False\n",
      "6      虽然至今夏普智能手机在市场上无法排得上号，已经完全没落，并于 2013 年退出中国市场，但是...  False\n",
      "7      　　沙漠雄鹰：震荡有利消化套牢筹码\\r\\n　　周四开盘上证50在银行券商大蓝筹带动下一度涨近...  False\n",
      "8      （原标题：武汉警方一下子抓了808人，还都是俊男靓女！原来他们每天偷偷摸摸干这事！）\\r\\n...  False\n",
      "9      　　6月21日，A股纳入MSCI指数尘埃落定，但当天被寄予厚望的券商股并未扛起反弹大旗。22...  False\n",
      "10     　　证券时报网（www.stcn.com）06月23日讯\\r\\n　　据上证报道，6月初以来，...  False\n",
      "11     ?\\r\\n　　巨丰早评：市场将再次探底\\r\\n　　【巨丰观点】\\r\\n　　周四大盘冲高回落，...  False\n",
      "12     中新网6月19日电 据外媒报道，美国底特律一名男子1976年因为一根头发被定谋杀罪，监禁41...  False\n",
      "13     　　曹先生：风格转换前的阵痛\\r\\n　　今日早盘两地低开，之后一度震荡走高，领涨的仍然是上证...  False\n",
      "14     6月21日，MSCI在官网发布公告称，从明年6月起将中国A股纳入MSCI新兴市场指数和MSC...  False\n",
      "15     　　中国证券网讯（记者 费天元）沪深两市周五临近午盘出现快速跳水，沪指连续跌穿5日、10日及...  False\n",
      "16     九成以上的源包用逐位对应的方式构建，未来版本的 Debian 还将提供验证包的工具和元数据；...  False\n",
      "17     国歌法草案首次提请最高立法机关审议\\r\\n点击图片进入下一页\\r\\n新闻：十二届全国人大常委...  False\n",
      "18     　　中证网讯 （本报记者 张怡）今日，三板做市指数继续低开下行，盘中最低触及1057.91点...  False\n",
      "19     　　提示声明：\\r\\n　　本文涉及的行业及个股分析来源于券商研究报告，仅为分析人士对该行业及...  False\n",
      "20     　　原标题：叙利亚被“袭机”事件惹怒俄罗斯 警告将瞄准美战机\\r\\n　　海外网6月19日电 ...  False\n",
      "21     　　提示声明：\\r\\n　　本文涉及的行业及个股分析来源于券商研究报告，仅为分析人士对该行业及...  False\n",
      "22     就在这几天，一位微博名为“摩卡 RQ ”的手机、芯片、移动互联网三界知名独立评论人爆料称，O...  False\n",
      "23     　　中证网讯 （本报记者 张怡）与此前两日蓝筹股强势格局不同，周五，A股市场主要指数低开之后...  False\n",
      "24     北京时间6月20日，江苏苏宁足球俱乐部发布了足协杯第四轮江苏苏宁易购队主场对阵河南建业队的官...  False\n",
      "25     当地时间2017年6月17日，土耳其马尼萨省，在土耳其第1步兵训练大队司令部军营，590名土...  False\n",
      "26     今年3月份，王劲从百度自动驾驶事业部任上离职，随后创办景驰科技。在随后的日子里，景驰很快组建...  False\n",
      "27     英国与欧盟的“脱欧”谈判于19日正式开始。然而此时，英国首相特雷莎·梅正面临着空前的政治压力...  False\n",
      "28     中超联赛第13轮比赛已经全部结束，这轮比赛中最让人觉得结果有些出乎意料的，莫过于卡佩罗执教江...  False\n",
      "29     　　文章导读： 供应商围堵追债、20多位高管离职、上千人被裁员、孤注一掷史上最大规模的降价…...  False\n",
      "...                                                  ...    ...\n",
      "89581  新华社照片，外代，2017年6月7日\\n（外代二线）足球——世预赛：葡萄牙备战\\n6月6日，...   True\n",
      "89582  新华社照片，外代，2017年6月7日\\n（外代二线）足球——世预赛：葡萄牙备战\\n6月6日，...   True\n",
      "89583  新华社照片，外代，2017年6月7日\\n（外代二线）足球——世预赛：葡萄牙备战\\n6月6日，...   True\n",
      "89584  新华社照片，外代，2017年6月7日\\n（外代二线）足球——世预赛：葡萄牙备战\\n6月6日，...   True\n",
      "89585  新华社照片，外代，2017年6月7日\\n（外代二线）足球——世预赛：葡萄牙备战\\n6月6日，...   True\n",
      "89586  新华社照片，外代，2017年6月7日\\n（外代二线）足球——世预赛：葡萄牙备战\\n6月6日，...   True\n",
      "89587  新华社照片，外代，2017年6月7日\\n（外代二线）蚕丝生产\\n6月6日，在印度特里普拉邦特...   True\n",
      "89588  新华社照片，外代，2017年6月7日\\n（外代二线）蚕丝生产\\n6月6日，在印度特里普拉邦特...   True\n",
      "89589  新华社照片，外代，2017年6月7日\\n（外代二线）蚕丝生产\\n5月30日，在印度特里普拉邦...   True\n",
      "89590  新华社照片，外代，2017年6月7日\\n（外代二线）蚕丝生产\\n6月6日，在印度特里普拉邦特...   True\n",
      "89591  新华社照片，外代，2017年6月7日\\n（外代二线）蚕丝生产\\n5月30日，在印度特里普拉邦...   True\n",
      "89592  \\n\\n2017年4月27日，在首尔光化门广场，民众在集会上手举反“萨德”标语。（新华社记者...   True\n",
      "89593  \\n新华社巴格达6月6日电（记者魏玉栋　程帅朋）伊拉克西部安巴尔省一处市场6日晚发生自杀式爆...   True\n",
      "89594  新华社照片，外代，2017年6月7日\\n（外代二线）足球——国际友谊赛：德国平丹麦\\n6月6...   True\n",
      "89595  新华社照片，外代，2017年6月7日\\n（外代二线）足球——国际友谊赛：德国平丹麦\\n6月6...   True\n",
      "89596  新华社照片，外代，2017年6月7日\\n（外代二线）足球——国际友谊赛：德国平丹麦\\n6月6...   True\n",
      "89597  新华社照片，外代，2017年6月7日\\n（外代二线）足球——国际友谊赛：德国平丹麦\\n6月6...   True\n",
      "89598  新华社照片，外代，2017年6月7日\\n（外代二线）足球——国际友谊赛：德国平丹麦\\n6月6...   True\n",
      "89599  新华社照片，外代，2017年6月7日\\n（外代二线）足球——国际友谊赛：德国平丹麦\\n6月6...   True\n",
      "89600  新华社照片，外代，2017年6月7日\\n（外代二线）足球——国际友谊赛：德国平丹麦\\n6月6...   True\n",
      "89601  新华社照片，外代，2017年6月7日\\n（外代二线）足球——国际友谊赛：德国平丹麦\\n6月6...   True\n",
      "89602  新华社照片，外代，2017年6月7日\\n（外代二线）足球——国际友谊赛：德国平丹麦\\n6月6...   True\n",
      "89603  新华社照片，北京，2017年6月7日\\n电影《血战湘江》举行清华大学巡映活动\\n6月6日，电...   True\n",
      "89604  新华社照片，北京，2017年6月7日\\n电影《血战湘江》举行清华大学巡映活动\\n6月6日，清...   True\n",
      "89605  新华社照片，北京，2017年6月7日\\n电影《血战湘江》举行清华大学巡映活动\\n6月6日，电...   True\n",
      "89606  新华社照片，多伦多，2017年6月7日\\n（体育）（2）冰球——国家女子冰球队海外选秀在多伦...   True\n",
      "89607  新华社兰州6月3日电（王衡、徐丹）记者从甘肃省交通运输厅获悉，甘肃近日集中开建高速公路、普通...   True\n",
      "89608  \\n\\n2017年5月29日，在法国巴黎郊外的凡尔赛宫，法国总统马克龙出席新闻发布会。（新华...   True\n",
      "89609  \\n\\n2017年5月25日，在美国马萨诸塞州剑桥市，哈佛大学毕业生在毕业典礼上欢呼。（新华...   True\n",
      "89610  　　新华社德国杜塞尔多夫６月６日电题：乒乓女球迷　\\n　　新华社记者王子江、张寒\\n　　熊老...   True\n",
      "\n",
      "[87054 rows x 2 columns]\n"
     ]
    }
   ],
   "source": [
    "# it's your time\n",
    "data = pd.DataFrame({'content':content['content'],'y':content['source']=='新华社'})\n",
    "data=data.dropna(axis=0)\n",
    "print(data)"
   ]
  },
  {
   "cell_type": "markdown",
   "metadata": {},
   "source": [
    "### Step3: 使用tfidf进行文本向量化"
   ]
  },
  {
   "cell_type": "markdown",
   "metadata": {},
   "source": [
    "参考 https://scikit-learn.org/stable/modules/generated/sklearn.feature_extraction.text.TfidfVectorizer.html 对"
   ]
  },
  {
   "cell_type": "markdown",
   "metadata": {},
   "source": [
    "对文本进行向量化"
   ]
  },
  {
   "cell_type": "code",
   "execution_count": 3,
   "metadata": {
    "scrolled": false
   },
   "outputs": [
    {
     "name": "stderr",
     "output_type": "stream",
     "text": [
      "Building prefix dict from the default dictionary ...\n",
      "Loading model from cache C:\\Users\\webberg\\AppData\\Local\\Temp\\jieba.cache\n",
      "Loading model cost 0.953 seconds.\n",
      "Prefix dict has been built succesfully.\n"
     ]
    }
   ],
   "source": [
    "from sklearn.feature_extraction.text import TfidfVectorizer\n",
    "import cut_sentence as cs\n",
    "from collections import defaultdict\n",
    "\n",
    "#1. 统计词频\n",
    "tf=defaultdict(int)\n",
    "for index,row in data.iterrows():\n",
    "    words_list = cs.segment(row['content'],type=\"arr\")\n",
    "    for word in words_list:\n",
    "        tf[word]+=1\n",
    "#     break\n",
    "# print(tf)\n"
   ]
  },
  {
   "cell_type": "code",
   "execution_count": 4,
   "metadata": {},
   "outputs": [
    {
     "name": "stdout",
     "output_type": "stream",
     "text": [
      "257913 ('体验版', 1) ('的', 703820)\n"
     ]
    }
   ],
   "source": [
    "#2. 查看高频和低频词分布情况\n",
    "result = sorted(tf.items(),key=lambda item: item[1])\n",
    "print(len(result),result[0],result[len(result)-1])\n",
    "# new_list = list(zip(*result))\n",
    "plot_y=[item[1] for item in result]\n",
    "# print(plot_y)\n",
    "# for item in tf:\n",
    "#     if item[1]<30 or item[1]>"
   ]
  },
  {
   "cell_type": "code",
   "execution_count": 6,
   "metadata": {},
   "outputs": [
    {
     "data": {
      "image/png": "[encoded data removed]",
      "text/plain": [
       "<Figure size 432x288 with 1 Axes>"
      ]
     },
     "metadata": {
      "needs_background": "light"
     },
     "output_type": "display_data"
    }
   ],
   "source": [
    "import matplotlib.pyplot as plt\n",
    "\n",
    "plt.ylabel('word count')\n",
    "start = 0\n",
    "end = 250000\n",
    "plt.plot(range(end-start), plot_y[start:end],'ro')\n",
    "plt.show()"
   ]
  },
  {
   "cell_type": "code",
   "execution_count": 5,
   "metadata": {},
   "outputs": [
    {
     "name": "stdout",
     "output_type": "stream",
     "text": [
      "19708\n"
     ]
    }
   ],
   "source": [
    "#3. 根据上图挑选词频大于25小于200的词作为feature\n",
    "# 构建vocabulary\n",
    "vocabulary = defaultdict(int)\n",
    "index = 0\n",
    "for item in result:\n",
    "    if item[1]>50 and item[1]<500:\n",
    "        vocabulary[item[0]]=index\n",
    "        index+=1\n",
    "print(len(vocabulary))"
   ]
  },
  {
   "cell_type": "code",
   "execution_count": 6,
   "metadata": {
    "scrolled": true
   },
   "outputs": [
    {
     "name": "stdout",
     "output_type": "stream",
     "text": [
      "  (0, 19597)\t0.2437634748366421\n",
      "  (0, 19566)\t0.23861843059768398\n",
      "  (0, 17290)\t0.29544149939418257\n",
      "  (0, 16777)\t0.5261966688688238\n",
      "  (0, 15483)\t0.2714912319708748\n",
      "  (0, 12270)\t0.5908829987883651\n",
      "  (0, 4278)\t0.31084046024856554\n"
     ]
    }
   ],
   "source": [
    "#4. 使用tfidf向量化\n",
    "from scipy.sparse import dok_matrix\n",
    "\n",
    "def flatten2line(doc):\n",
    "    #把一篇文档压成一行\n",
    "    raw_doc=\"\"\n",
    "    for sentence in doc:\n",
    "        raw_doc+=sentence\n",
    "        raw_doc+=\" \"\n",
    "#     print(raw_doc)\n",
    "    return raw_doc\n",
    "\n",
    "docs=[]\n",
    "for index,row in data.iterrows():\n",
    "#     if index>1: break\n",
    "    doc = cs.cut_and_segment(row['content'])\n",
    "    if len(doc)==0:\n",
    "#         print(index,row['content'],doc)\n",
    "        docs.append(\"\")\n",
    "        continue\n",
    "#    print(doc)\n",
    "    doc = flatten2line(doc)\n",
    "    docs.append(doc)\n",
    "\n",
    "tfidf = TfidfVectorizer(max_features=len(vocabulary),vocabulary=vocabulary)\n",
    "vectorize = tfidf.fit_transform(docs)\n",
    "    \n",
    "print(vectorize[0,:])\n",
    "# plt.ylabel('valid feature count')\n",
    "# plt.plot(range(len(simple_count)), sorted(simple_count),'ro')\n",
    "# plt.show()"
   ]
  },
  {
   "cell_type": "code",
   "execution_count": 7,
   "metadata": {},
   "outputs": [
    {
     "name": "stdout",
     "output_type": "stream",
     "text": [
      "  (0, 19623)\t0.10798893531226042\n",
      "  (0, 19365)\t0.10932131631967482\n",
      "  (0, 19180)\t0.22459102161777889\n",
      "  (0, 18963)\t0.1089898909597632\n",
      "  (0, 18844)\t0.10816654312601051\n",
      "  (0, 18445)\t0.11156931047044229\n",
      "  (0, 18138)\t0.12665010921878597\n",
      "  (0, 18137)\t0.24439016307903602\n",
      "  (0, 17823)\t0.12053001877363398\n",
      "  (0, 17290)\t0.13056398453287138\n",
      "  (0, 17052)\t0.11515128841749896\n",
      "  (0, 16634)\t0.1211957517810758\n",
      "  (0, 16060)\t0.11778369823249121\n",
      "  (0, 15839)\t0.13073437972004825\n",
      "  (0, 15697)\t0.12062352197801704\n",
      "  (0, 15298)\t0.1194468183186141\n",
      "  (0, 15145)\t0.12347854344120812\n",
      "  (0, 14973)\t0.12034456073440049\n",
      "  (0, 9993)\t0.3887292552624107\n",
      "  (0, 9602)\t0.14379728081014165\n",
      "  (0, 6949)\t0.15300429203489738\n",
      "  (0, 5210)\t0.3035209600045827\n",
      "  (0, 1167)\t0.6146502557024905\n",
      "                                                 content      y  \\\n",
      "0      此外，自本周（6月12日）起，除小米手机6等15款机型外，其余机型已暂停更新发布（含开发版/...  False   \n",
      "1      骁龙835作为唯一通过Windows 10桌面平台认证的ARM处理器，高通强调，不会因为只考...  False   \n",
      "2      此前的一加3T搭载的是3400mAh电池，DashCharge快充规格为5V/4A。\\r\\n...  False   \n",
      "3        这是6月18日在葡萄牙中部大佩德罗冈地区拍摄的被森林大火烧毁的汽车。新华社记者张立云摄\\r\\n   True   \n",
      "4      （原标题：44岁女子跑深圳约会网友被拒，暴雨中裸身奔走……）\\r\\n@深圳交警微博称：昨日清...  False   \n",
      "5      　　受到A股被纳入MSCI指数的利好消息刺激，A股市场从周三开始再度上演龙马行情，周四上午金...  False   \n",
      "6      虽然至今夏普智能手机在市场上无法排得上号，已经完全没落，并于 2013 年退出中国市场，但是...  False   \n",
      "7      　　沙漠雄鹰：震荡有利消化套牢筹码\\r\\n　　周四开盘上证50在银行券商大蓝筹带动下一度涨近...  False   \n",
      "8      （原标题：武汉警方一下子抓了808人，还都是俊男靓女！原来他们每天偷偷摸摸干这事！）\\r\\n...  False   \n",
      "9      　　6月21日，A股纳入MSCI指数尘埃落定，但当天被寄予厚望的券商股并未扛起反弹大旗。22...  False   \n",
      "10     　　证券时报网（www.stcn.com）06月23日讯\\r\\n　　据上证报道，6月初以来，...  False   \n",
      "11     ?\\r\\n　　巨丰早评：市场将再次探底\\r\\n　　【巨丰观点】\\r\\n　　周四大盘冲高回落，...  False   \n",
      "12     中新网6月19日电 据外媒报道，美国底特律一名男子1976年因为一根头发被定谋杀罪，监禁41...  False   \n",
      "13     　　曹先生：风格转换前的阵痛\\r\\n　　今日早盘两地低开，之后一度震荡走高，领涨的仍然是上证...  False   \n",
      "14     6月21日，MSCI在官网发布公告称，从明年6月起将中国A股纳入MSCI新兴市场指数和MSC...  False   \n",
      "15     　　中国证券网讯（记者 费天元）沪深两市周五临近午盘出现快速跳水，沪指连续跌穿5日、10日及...  False   \n",
      "16     九成以上的源包用逐位对应的方式构建，未来版本的 Debian 还将提供验证包的工具和元数据；...  False   \n",
      "17     国歌法草案首次提请最高立法机关审议\\r\\n点击图片进入下一页\\r\\n新闻：十二届全国人大常委...  False   \n",
      "18     　　中证网讯 （本报记者 张怡）今日，三板做市指数继续低开下行，盘中最低触及1057.91点...  False   \n",
      "19     　　提示声明：\\r\\n　　本文涉及的行业及个股分析来源于券商研究报告，仅为分析人士对该行业及...  False   \n",
      "20     　　原标题：叙利亚被“袭机”事件惹怒俄罗斯 警告将瞄准美战机\\r\\n　　海外网6月19日电 ...  False   \n",
      "21     　　提示声明：\\r\\n　　本文涉及的行业及个股分析来源于券商研究报告，仅为分析人士对该行业及...  False   \n",
      "22     就在这几天，一位微博名为“摩卡 RQ ”的手机、芯片、移动互联网三界知名独立评论人爆料称，O...  False   \n",
      "23     　　中证网讯 （本报记者 张怡）与此前两日蓝筹股强势格局不同，周五，A股市场主要指数低开之后...  False   \n",
      "24     北京时间6月20日，江苏苏宁足球俱乐部发布了足协杯第四轮江苏苏宁易购队主场对阵河南建业队的官...  False   \n",
      "25     当地时间2017年6月17日，土耳其马尼萨省，在土耳其第1步兵训练大队司令部军营，590名土...  False   \n",
      "26     今年3月份，王劲从百度自动驾驶事业部任上离职，随后创办景驰科技。在随后的日子里，景驰很快组建...  False   \n",
      "27     英国与欧盟的“脱欧”谈判于19日正式开始。然而此时，英国首相特雷莎·梅正面临着空前的政治压力...  False   \n",
      "28     中超联赛第13轮比赛已经全部结束，这轮比赛中最让人觉得结果有些出乎意料的，莫过于卡佩罗执教江...  False   \n",
      "29     　　文章导读： 供应商围堵追债、20多位高管离职、上千人被裁员、孤注一掷史上最大规模的降价…...  False   \n",
      "...                                                  ...    ...   \n",
      "89581  新华社照片，外代，2017年6月7日\\n（外代二线）足球——世预赛：葡萄牙备战\\n6月6日，...   True   \n",
      "89582  新华社照片，外代，2017年6月7日\\n（外代二线）足球——世预赛：葡萄牙备战\\n6月6日，...   True   \n",
      "89583  新华社照片，外代，2017年6月7日\\n（外代二线）足球——世预赛：葡萄牙备战\\n6月6日，...   True   \n",
      "89584  新华社照片，外代，2017年6月7日\\n（外代二线）足球——世预赛：葡萄牙备战\\n6月6日，...   True   \n",
      "89585  新华社照片，外代，2017年6月7日\\n（外代二线）足球——世预赛：葡萄牙备战\\n6月6日，...   True   \n",
      "89586  新华社照片，外代，2017年6月7日\\n（外代二线）足球——世预赛：葡萄牙备战\\n6月6日，...   True   \n",
      "89587  新华社照片，外代，2017年6月7日\\n（外代二线）蚕丝生产\\n6月6日，在印度特里普拉邦特...   True   \n",
      "89588  新华社照片，外代，2017年6月7日\\n（外代二线）蚕丝生产\\n6月6日，在印度特里普拉邦特...   True   \n",
      "89589  新华社照片，外代，2017年6月7日\\n（外代二线）蚕丝生产\\n5月30日，在印度特里普拉邦...   True   \n",
      "89590  新华社照片，外代，2017年6月7日\\n（外代二线）蚕丝生产\\n6月6日，在印度特里普拉邦特...   True   \n",
      "89591  新华社照片，外代，2017年6月7日\\n（外代二线）蚕丝生产\\n5月30日，在印度特里普拉邦...   True   \n",
      "89592  \\n\\n2017年4月27日，在首尔光化门广场，民众在集会上手举反“萨德”标语。（新华社记者...   True   \n",
      "89593  \\n新华社巴格达6月6日电（记者魏玉栋　程帅朋）伊拉克西部安巴尔省一处市场6日晚发生自杀式爆...   True   \n",
      "89594  新华社照片，外代，2017年6月7日\\n（外代二线）足球——国际友谊赛：德国平丹麦\\n6月6...   True   \n",
      "89595  新华社照片，外代，2017年6月7日\\n（外代二线）足球——国际友谊赛：德国平丹麦\\n6月6...   True   \n",
      "89596  新华社照片，外代，2017年6月7日\\n（外代二线）足球——国际友谊赛：德国平丹麦\\n6月6...   True   \n",
      "89597  新华社照片，外代，2017年6月7日\\n（外代二线）足球——国际友谊赛：德国平丹麦\\n6月6...   True   \n",
      "89598  新华社照片，外代，2017年6月7日\\n（外代二线）足球——国际友谊赛：德国平丹麦\\n6月6...   True   \n",
      "89599  新华社照片，外代，2017年6月7日\\n（外代二线）足球——国际友谊赛：德国平丹麦\\n6月6...   True   \n",
      "89600  新华社照片，外代，2017年6月7日\\n（外代二线）足球——国际友谊赛：德国平丹麦\\n6月6...   True   \n",
      "89601  新华社照片，外代，2017年6月7日\\n（外代二线）足球——国际友谊赛：德国平丹麦\\n6月6...   True   \n",
      "89602  新华社照片，外代，2017年6月7日\\n（外代二线）足球——国际友谊赛：德国平丹麦\\n6月6...   True   \n",
      "89603  新华社照片，北京，2017年6月7日\\n电影《血战湘江》举行清华大学巡映活动\\n6月6日，电...   True   \n",
      "89604  新华社照片，北京，2017年6月7日\\n电影《血战湘江》举行清华大学巡映活动\\n6月6日，清...   True   \n",
      "89605  新华社照片，北京，2017年6月7日\\n电影《血战湘江》举行清华大学巡映活动\\n6月6日，电...   True   \n",
      "89606  新华社照片，多伦多，2017年6月7日\\n（体育）（2）冰球——国家女子冰球队海外选秀在多伦...   True   \n",
      "89607  新华社兰州6月3日电（王衡、徐丹）记者从甘肃省交通运输厅获悉，甘肃近日集中开建高速公路、普通...   True   \n",
      "89608  \\n\\n2017年5月29日，在法国巴黎郊外的凡尔赛宫，法国总统马克龙出席新闻发布会。（新华...   True   \n",
      "89609  \\n\\n2017年5月25日，在美国马萨诸塞州剑桥市，哈佛大学毕业生在毕业典礼上欢呼。（新华...   True   \n",
      "89610  　　新华社德国杜塞尔多夫６月６日电题：乒乓女球迷　\\n　　新华社记者王子江、张寒\\n　　熊老...   True   \n",
      "\n",
      "                                                   tfidf  \n",
      "0      {(0, 4278): 0.31084046024856554, (0, 12270): 0...  \n",
      "1      {(0, 1167): 0.6146502557024905, (0, 5210): 0.3...  \n",
      "2      {(0, 0): 0.7628931610879764, (0, 7845): 0.1683...  \n",
      "3      {(0, 7404): 0.5139224394193355, (0, 10424): 0....  \n",
      "4      {(0, 604): 0.07081591958004894, (0, 605): 0.06...  \n",
      "5      {(0, 1): 0.09695862011773389, (0, 2): 0.094963...  \n",
      "6      {(0, 608): 0.07810896734698626, (0, 1167): 0.5...  \n",
      "7      {(0, 3): 0.03815107621268624, (0, 309): 0.0388...  \n",
      "8      {(0, 4): 0.0413790955806026, (0, 310): 0.04148...  \n",
      "9      {(0, 609): 0.10809497517277412, (0, 1173): 0.1...  \n",
      "10     {(0, 5590): 0.21313807058559775, (0, 5912): 0....  \n",
      "11     {(0, 896): 0.06624828833738984, (0, 900): 0.06...  \n",
      "12     {(0, 2716): 0.12263572065184256, (0, 4675): 0....  \n",
      "13     {(0, 3869): 0.19545739042315363, (0, 5588): 0....  \n",
      "14     {(0, 5): 0.11009543488794442, (0, 6): 0.108766...  \n",
      "15     {(0, 899): 0.19857519008702093, (0, 907): 0.19...  \n",
      "16     {(0, 6517): 0.26553625943658804, (0, 13545): 0...  \n",
      "17     {(0, 1460): 0.1381263855657058, (0, 1461): 0.1...  \n",
      "18     {(0, 897): 0.20148363082225945, (0, 6069): 0.1...  \n",
      "19     {(0, 7): 0.2883842161009151, (0, 3659): 0.0554...  \n",
      "20     {(0, 3662): 0.13720355619344882, (0, 5413): 0....  \n",
      "21     {(0, 611): 0.17168991511494272, (0, 908): 0.05...  \n",
      "22     {(0, 3178): 0.08624211497072047, (0, 4094): 0....  \n",
      "23     {(0, 897): 0.282076524848912, (0, 7272): 0.131...  \n",
      "24     {(0, 2242): 0.10453212740366673, (0, 4678): 0....  \n",
      "25     {(0, 13493): 0.7479021053683697, (0, 15510): 0...  \n",
      "26     {(0, 612): 0.18313096192665504, (0, 1463): 0.1...  \n",
      "27     {(0, 8): 0.0670846657453431, (0, 9): 0.1380302...  \n",
      "28     {(0, 909): 0.10529195093305464, (0, 910): 0.10...  \n",
      "29     {(0, 1464): 0.015466459145377838, (0, 1742): 0...  \n",
      "...                                                  ...  \n",
      "89581  {(0, 8228): 0.558617927890158, (0, 10416): 0.5...  \n",
      "89582  {(0, 6997): 0.5251324511505359, (0, 8228): 0.4...  \n",
      "89583  {(0, 2733): 0.4208011432268052, (0, 8228): 0.4...  \n",
      "89584  {(0, 6997): 0.5251324511505359, (0, 8228): 0.4...  \n",
      "89585  {(0, 8228): 0.48768457163717077, (0, 9654): 0....  \n",
      "89586  {(0, 8228): 0.558617927890158, (0, 10416): 0.5...  \n",
      "89587  {(0, 830): 0.7783792498893026, (0, 16337): 0.6...  \n",
      "89588                                    {(0, 830): 1.0}  \n",
      "89589                                    {(0, 830): 1.0}  \n",
      "89590                                    {(0, 830): 1.0}  \n",
      "89591                                                 {}  \n",
      "89592  {(0, 2244): 0.06844571323882419, (0, 2375): 0....  \n",
      "89593  {(0, 3596): 0.28525027214942367, (0, 4666): 0....  \n",
      "89594  {(0, 11519): 0.30479264834280817, (0, 15295): ...  \n",
      "89595  {(0, 15295): 0.564960463064315, (0, 16159): 0....  \n",
      "89596  {(0, 2175): 0.30236752464939964, (0, 15295): 0...  \n",
      "89597  {(0, 15295): 0.6830230351459738, (0, 16159): 0...  \n",
      "89598  {(0, 15295): 0.5877257774004994, (0, 16159): 0...  \n",
      "89599  {(0, 15295): 0.6830230351459738, (0, 16159): 0...  \n",
      "89600  {(0, 11519): 0.30479264834280817, (0, 15295): ...  \n",
      "89601  {(0, 15295): 0.6528855306575407, (0, 16159): 0...  \n",
      "89602  {(0, 15295): 0.6564570341118563, (0, 16159): 0...  \n",
      "89603  {(0, 10220): 0.22238037368839284, (0, 11240): ...  \n",
      "89604  {(0, 5022): 0.2097921306473504, (0, 7419): 0.2...  \n",
      "89605  {(0, 5022): 0.21824423926678424, (0, 10220): 0...  \n",
      "89606  {(0, 4732): 0.6981575402780493, (0, 12699): 0....  \n",
      "89607  {(0, 2831): 0.2481338774924663, (0, 2900): 0.2...  \n",
      "89608  {(0, 1591): 0.10427152653501365, (0, 1943): 0....  \n",
      "89609  {(0, 1081): 0.33081602971650187, (0, 2248): 0....  \n",
      "89610  {(0, 149): 0.09774570213247671, (0, 174): 0.09...  \n",
      "\n",
      "[87054 rows x 3 columns]\n"
     ]
    }
   ],
   "source": [
    "tfidf_value = []\n",
    "for m in vectorize:\n",
    "    tfidf_value.append(dok_matrix(m))\n",
    "print(vectorize[1,:])\n",
    "data['tfidf'] = tfidf_value\n",
    "# V = vectorize.toarray()\n",
    "# V=V.tolist()\n",
    "print(data)"
   ]
  },
  {
   "cell_type": "markdown",
   "metadata": {},
   "source": [
    "### Step4: 参考scikit-learning的方法，构建你的第一个机器学习模型"
   ]
  },
  {
   "cell_type": "markdown",
   "metadata": {},
   "source": [
    "+ 按照课程讲解的内容，把数据集分割为 traning_data, validation_data, test_data. https://scikit-learn.org/stable/modules/generated/sklearn.model_selection.train_test_split.html"
   ]
  },
  {
   "cell_type": "code",
   "execution_count": 8,
   "metadata": {},
   "outputs": [
    {
     "name": "stdout",
     "output_type": "stream",
     "text": [
      "                                                   tfidf  \\\n",
      "42378  {(0, 55): 0.08003848028667114, (0, 1513): 0.07...   \n",
      "69107  {(0, 1409): 0.10033971477409499, (0, 2562): 0....   \n",
      "69497  {(0, 5876): 0.31918672434537854, (0, 12509): 0...   \n",
      "61048  {(0, 167): 0.08790731259860593, (0, 402): 0.08...   \n",
      "68248  {(0, 9780): 0.6991081038610377, (0, 15464): 0....   \n",
      "17389  {(0, 8498): 0.31811875631784875, (0, 11158): 0...   \n",
      "65246  {(0, 1719): 0.5843760167160721, (0, 9752): 0.5...   \n",
      "3794   {(0, 438): 0.13798400965390667, (0, 979): 0.13...   \n",
      "39615  {(0, 2359): 0.2239697066164937, (0, 4157): 0.2...   \n",
      "60573  {(0, 2428): 0.10979385542827548, (0, 2560): 0....   \n",
      "71400  {(0, 5024): 0.30281930534231555, (0, 10547): 0...   \n",
      "74542  {(0, 478): 0.09973841723457111, (0, 546): 0.09...   \n",
      "28804  {(0, 10015): 0.3350901166462861, (0, 17545): 0...   \n",
      "28070  {(0, 64): 0.16823870755257916, (0, 167): 0.346...   \n",
      "44114  {(0, 15536): 0.9555776435726416, (0, 15878): 0...   \n",
      "5686   {(0, 657): 0.22882225669059353, (0, 1075): 0.2...   \n",
      "67027                                  {(0, 19151): 1.0}   \n",
      "81599  {(0, 1569): 0.142082238097025, (0, 2657): 0.13...   \n",
      "3236   {(0, 3218): 0.11816999877919457, (0, 3551): 0....   \n",
      "5036   {(0, 1566): 0.17196080545887205, (0, 1877): 0....   \n",
      "14890  {(0, 10310): 0.465110299097386, (0, 13662): 0....   \n",
      "24293  {(0, 1219): 0.09045370434438646, (0, 1574): 0....   \n",
      "4505   {(0, 1282): 0.0645484572757718, (0, 1350): 0.0...   \n",
      "61684  {(0, 206): 0.07717910238684751, (0, 335): 0.07...   \n",
      "56605  {(0, 4780): 0.4364847313928569, (0, 8073): 0.1...   \n",
      "12620  {(0, 5866): 0.17034236735184696, (0, 8333): 0....   \n",
      "89232  {(0, 8): 0.08778898089848716, (0, 189): 0.1912...   \n",
      "56258  {(0, 2156): 0.3077738399683443, (0, 3103): 0.2...   \n",
      "12681  {(0, 9828): 0.9251253328572602, (0, 18299): 0....   \n",
      "13048  {(0, 1864): 0.6498953146421769, (0, 14655): 0....   \n",
      "...                                                  ...   \n",
      "71375  {(0, 11683): 0.7041350013403989, (0, 12792): 0...   \n",
      "73289  {(0, 5549): 0.33896395751184644, (0, 7587): 0....   \n",
      "70545  {(0, 13732): 0.4336609765298825, (0, 14970): 0...   \n",
      "83256  {(0, 519): 0.22682528969556645, (0, 535): 0.22...   \n",
      "44509  {(0, 1407): 0.17269207656583604, (0, 1845): 0....   \n",
      "83183  {(0, 13861): 0.5242814521018249, (0, 17130): 0...   \n",
      "6749   {(0, 511): 0.037127180274806035, (0, 1290): 0....   \n",
      "57166  {(0, 4263): 0.3222294891855353, (0, 8472): 0.3...   \n",
      "31952  {(0, 11029): 0.6005841982711246, (0, 14372): 0...   \n",
      "81045  {(0, 7965): 0.9477945883792437, (0, 10505): 0....   \n",
      "13918  {(0, 5868): 0.16247845279549128, (0, 6049): 0....   \n",
      "33374  {(0, 4470): 0.6211004701881214, (0, 8255): 0.2...   \n",
      "5023   {(0, 611): 0.06217767289133182, (0, 1766): 0.0...   \n",
      "68473                                                 {}   \n",
      "38285  {(0, 888): 0.6797189516259908, (0, 889): 0.679...   \n",
      "3603   {(0, 116): 0.026385179415294502, (0, 171): 0.0...   \n",
      "51277  {(0, 5004): 0.11765999272843194, (0, 5989): 0....   \n",
      "72801  {(0, 1626): 0.5650828337886707, (0, 15712): 0....   \n",
      "74165  {(0, 12358): 0.5273928528686765, (0, 13646): 0...   \n",
      "40439  {(0, 13097): 0.5360446755699141, (0, 13598): 0...   \n",
      "75785  {(0, 19168): 0.910631631456532, (0, 19254): 0....   \n",
      "70914  {(0, 3731): 0.2142004435398785, (0, 4812): 0.2...   \n",
      "16225  {(0, 11598): 0.8547224560425707, (0, 16961): 0...   \n",
      "72834  {(0, 235): 0.16856350971819126, (0, 6197): 0.1...   \n",
      "35839  {(0, 1095): 0.10438660599353783, (0, 1603): 0....   \n",
      "75023  {(0, 4244): 0.387755806687756, (0, 6195): 0.37...   \n",
      "25647  {(0, 274): 0.21548000585273264, (0, 653): 0.21...   \n",
      "74616  {(0, 11821): 0.751970580019653, (0, 18164): 0....   \n",
      "55329  {(0, 11611): 0.5145433632911124, (0, 13828): 0...   \n",
      "62931  {(0, 132): 0.08106812037179024, (0, 435): 0.08...   \n",
      "\n",
      "                                                 content  \n",
      "42378  \\n\\n早读|中移动将下调国际长途资费;高铁餐饮将在网上明码标价;北京地铁明日迎节前客流高峰...  \n",
      "69107  新华社照片，上海，2017年5月20日\\n“自信让生活明亮”——记视障女孩陈思颖的一天\\n5...  \n",
      "69497  新华社照片，罗马，2017年5月21日\\n（体育）（3）网球——意大利公开赛：兹韦列夫晋级决...  \n",
      "61048  国内新闻\\n国内要闻目录（5月13日）\\n（经济）中国与格鲁吉亚正式签署自由贸易协定\\n（财...  \n",
      "68248  新华社照片，北京，2017年5月19日\\n厦门理工学院设计艺术与服装工程学院作品发布会在京举...  \n",
      "17389  新华社照片，喀布尔，2017年4月4日\\n（体育）（8）跑酷——在废墟与荒原中飞翔\\n4月1...  \n",
      "65246  新华社照片，武汉，2017年5月17日\\n（体育）（2）跳水——全国冠军赛：昌雅妮获女子一米...  \n",
      "3794   中国经济走势如何？这是国际社会关注的大热门。今年以来，国际货币基金组织（IMF）已连续两次上...  \n",
      "39615  　　新华社东京４月２４日电（陈方）受法国大选及日元对美元汇率走低等因素影响，２４日东京股市高...  \n",
      "60573  　　新华社北京５月１３日电　国际排球联合会消息，１３日，在日本神户进行的女排世俱杯半决赛中，...  \n",
      "71400  新华社照片，卢森堡，2017年5月23日\\n（体育）（8）乒乓球——国乒卢森堡备战世乒赛\\n...  \n",
      "74542  　　新华社南昌５月２５日电（记者袁慧晶）记者从江西省文物考古研究院获悉，南昌汉代海昏侯墓文物...  \n",
      "28804  新华社照片，外代，2017年4月15日\\n（外代二线）足球——法甲联赛：巴黎圣日耳曼胜昂热\\...  \n",
      "28070  新华社北京4月14日电（记者李延霞、吴雨）四大国有商业银行、三家政策性银行纷纷部署支持雄安新...  \n",
      "44114  新华社照片，外代，2017年4月28日\\n（外代二线）杜鹃花开\\n这是4月27日在日本东京根...  \n",
      "5686   　　保时捷车队2号赛车经过意外不断的LMP1组较量后拿到总成绩冠军，这是保时捷车队历史上第1...  \n",
      "67027  新华社图表，北京，2017年5月18日\\n图表：机构报告称去年中美双向投资创历史新高\\n新华...  \n",
      "81599  \\n新华社北京５月３１日电（记者董瑞丰）陆地观测卫星数据全国接收站网建设项目３１日在北京通过...  \n",
      "3236   （原标题：法国总统再次任命爱德华·菲利普为总理）\\r\\n新华社巴黎6月19日电 法国总统府1...  \n",
      "5036   6.78万考生 明日迎中考\\r\\n　　广州日报讯?（全媒体记者周伟良）明日，深圳中考文化课开...  \n",
      "14890  新华社照片，外代，2017年3月31日\\n（外代二线）孟加拉国鲜花节\\n3月30日，在孟加拉...  \n",
      "24293  \\n\\n重庆(CNFIN.COM/XINHUA08.COM)--4月10日，在建设银行重庆分...  \n",
      "4505   （原标题：外媒：被朝鲜释放的美大学生已死亡 特朗普谴责）\\r\\n新华社华盛顿6月19日电 从...  \n",
      "61684  　　新华社合肥５月１４日电（记者张端）她们是脱贫攻坚一线的基层女干部，也是给予孩子爱与温暖的...  \n",
      "56605  新华社照片，伊春（黑龙江），2017年5月10日\\n杜鹃花海迎客来\\n5月9日，游客在伊春红...  \n",
      "12620  新华社照片，南昌，2017年4月2日\\n江西入汛持续降雨致赣江水位上涨\\n这是赣江南昌段一景...  \n",
      "89232  \\n新华社上海6月6日电（记者朱翃　王浩明）本赛季，上港和恒大将是一对解不开的“欢喜冤家”—...  \n",
      "56258  　　新华社北京５月９日电（记者郁琼源）记者９日从财政部了解到，近日中央财政下达城乡义务教育经...  \n",
      "12681  新华社照片，外代，2017年4月2日\\n（外代二线）阿拉斯加风景\\n这是美国阿拉斯加尼尼利奇...  \n",
      "13048  新华社照片，外代，2017年4月3日\\n（外代二线）足球——英超联赛：阿森纳平曼城\\n4月2...  \n",
      "...                                                  ...  \n",
      "71375  新华社照片，外代，2017年5月23日\\n（外代二线）影片《迈耶罗维茨的故事》戛纳首映\\n5...  \n",
      "73289  新华社照片，厦门，2017年5月24日\\n飞阅厦门\\n这是厦门白鹭洲公园（5月24日摄）。\\...  \n",
      "70545  新华社照片，外代，2017年5月22日\\n（外代二线）莫斯科举行第十五届维也纳慈善舞会\\n5...  \n",
      "83256  新华社照片，香港，2017年6月1日\\n共享荣耀共克时艰共建家园——香港回归20年成长印记\\...  \n",
      "44509  新华社照片，邢台（河北），2017年4月28日\\n河北邢台：植保无人机助农防虫害\\n4月28...  \n",
      "83183  　　新华社喀布尔６月１日电阿富汗国家安全局５月３１日晚发表声明，指责“哈卡尼网络”武装组织策...  \n",
      "6749   牛肉火锅行业来去如风？\\r\\n　　广州日报全媒体记者林琳\\r\\n　　“85后”张先生去年底在...  \n",
      "57166  新华社照片，长沙，2017年5月10日\\n长沙计划三年再建600个公园打造“千园之城”\\n这...  \n",
      "31952  新华社照片，伦敦，2017年4月18日\\n（国际）（1）伦敦酒吧发生疑似有毒物质灼伤事件12...  \n",
      "81045  新华社照片，外代，2017年5月31日\\n（外代二线）网球——法国公开赛：纳瓦罗晋级\\n5月...  \n",
      "13918  　　新华社巴黎４月４日电　尽管一天后法国杯八强战中的对手阿夫朗什仅是一支第三级别联赛球队，不...  \n",
      "33374  新华社照片，外代，2017年4月19日\\n（外代二线）克里米亚奥普克斯基自然保护区\\n这是4...  \n",
      "5023   　　小康股份6月22日晚间宣布，公司及其全资子公司SF MOTORS, INC.与美国AM ...  \n",
      "68473  新华社照片，外代，2017年5月20日\\n（外代二线）网球——意大利公开赛：蒂姆晋级四强\\n...  \n",
      "38285  新华社照片，埃南—博蒙（法国），2017年4月23日\\n（国际）（1）法国大选第一轮投票开始...  \n",
      "3603   国资委主任密集调研为国企改革打开舆论空间广东国企改革受关注\\r\\n时代周报记者杨凯奇发自深圳...  \n",
      "51277  　　新华社华盛顿５月４日电（记者周而捷　陆佳飞）美国总统特朗普４日在纽约与澳大利亚总理特恩布...  \n",
      "72801  新华社照片，外代，2017年5月24日\\n（外代二线）庆祝戛纳电影节70周年\\n5月23日，...  \n",
      "74165  新华社照片，斯德哥尔摩，2017年5月25日\\n（体育）（6）足球——欧罗巴联赛：曼联获得冠...  \n",
      "40439  新华社照片，外代，2017年4月25日\\n（外代二线）阿纳斯塔西娅·扎多林娜新款时装秀\\n4...  \n",
      "75785  新华社照片，外代，2017年5月26日\\n（外代二线）白俄罗斯国家马戏团表演\\n5月25日，...  \n",
      "70914  \\n新华社成都5月22日电（记者周相吉）在四川栖息的1300多只野生大熊猫中，已有300多只...  \n",
      "16225  新华社照片，外代，2017年4月2日\\n（外代二线）法国的糕点制作厂\\n3月16日，在法国西...  \n",
      "72834  　　新华社上海５月２４日电（记者王原）来自中国外汇交易中心的数据显示，２４日人民币对美元汇率...  \n",
      "35839  　　【新华社微特稿】欧洲和拉美研究人员发现，草莓有助遏制实验鼠身上的乳腺癌发展，甚至使肿瘤萎...  \n",
      "75023  新华社照片，福清（福建），2017年5月25日\\n“华龙一号”全球首堆示范工程成功完成穹顶吊...  \n",
      "25647  新华社照片，柳州（广西），2017年4月12日\\n广西柳州：“粉色浪漫”醉游人\\n这是4月1...  \n",
      "74616  新华社照片，外代，2017年5月25日\\n（外代二线）俄罗斯各地学校举行“最后的铃声”毕业典...  \n",
      "55329  为进一步弘扬红旗渠精神，5月6日，纪念五四青年节红旗渠精神与青年传承座谈会，在河南省林州市举...  \n",
      "62931  　　新华社北京５月１５日电题：“碘”里有这么多大学问，你吃对了吗？\\n　　新华社记者王宾、邓...  \n",
      "\n",
      "[21764 rows x 2 columns]\n"
     ]
    }
   ],
   "source": [
    "from sklearn.model_selection import train_test_split\n",
    "\n",
    "X_train, X_test, y_train, y_test = train_test_split(data[['tfidf','content']],data['y'])\n",
    "\n",
    "print(X_test)"
   ]
  },
  {
   "cell_type": "markdown",
   "metadata": {},
   "source": [
    "+ 参照scikit learning的示例，从构建你的第一个KNN机器学习模型。"
   ]
  },
  {
   "cell_type": "code",
   "execution_count": 17,
   "metadata": {},
   "outputs": [],
   "source": [
    "import numpy as np\n",
    "\n",
    "def distance(x1,x2):\n",
    "    return (x1.dot(x2.transpose())[0,0])**0.5\n",
    "\n",
    "def KNN(X,y,test,k=10):\n",
    "    nearest=[]\n",
    "    for neighbor in X.iterrows():\n",
    "        val = distance(neighbor[1]['tfidf'],test)\n",
    "        if val>0.5:\n",
    "            nearest.append((neighbor[0],val))\n",
    "    return sorted(nearest,key=lambda item:item[1])[0:k]\n"
   ]
  },
  {
   "cell_type": "code",
   "execution_count": 21,
   "metadata": {},
   "outputs": [
    {
     "name": "stdout",
     "output_type": "stream",
     "text": [
      "\\n\\n早读|中移动将下调国际长途资费;高铁餐饮将在网上明码标价;北京地铁明日迎节前客流高峰将适时限流&gt;&gt;&gt;\\n\\n\\n\\n\\n\\n\\n\\n\\n\\n\\n\\n\\n\\n\\n\\n\\n\\n\\n\\n\\n\\n国内\\n\\n\\n\\n\\n\\n\\n\\n\\n\\n\\n\\n\\n\\n\\n\\n\\n\\n\\n\\n\\n习近平在中共中央政治局第四十次集体学习时强调，金融活，经济活；金融稳，经济稳；做好金融工作，维护金融安全。\\n李克强主持召开国务院常务会议，确定进一步推进“多证合一”和削减工商登记前置审批，持续降低制度性交易成本，激发市场活力；部署对大气重污染成因和治理开展集中攻关，以生态改善提高人民生活质量；决定在粮食主产省开展提高农业大灾保险保障水平试点，助力现代农业发展和农民增收。\\n我国第二艘航空母舰下水，中共中央政治局委员、中央军委副主席范长龙出席仪式并致辞。我国自主设计建造航空母舰取得重大阶段性成果。\\n\\n\\n\\n十二届全国人大常委会第二十七次会议分组审议推进供给侧结构性改革工作情况报告、2016年度环境状况和环境保护目标完成情况报告。\\n国务院办公厅印发《关于推进医疗联合体建设和发展的指导意见》，全面启动多种形式的医疗联合体建设试点。\\n\\n\\n\\n中央宣传部、中央文明办、全国总工会在中国文明网向全社会公开发布洪家光等10位“最美职工”的先进事迹。\\n\\n\\n\\n外交部：中方就“萨德”部署问题向美韩表明严正关切。\\n工信部：我国4G用户已达8.36亿，平均每个用户单月手机上网流量1.28G。\\n车俊任浙江省委书记；石泰峰任宁夏回族自治区党委书记；刘家义当选山东省人大常委会主任，龚正当选山东省省长；许勤当选河北省省长。\\n由人民日报社、新华社、中央电视台和中国搜索等10家主要中央新闻单位和新媒体网站联合发起的“中国新闻媒体版权保护联盟”在京成立，旨在合力破解新闻作品版权保护难题。\\n\\n京津冀及周边“散乱污”企业集群成防治突出问题。详细&gt;&gt;\\n\\n国际\\n\\n\\n\\n\\n\\n\\n\\n\\n\\n\\n\\n\\n\\n\\n\\n\\n\\n\\n\\n\\n\\n\\n\\n驻韩美军向星州高尔夫球场运送移动发射台、雷达和发电机等“萨德”相关装备。运送过程中，当地居民及反“萨德”和平人士与警方发生冲突，6人受伤并被送往附近医院。\\n朝鲜外务省谴责美国近期掀起新一轮国际反朝浪潮和制定强化版对朝孤立扼杀政策，并警告美国不要“玩火自焚”。\\n俄罗斯对朝鲜半岛局势恶化表示严重关切，认为通过武力手段解决朝鲜半岛问题将给东北亚地区带来灾难性后果。\\n加拿大总理特鲁多回击美商务部针对软木贸易的初裁结果，称裁定“没有根据”。\\n美国商务部长罗斯表示，特朗普政府已将钢铁、铝业、汽车、飞机、造船和半导体行业列为其易保护六大“关键行业”，拟与相关国家重新进行贸易谈判。\\n俄罗斯：2016年因腐败犯罪所造成的损失超780亿卢布（约合96亿元人民币）。去年底，俄罗斯掀起“反腐风暴”，多名高官因受贿下台。\\n伊朗核问题六国（美国、英国、法国、俄罗斯、中国和德国）与伊朗在奥地利首都维也纳举行伊核全面协议联合委员会第七次会议。\\n土耳其空袭伊拉克和叙利亚境内的库尔德武装目标，打死约70名库尔德武装人员。\\n罗马尼亚总理格林代亚努谴责毁坏犹太公墓行为。此前，在纪念二战犹太人遭大屠杀之际，布加勒斯特一犹太人公墓的10座墓地遭破坏。\\n\\n\\n\\n墨西哥拒绝单方面同美国磋商北美自由贸易协定。\\n俄一架米格－31战机坠毁两名飞行员弹射逃生，该战机于1983年进入俄空军服役，至今仍是俄空军主力战机之一。\\n\\n\\n\\n\\n\\n\\n\\n\\n\\n\\n\\n\\n\\n\\n\\n\\n\\n\\n\\n\\n\\n\\n\\n\\n\\n\\n\\n\\n\\n\\n社会\\n\\n\\n\\n\\n\\n\\n\\n\\n\\n\\n\\n\\n\\n\\n\\n\\n\\n\\n中国支付清算协会：2016年银行卡取现金额65.5万亿元，首次出现负增长；银行卡消费金额增速持续下滑。\\n\\n“五一”小长假将至北京地铁明午后将适时限流。详细&gt;&gt;\\n\\n\\n高铁餐饮将在网上明码标价正在进行技术准备。详细&gt;&gt;\\n\\n\\n\\n\\n中国移动将下调国际长途直拨资费和“一带一路”沿线国家和地区漫游资费。\\n安徽省副省长周春雨涉嫌严重违纪，目前正接受组织审查。\\n公安部指挥破获一起特大跨国网络赌博案，抓获涉案人员99名。\\n淮河流域河南、安徽、江苏、山东四省完成河长制工作方案，年内建成“淮河河长体系”。\\n我国将在天津生态城试点用地指标弹性管理，这是中国首个绿色发展综合示范区所在地。\\n第13届中国国际动漫节在杭州举办，吸引了82个国家和地区机构和人员参加，国际化水平创历史新高。\\n\\n\\n\\n山西多地出台楼市去库存新政，农民工买房可获每平方米200元现金奖励。\\n28日傍晚，一弯娥眉月将与火星、恒星毕宿五组成一张卡通型“笑脸”的趣味景象。\\n\\n\\n\\n\\n\\n\\n\\n\\n\\n\\n\\n\\n\\n\\n新华社客户端现场新闻预告\\n\\n\\n\\n\\n\\n\\n\\n09:00\\n江西：和400万株鲜花来场春天的约会\\n\\n11:00\\n黑龙江：带你见中国最震撼的界江“春水流”\\n16:00\\n吉林：探秘“长满欧”专列——一带一路上的新“通商者”\\n\\n\\n\\n\\n\\n\\n\\n\\n\\n\\n\\n\\n\\n\\n\\n\\n\\n\\n\\n\\n\\n\\n\\n监制：李代祥\\n编辑：王龙、张梦溪（实习）\\n\\n\\n\\n\n",
      "top like is:\n",
      "42230 likely value: 0.5028096028872764\n",
      "　　新华社北京４月２６日电　中国移动２６日召开“２０１７年降费行动计划新闻通气会”，宣布将从５月１日起全面下调“一带一路”沿线国家和地区漫游资费。\\n　　据介绍，漫游资费优惠政策覆盖“一带一路”沿线６４个国家和地区，国际漫游语音资费将下调至０．９９元／分钟。其中５３个国家和地区的国际漫游流量资费调整为３０元／６０元／９０元三个档位的包天不限流量资费。（完）\n",
      "42146 likely value: 0.5050902284136677\n",
      "新华社摄影部今日重要稿件预告\\n\\n今日要闻：\\n1.（军事）我国第二艘航空母舰下水（已播发2张）\\n2.（国际）伊朗核问题全面协议联合委员会举行第七次会议（已播发1张）\\n3.（图表）[军事]我国第二艘航空母舰下水（已播发1张）\\n4.（国际）“萨德”部分装备在韩部署　警方与当地居民发生冲突（已播发8张）\\n5.（国内）公安部指挥破获一起特大跨国网络赌博案抓获涉案人员99名（已播发7张）\\n6.（国内）“蛟龙”号开始南海今年第一潜（已播发5张）\\n\\n新华社摄影部\\n2017年4月26日21时\n",
      "41921 likely value: 0.5122182846224336\n",
      "　　新华社北京４月２６日新媒体专电　５月起，中国移动将下调国际长途直拨资费和“一带一路”沿线国家和地区漫游资费等七项降费。\\n　　大幅下调国际长途直拨资费。自２０１７年５月１日起，中国移动大幅下调７０个国家和地区的国际长途直拨资费，覆盖超过９０％的国际直拨长途话务量，其中２１个国家和地区从６．８８元／分钟或１．８８元／分钟下调至０．４９元／分钟；４９个国家和地区从６．８８元／分钟或１．８８元／分钟下调至０．９９元／分钟。后续将通过加快与国际运营商结算价格谈判，推动对更多国家和地区的国际长途直拨资费进行降价。\\n　　全面下调“一带一路”沿线国家和地区漫游资费。经过两个月的试运行后，“一带一路”沿线国家和地区漫游资费优惠自２０１７年５月１日起正式全面推广，沿线全部６４个国家和地区的国际漫游语音资费下调至０．９９元／分钟；５３个国家和地区的国际漫游流量资费调整为３０元／６０元／９０元的包天不限流量资费。\\n　　推出全网流量“任我用”资费。自２０１７年５月１日起，针对新客户推出１８８元和２８８元两档“任我用”资费，分别包含１２ＧＢ和２０ＧＢ流量。针对老客户提供２３８元１５ＧＢ流量的“任我用”资费，推出系列流量优惠活动。自２０１７年５月１日起，针对不同流量需求的客户，推出系列流量优惠活动，包括流量升档计划和“任我享”流量降费红包抢购活动，流量低至５元／ＧＢ，满足客户的大流量使用需求。\\n　　自２０１７年５月１７日起，针对产业园区、商务楼宇、“双创”企业等，推出在上下行速率、产品性能、服务保障等方面满足小微企业需求的价廉质优特色宽带产品，实现“快捷接入、简单实用”的需求，与互联网专线相应可比带宽产品的资费相比，优惠超过５０％。同时，大幅下调互联网专线资费，起步带宽从２Ｍ上调到１０Ｍ，对协议期内带宽２００Ｍ以内的客户，经申请速率可免费升至上一档。\\n　　５月１７日后，新办理业务的签约客户，执行调价后的优惠资费；原有客户续签时，可自主选择执行新资费或提速方案。推出“任我看”视频流量优惠包。\\n　　自５月１７日起，和热门视频ＡＰＰ网站合作，推出９元和２４元两档视频流量优惠包，客户可分别获得３ＧＢ和３０ＧＢ视频流量，让客户可以放心使用流量观看视频。（完）\n",
      "41951 likely value: 0.5122182846224336\n",
      "\\n新华社北京４月２６日新媒体专电　５月起，中国移动将下调国际长途直拨资费和“一带一路”沿线国家和地区漫游资费等七项降费。\\n大幅下调国际长途直拨资费。自２０１７年５月１日起，中国移动大幅下调７０个国家和地区的国际长途直拨资费，覆盖超过９０％的国际直拨长途话务量，其中２１个国家和地区从６．８８元／分钟或１．８８元／分钟下调至０．４９元／分钟；４９个国家和地区从６．８８元／分钟或１．８８元／分钟下调至０．９９元／分钟。后续将通过加快与国际运营商结算价格谈判，推动对更多国家和地区的国际长途直拨资费进行降价。\\n全面下调“一带一路”沿线国家和地区漫游资费。经过两个月的试运行后，“一带一路”沿线国家和地区漫游资费优惠自２０１７年５月１日起正式全面推广，沿线全部６４个国家和地区的国际漫游语音资费下调至０．９９元／分钟；５３个国家和地区的国际漫游流量资费调整为３０元／６０元／９０元的包天不限流量资费。\\n推出全网流量“任我用”资费。自２０１７年５月１日起，针对新客户推出１８８元和２８８元两档“任我用”资费，分别包含１２ＧＢ和２０ＧＢ流量。针对老客户提供２３８元１５ＧＢ流量的“任我用”资费，推出系列流量优惠活动。自２０１７年５月１日起，针对不同流量需求的客户，推出系列流量优惠活动，包括流量升档计划和“任我享”流量降费红包抢购活动，流量低至５元／ＧＢ，满足客户的大流量使用需求。\\n自２０１７年５月１７日起，针对产业园区、商务楼宇、“双创”企业等，推出在上下行速率、产品性能、服务保障等方面满足小微企业需求的价廉质优特色宽带产品，实现“快捷接入、简单实用”的需求，与互联网专线相应可比带宽产品的资费相比，优惠超过５０％。同时，大幅下调互联网专线资费，起步带宽从２Ｍ上调到１０Ｍ，对协议期内带宽２００Ｍ以内的客户，经申请速率可免费升至上一档。\\n５月１７日后，新办理业务的签约客户，执行调价后的优惠资费；原有客户续签时，可自主选择执行新资费或提速方案。推出“任我看”视频流量优惠包。\\n自５月１７日起，和热门视频ＡＰＰ网站合作，推出９元和２４元两档视频流量优惠包，客户可分别获得３ＧＢ和３０ＧＢ视频流量，让客户可以放心使用流量观看视频。\\n\n",
      "42055 likely value: 0.5128619036905391\n",
      "　　新华社北京４月２６日电（记者高健钧）中国移动２６日召开“２０１７年降费行动计划新闻通气会”，宣布将从５月１日起全面下调“一带一路”沿线国家和地区漫游资费。\\n　　据介绍，漫游资费优惠政策覆盖“一带一路”沿线６４个国家和地区，国际漫游语音资费将下调至０．９９元／分钟。其中５３个国家和地区的国际漫游流量资费调整为３０元／６０元／９０元三个档位的包天不限流量资费。\\n　　中国移动集团公司市场部副总经理包建益表示，经过与相关国家运营商的谈判，以及两个月的试运行后，中国移动已经具备下调漫游资费的条件。下调漫游资费可以更好地支持我国企业在“一带一路”沿线国家和地区投资建设。\\n　　下调“一带一路”沿线国家和地区漫游资费是中国移动将在今年５月推出的七项降费举措之一。\\n　　据介绍，为推动“互联网＋”深入发展，促进数字经济加快成长，给广大客户带来实实在在的获得感，中国移动还将大幅下调国际长途直拨资费；推出“速率倍增行动”，大幅下调互联网专线资费；推出“小微宽带”特惠产品，满足小微企业需求的价廉质优特色宽带产品；推出全网流量“任我用”资费；推出系列流量优惠活动；推出“任我看”视频流量优惠包活动。（完）\n",
      "42352 likely value: 0.9777864730641056\n",
      "\\n\\n\\n\\n\\n\\n\\n\\n\\n\\n\\n\\n\\n\\n\\n\\n\\n\\n\\n\\n\\n国内\\n\\n\\n\\n\\n\\n\\n\\n\\n\\n\\n\\n\\n\\n\\n\\n\\n\\n\\n\\n\\n习近平在中共中央政治局第四十次集体学习时强调，金融活，经济活；金融稳，经济稳；做好金融工作，维护金融安全。\\n李克强主持召开国务院常务会议，确定进一步推进“多证合一”和削减工商登记前置审批，持续降低制度性交易成本，激发市场活力；部署对大气重污染成因和治理开展集中攻关，以生态改善提高人民生活质量；决定在粮食主产省开展提高农业大灾保险保障水平试点，助力现代农业发展和农民增收。\\n我国第二艘航空母舰下水，中共中央政治局委员、中央军委副主席范长龙出席仪式并致辞。我国自主设计建造航空母舰取得重大阶段性成果。\\n\\n\\n\\n十二届全国人大常委会第二十七次会议分组审议推进供给侧结构性改革工作情况报告、2016年度环境状况和环境保护目标完成情况报告。\\n国务院办公厅印发《关于推进医疗联合体建设和发展的指导意见》，全面启动多种形式的医疗联合体建设试点。\\n\\n\\n\\n中央宣传部、中央文明办、全国总工会在中国文明网向全社会公开发布洪家光等10位“最美职工”的先进事迹。\\n\\n\\n\\n外交部：中方就“萨德”部署问题向美韩表明严正关切。\\n工信部：我国4G用户已达8.36亿，平均每个用户单月手机上网流量1.28G。\\n车俊任浙江省委书记；石泰峰任宁夏回族自治区党委书记；刘家义当选山东省人大常委会主任，龚正当选山东省省长；许勤当选河北省省长。\\n由人民日报社、新华社、中央电视台和中国搜索等10家主要中央新闻单位和新媒体网站联合发起的“中国新闻媒体版权保护联盟”在京成立，旨在合力破解新闻作品版权保护难题。\\n国际\\n\\n\\n\\n\\n\\n\\n\\n\\n\\n\\n\\n\\n\\n\\n\\n\\n\\n\\n\\n\\n\\n\\n\\n驻韩美军向星州高尔夫球场运送移动发射台、雷达和发电机等“萨德”相关装备。运送过程中，当地居民及反“萨德”和平人士与警方发生冲突，6人受伤并被送往附近医院。\\n朝鲜外务省谴责美国近期掀起新一轮国际反朝浪潮和制定强化版对朝孤立扼杀政策，并警告美国不要“玩火自焚”。\\n俄罗斯对朝鲜半岛局势恶化表示严重关切，认为通过武力手段解决朝鲜半岛问题将给东北亚地区带来灾难性后果。\\n加拿大总理特鲁多回击美商务部针对软木贸易的初裁结果，称裁定“没有根据”。\\n美国商务部长罗斯表示，特朗普政府已将钢铁、铝业、汽车、飞机、造船和半导体行业列为其易保护六大“关键行业”，拟与相关国家重新进行贸易谈判。\\n俄罗斯：2016年因腐败犯罪所造成的损失超780亿卢布（约合96亿元人民币）。去年底，俄罗斯掀起“反腐风暴”，多名高官因受贿下台。\\n伊朗核问题六国（美国、英国、法国、俄罗斯、中国和德国）与伊朗在奥地利首都维也纳举行伊核全面协议联合委员会第七次会议。\\n土耳其空袭伊拉克和叙利亚境内的库尔德武装目标，打死约70名库尔德武装人员。\\n罗马尼亚总理格林代亚努谴责毁坏犹太公墓行为。此前，在纪念二战犹太人遭大屠杀之际，布加勒斯特一犹太人公墓的10座墓地遭破坏。\\n\\n\\n\\n墨西哥拒绝单方面同美国磋商北美自由贸易协定。\\n俄一架米格－31战机坠毁两名飞行员弹射逃生，该战机于1983年进入俄空军服役，至今仍是俄空军主力战机之一。\\n\\n\\n\\n\\n\\n\\n\\n\\n\\n\\n\\n\\n\\n\\n\\n\\n\\n\\n\\n\\n\\n\\n\\n\\n\\n\\n\\n\\n\\n\\n社会\\n\\n\\n\\n\\n\\n\\n\\n\\n\\n\\n\\n\\n\\n\\n\\n\\n\\n\\n中国支付清算协会：2016年银行卡取现金额65.5万亿元，首次出现负增长；银行卡消费金额增速持续下滑。\\n\\n\\n\\n中国移动将下调国际长途直拨资费和“一带一路”沿线国家和地区漫游资费。\\n安徽省副省长周春雨涉嫌严重违纪，目前正接受组织审查。\\n公安部指挥破获一起特大跨国网络赌博案，抓获涉案人员99名。\\n淮河流域河南、安徽、江苏、山东四省完成河长制工作方案，年内建成“淮河河长体系”。\\n我国将在天津生态城试点用地指标弹性管理，这是中国首个绿色发展综合示范区所在地。\\n第13届中国国际动漫节在杭州举办，吸引了82个国家和地区机构和人员参加，国际化水平创历史新高。\\n\\n\\n\\n山西多地出台楼市去库存新政，农民工买房可获每平方米200元现金奖励。\\n28日傍晚，一弯娥眉月将与火星、恒星毕宿五组成一张卡通型“笑脸”的趣味景象。\\n\\n\\n\\n\\n\\n\\n\\n\\n\\n\\n\\n\\n\\n\\n新华社客户端现场新闻预告\\n\\n\\n\\n\\n\\n\\n\\n09:00\\n江西：和400万株鲜花来场春天的约会\\n\\n11:00\\n黑龙江：带你见中国最震撼的界江“春水流”\\n16:00\\n吉林：探秘“长满欧”专列——一带一路上的新“通商者”\\n\\n\\n\\n\\n\\n\\n\\n\\n\\n\\n\\n\\n\\n\\n\\n\\n\\n\\n\\n\\n\\n\\n\\n监制：李代祥\\n编辑：王龙、张梦溪（实习）\\n\\n\\n\\n\n"
     ]
    }
   ],
   "source": [
    "for test in X_test.iterrows():\n",
    "    result = KNN(X_train,y_train,test[1]['tfidf'])\n",
    "    if len(result)>0:\n",
    "        print(test[1]['content'])\n",
    "        print('top like is:')\n",
    "        for item in result:\n",
    "            print(item[0],'likely value:',item[1])\n",
    "            print(X_train['content'][item[0]])\n",
    "        break"
   ]
  },
  {
   "cell_type": "markdown",
   "metadata": {},
   "source": [
    "### Step5: 在traning_data, validation_data, test_data 上观察其相关metric: recall, precision, f1等， 并解释其含义. "
   ]
  },
  {
   "cell_type": "code",
   "execution_count": 32,
   "metadata": {},
   "outputs": [],
   "source": [
    "# it's your time"
   ]
  },
  {
   "cell_type": "markdown",
   "metadata": {},
   "source": [
    "### Step6: 使用 test_data 对其进行新数据的判断, 你有没"
   ]
  },
  {
   "cell_type": "code",
   "execution_count": 10,
   "metadata": {},
   "outputs": [],
   "source": [
    "# it's your time"
   ]
  },
  {
   "cell_type": "markdown",
   "metadata": {},
   "source": [
    "### Step7: 调整不同的参数，观察变化"
   ]
  },
  {
   "cell_type": "code",
   "execution_count": 11,
   "metadata": {},
   "outputs": [],
   "source": [
    "# it's your time"
   ]
  },
  {
   "cell_type": "markdown",
   "metadata": {},
   "source": [
    "### Step8: 不断改变参数，直到性能达到“某个”点。问：“某个”怎么定义？"
   ]
  },
  {
   "cell_type": "code",
   "execution_count": 12,
   "metadata": {},
   "outputs": [],
   "source": [
    "# it's your time"
   ]
  },
  {
   "cell_type": "markdown",
   "metadata": {},
   "source": [
    "### Step9: 找出所以预测为 1， 但是实际为 0 的文章。 作为抄袭的候选者。"
   ]
  },
  {
   "cell_type": "code",
   "execution_count": 13,
   "metadata": {},
   "outputs": [],
   "source": [
    "# it's your time"
   ]
  },
  {
   "cell_type": "markdown",
   "metadata": {},
   "source": [
    "### Step10： 总结该过程，什么是数据思维？什么是机器学习思维？"
   ]
  },
  {
   "cell_type": "markdown",
   "metadata": {},
   "source": [
    "### (Optional)使用第4课讲解的 edit distance，在涉嫌抄袭的文章中，找到其重复的文字与被修改过的文字。 "
   ]
  },
  {
   "cell_type": "markdown",
   "metadata": {},
   "source": [
    "### Step11: 利用第8课讲述的新模型，进行操作，感受其中不同的参数、模型对性能的影响。"
   ]
  }
 ],
 "metadata": {
  "kernelspec": {
   "display_name": "Python 3",
   "language": "python",
   "name": "python3"
  },
  "language_info": {
   "codemirror_mode": {
    "name": "ipython",
    "version": 3
   },
   "file_extension": ".py",
   "mimetype": "text/x-python",
   "name": "python",
   "nbconvert_exporter": "python",
   "pygments_lexer": "ipython3",
   "version": "3.7.0"
  }
 },
 "nbformat": 4,
 "nbformat_minor": 2
}
