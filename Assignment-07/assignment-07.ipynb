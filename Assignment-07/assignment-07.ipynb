{
 "cells": [
  {
   "cell_type": "markdown",
   "metadata": {},
   "source": [
    "## Assignment-07 First Step of using machine learning and models."
   ]
  },
  {
   "cell_type": "markdown",
   "metadata": {},
   "source": [
    "![](https://github.com/Computing-Intelligence/jupyters_and_slides/raw/master/entrance-test/images/kkb-ai.png)"
   ]
  },
  {
   "cell_type": "code",
   "execution_count": 1,
   "metadata": {},
   "outputs": [],
   "source": [
    "fname = '/Users/gaominquan/Downloads/sqlResult_1558435 2.csv'"
   ]
  },
  {
   "cell_type": "code",
   "execution_count": 2,
   "metadata": {},
   "outputs": [],
   "source": [
    "import pandas as pd"
   ]
  },
  {
   "cell_type": "code",
   "execution_count": 3,
   "metadata": {},
   "outputs": [],
   "source": [
    "content = pd.read_csv(fname, encoding='gb18030')"
   ]
  },
  {
   "cell_type": "code",
   "execution_count": 4,
   "metadata": {},
   "outputs": [
    {
     "data": {
      "text/html": [
       "<div>\n",
       "<style scoped>\n",
       "    .dataframe tbody tr th:only-of-type {\n",
       "        vertical-align: middle;\n",
       "    }\n",
       "\n",
       "    .dataframe tbody tr th {\n",
       "        vertical-align: top;\n",
       "    }\n",
       "\n",
       "    .dataframe thead th {\n",
       "        text-align: right;\n",
       "    }\n",
       "</style>\n",
       "<table border=\"1\" class=\"dataframe\">\n",
       "  <thead>\n",
       "    <tr style=\"text-align: right;\">\n",
       "      <th></th>\n",
       "      <th>id</th>\n",
       "      <th>author</th>\n",
       "      <th>source</th>\n",
       "      <th>content</th>\n",
       "      <th>feature</th>\n",
       "      <th>title</th>\n",
       "      <th>url</th>\n",
       "    </tr>\n",
       "  </thead>\n",
       "  <tbody>\n",
       "    <tr>\n",
       "      <th>0</th>\n",
       "      <td>89617</td>\n",
       "      <td>NaN</td>\n",
       "      <td>快科技@http://www.kkj.cn/</td>\n",
       "      <td>此外，自本周（6月12日）起，除小米手机6等15款机型外，其余机型已暂停更新发布（含开发版/...</td>\n",
       "      <td>{\"type\":\"科技\",\"site\":\"cnbeta\",\"commentNum\":\"37\"...</td>\n",
       "      <td>小米MIUI 9首批机型曝光：共计15款</td>\n",
       "      <td>http://www.cnbeta.com/articles/tech/623597.htm</td>\n",
       "    </tr>\n",
       "    <tr>\n",
       "      <th>1</th>\n",
       "      <td>89616</td>\n",
       "      <td>NaN</td>\n",
       "      <td>快科技@http://www.kkj.cn/</td>\n",
       "      <td>骁龙835作为唯一通过Windows 10桌面平台认证的ARM处理器，高通强调，不会因为只考...</td>\n",
       "      <td>{\"type\":\"科技\",\"site\":\"cnbeta\",\"commentNum\":\"15\"...</td>\n",
       "      <td>骁龙835在Windows 10上的性能表现有望改善</td>\n",
       "      <td>http://www.cnbeta.com/articles/tech/623599.htm</td>\n",
       "    </tr>\n",
       "    <tr>\n",
       "      <th>2</th>\n",
       "      <td>89615</td>\n",
       "      <td>NaN</td>\n",
       "      <td>快科技@http://www.kkj.cn/</td>\n",
       "      <td>此前的一加3T搭载的是3400mAh电池，DashCharge快充规格为5V/4A。\\r\\n...</td>\n",
       "      <td>{\"type\":\"科技\",\"site\":\"cnbeta\",\"commentNum\":\"18\"...</td>\n",
       "      <td>一加手机5细节曝光：3300mAh、充半小时用1天</td>\n",
       "      <td>http://www.cnbeta.com/articles/tech/623601.htm</td>\n",
       "    </tr>\n",
       "    <tr>\n",
       "      <th>3</th>\n",
       "      <td>89614</td>\n",
       "      <td>NaN</td>\n",
       "      <td>新华社</td>\n",
       "      <td>这是6月18日在葡萄牙中部大佩德罗冈地区拍摄的被森林大火烧毁的汽车。新华社记者张立云摄\\r\\n</td>\n",
       "      <td>{\"type\":\"国际新闻\",\"site\":\"环球\",\"commentNum\":\"0\",\"j...</td>\n",
       "      <td>葡森林火灾造成至少62人死亡 政府宣布进入紧急状态（组图）</td>\n",
       "      <td>http://world.huanqiu.com/hot/2017-06/10866126....</td>\n",
       "    </tr>\n",
       "    <tr>\n",
       "      <th>4</th>\n",
       "      <td>89613</td>\n",
       "      <td>胡淑丽_MN7479</td>\n",
       "      <td>深圳大件事</td>\n",
       "      <td>（原标题：44岁女子跑深圳约会网友被拒，暴雨中裸身奔走……）\\r\\n@深圳交警微博称：昨日清...</td>\n",
       "      <td>{\"type\":\"新闻\",\"site\":\"网易热门\",\"commentNum\":\"978\",...</td>\n",
       "      <td>44岁女子约网友被拒暴雨中裸奔 交警为其披衣相随</td>\n",
       "      <td>http://news.163.com/17/0618/00/CN617P3Q0001875...</td>\n",
       "    </tr>\n",
       "  </tbody>\n",
       "</table>\n",
       "</div>"
      ],
      "text/plain": [
       "      id      author                  source  \\\n",
       "0  89617         NaN  快科技@http://www.kkj.cn/   \n",
       "1  89616         NaN  快科技@http://www.kkj.cn/   \n",
       "2  89615         NaN  快科技@http://www.kkj.cn/   \n",
       "3  89614         NaN                     新华社   \n",
       "4  89613  胡淑丽_MN7479                   深圳大件事   \n",
       "\n",
       "                                             content  \\\n",
       "0  此外，自本周（6月12日）起，除小米手机6等15款机型外，其余机型已暂停更新发布（含开发版/...   \n",
       "1  骁龙835作为唯一通过Windows 10桌面平台认证的ARM处理器，高通强调，不会因为只考...   \n",
       "2  此前的一加3T搭载的是3400mAh电池，DashCharge快充规格为5V/4A。\\r\\n...   \n",
       "3    这是6月18日在葡萄牙中部大佩德罗冈地区拍摄的被森林大火烧毁的汽车。新华社记者张立云摄\\r\\n   \n",
       "4  （原标题：44岁女子跑深圳约会网友被拒，暴雨中裸身奔走……）\\r\\n@深圳交警微博称：昨日清...   \n",
       "\n",
       "                                             feature  \\\n",
       "0  {\"type\":\"科技\",\"site\":\"cnbeta\",\"commentNum\":\"37\"...   \n",
       "1  {\"type\":\"科技\",\"site\":\"cnbeta\",\"commentNum\":\"15\"...   \n",
       "2  {\"type\":\"科技\",\"site\":\"cnbeta\",\"commentNum\":\"18\"...   \n",
       "3  {\"type\":\"国际新闻\",\"site\":\"环球\",\"commentNum\":\"0\",\"j...   \n",
       "4  {\"type\":\"新闻\",\"site\":\"网易热门\",\"commentNum\":\"978\",...   \n",
       "\n",
       "                           title  \\\n",
       "0           小米MIUI 9首批机型曝光：共计15款   \n",
       "1     骁龙835在Windows 10上的性能表现有望改善   \n",
       "2      一加手机5细节曝光：3300mAh、充半小时用1天   \n",
       "3  葡森林火灾造成至少62人死亡 政府宣布进入紧急状态（组图）   \n",
       "4       44岁女子约网友被拒暴雨中裸奔 交警为其披衣相随   \n",
       "\n",
       "                                                 url  \n",
       "0     http://www.cnbeta.com/articles/tech/623597.htm  \n",
       "1     http://www.cnbeta.com/articles/tech/623599.htm  \n",
       "2     http://www.cnbeta.com/articles/tech/623601.htm  \n",
       "3  http://world.huanqiu.com/hot/2017-06/10866126....  \n",
       "4  http://news.163.com/17/0618/00/CN617P3Q0001875...  "
      ]
     },
     "execution_count": 4,
     "metadata": {},
     "output_type": "execute_result"
    }
   ],
   "source": [
    "content.head()"
   ]
  },
  {
   "cell_type": "code",
   "execution_count": 5,
   "metadata": {},
   "outputs": [],
   "source": [
    "xinhua_news = content[content['source'] == '新华社']"
   ]
  },
  {
   "cell_type": "code",
   "execution_count": 6,
   "metadata": {},
   "outputs": [
    {
     "data": {
      "text/plain": [
       "0.8778051801676133"
      ]
     },
     "execution_count": 6,
     "metadata": {},
     "output_type": "execute_result"
    }
   ],
   "source": [
    "len(xinhua_news) / len(content)"
   ]
  },
  {
   "cell_type": "markdown",
   "metadata": {},
   "source": [
    "### 任务描述"
   ]
  },
  {
   "cell_type": "markdown",
   "metadata": {},
   "source": [
    "报社等相关的机构，往往会遇到一个问题，就是别人家的机构使用自己的文章但是并没有标明来源。 在本次任务中，我们将解决新华社的文章被抄袭引用的问题。"
   ]
  },
  {
   "cell_type": "markdown",
   "metadata": {},
   "source": [
    "给定的数据集合中，存在一些新闻预料，该预料是来自新华社，但是其来源并不是新华社，请设计技巧学习模型解决该问题。"
   ]
  },
  {
   "cell_type": "markdown",
   "metadata": {},
   "source": [
    "![](https://timgsa.baidu.com/timg?image&quality=80&size=b9999_10000&sec=1566105348906&di=ee9a2de91207767364853d4decc6cca3&imgtype=0&src=http%3A%2F%2Fmmbiz.qpic.cn%2Fmmbiz_png%2FTicO2kbP6Ao5sCsSQDpehZiczLdC6hDCNvoicjcOCEKX2bLxBc9gVOw28zHyFibfIWq9ceRibP6HDTKReGkr6YyTfQQ%2F640%3Fwx_fmt%3Dpng)"
   ]
  },
  {
   "cell_type": "markdown",
   "metadata": {},
   "source": [
    "### Step1: 数据分析"
   ]
  },
  {
   "cell_type": "markdown",
   "metadata": {},
   "source": [
    "请在课程的GitHub中下载数据集，然后使用pandas进行读取。"
   ]
  },
  {
   "cell_type": "code",
   "execution_count": 1,
   "metadata": {},
   "outputs": [],
   "source": [
    "# it‘s your time\n",
    "import pandas as pd\n",
    "content = pd.read_csv('./sqlResult_1558435.csv', encoding='gb18030')"
   ]
  },
  {
   "cell_type": "markdown",
   "metadata": {},
   "source": [
    "### Step2: 数据预处理"
   ]
  },
  {
   "cell_type": "markdown",
   "metadata": {},
   "source": [
    "将pandas中的数据，依据是否是新华社的文章，请改变成新的数据dataframe: <content, y>, 其中，content是文章内容，y是0或者1. 你可能要使用到pandas的dataframe操作。https://pandas.pydata.org/pandas-docs/stable/reference/api/pandas.DataFrame.apply.html"
   ]
  },
  {
   "cell_type": "code",
   "execution_count": 2,
   "metadata": {},
   "outputs": [
    {
     "name": "stdout",
     "output_type": "stream",
     "text": [
      "                                                 content      y\n",
      "0      此外，自本周（6月12日）起，除小米手机6等15款机型外，其余机型已暂停更新发布（含开发版/...  False\n",
      "1      骁龙835作为唯一通过Windows 10桌面平台认证的ARM处理器，高通强调，不会因为只考...  False\n",
      "2      此前的一加3T搭载的是3400mAh电池，DashCharge快充规格为5V/4A。\\r\\n...  False\n",
      "3        这是6月18日在葡萄牙中部大佩德罗冈地区拍摄的被森林大火烧毁的汽车。新华社记者张立云摄\\r\\n   True\n",
      "4      （原标题：44岁女子跑深圳约会网友被拒，暴雨中裸身奔走……）\\r\\n@深圳交警微博称：昨日清...  False\n",
      "5      　　受到A股被纳入MSCI指数的利好消息刺激，A股市场从周三开始再度上演龙马行情，周四上午金...  False\n",
      "6      虽然至今夏普智能手机在市场上无法排得上号，已经完全没落，并于 2013 年退出中国市场，但是...  False\n",
      "7      　　沙漠雄鹰：震荡有利消化套牢筹码\\r\\n　　周四开盘上证50在银行券商大蓝筹带动下一度涨近...  False\n",
      "8      （原标题：武汉警方一下子抓了808人，还都是俊男靓女！原来他们每天偷偷摸摸干这事！）\\r\\n...  False\n",
      "9      　　6月21日，A股纳入MSCI指数尘埃落定，但当天被寄予厚望的券商股并未扛起反弹大旗。22...  False\n",
      "10     　　证券时报网（www.stcn.com）06月23日讯\\r\\n　　据上证报道，6月初以来，...  False\n",
      "11     ?\\r\\n　　巨丰早评：市场将再次探底\\r\\n　　【巨丰观点】\\r\\n　　周四大盘冲高回落，...  False\n",
      "12     中新网6月19日电 据外媒报道，美国底特律一名男子1976年因为一根头发被定谋杀罪，监禁41...  False\n",
      "13     　　曹先生：风格转换前的阵痛\\r\\n　　今日早盘两地低开，之后一度震荡走高，领涨的仍然是上证...  False\n",
      "14     6月21日，MSCI在官网发布公告称，从明年6月起将中国A股纳入MSCI新兴市场指数和MSC...  False\n",
      "15     　　中国证券网讯（记者 费天元）沪深两市周五临近午盘出现快速跳水，沪指连续跌穿5日、10日及...  False\n",
      "16     九成以上的源包用逐位对应的方式构建，未来版本的 Debian 还将提供验证包的工具和元数据；...  False\n",
      "17     国歌法草案首次提请最高立法机关审议\\r\\n点击图片进入下一页\\r\\n新闻：十二届全国人大常委...  False\n",
      "18     　　中证网讯 （本报记者 张怡）今日，三板做市指数继续低开下行，盘中最低触及1057.91点...  False\n",
      "19     　　提示声明：\\r\\n　　本文涉及的行业及个股分析来源于券商研究报告，仅为分析人士对该行业及...  False\n",
      "20     　　原标题：叙利亚被“袭机”事件惹怒俄罗斯 警告将瞄准美战机\\r\\n　　海外网6月19日电 ...  False\n",
      "21     　　提示声明：\\r\\n　　本文涉及的行业及个股分析来源于券商研究报告，仅为分析人士对该行业及...  False\n",
      "22     就在这几天，一位微博名为“摩卡 RQ ”的手机、芯片、移动互联网三界知名独立评论人爆料称，O...  False\n",
      "23     　　中证网讯 （本报记者 张怡）与此前两日蓝筹股强势格局不同，周五，A股市场主要指数低开之后...  False\n",
      "24     北京时间6月20日，江苏苏宁足球俱乐部发布了足协杯第四轮江苏苏宁易购队主场对阵河南建业队的官...  False\n",
      "25     当地时间2017年6月17日，土耳其马尼萨省，在土耳其第1步兵训练大队司令部军营，590名土...  False\n",
      "26     今年3月份，王劲从百度自动驾驶事业部任上离职，随后创办景驰科技。在随后的日子里，景驰很快组建...  False\n",
      "27     英国与欧盟的“脱欧”谈判于19日正式开始。然而此时，英国首相特雷莎·梅正面临着空前的政治压力...  False\n",
      "28     中超联赛第13轮比赛已经全部结束，这轮比赛中最让人觉得结果有些出乎意料的，莫过于卡佩罗执教江...  False\n",
      "29     　　文章导读： 供应商围堵追债、20多位高管离职、上千人被裁员、孤注一掷史上最大规模的降价…...  False\n",
      "...                                                  ...    ...\n",
      "89581  新华社照片，外代，2017年6月7日\\n（外代二线）足球——世预赛：葡萄牙备战\\n6月6日，...   True\n",
      "89582  新华社照片，外代，2017年6月7日\\n（外代二线）足球——世预赛：葡萄牙备战\\n6月6日，...   True\n",
      "89583  新华社照片，外代，2017年6月7日\\n（外代二线）足球——世预赛：葡萄牙备战\\n6月6日，...   True\n",
      "89584  新华社照片，外代，2017年6月7日\\n（外代二线）足球——世预赛：葡萄牙备战\\n6月6日，...   True\n",
      "89585  新华社照片，外代，2017年6月7日\\n（外代二线）足球——世预赛：葡萄牙备战\\n6月6日，...   True\n",
      "89586  新华社照片，外代，2017年6月7日\\n（外代二线）足球——世预赛：葡萄牙备战\\n6月6日，...   True\n",
      "89587  新华社照片，外代，2017年6月7日\\n（外代二线）蚕丝生产\\n6月6日，在印度特里普拉邦特...   True\n",
      "89588  新华社照片，外代，2017年6月7日\\n（外代二线）蚕丝生产\\n6月6日，在印度特里普拉邦特...   True\n",
      "89589  新华社照片，外代，2017年6月7日\\n（外代二线）蚕丝生产\\n5月30日，在印度特里普拉邦...   True\n",
      "89590  新华社照片，外代，2017年6月7日\\n（外代二线）蚕丝生产\\n6月6日，在印度特里普拉邦特...   True\n",
      "89591  新华社照片，外代，2017年6月7日\\n（外代二线）蚕丝生产\\n5月30日，在印度特里普拉邦...   True\n",
      "89592  \\n\\n2017年4月27日，在首尔光化门广场，民众在集会上手举反“萨德”标语。（新华社记者...   True\n",
      "89593  \\n新华社巴格达6月6日电（记者魏玉栋　程帅朋）伊拉克西部安巴尔省一处市场6日晚发生自杀式爆...   True\n",
      "89594  新华社照片，外代，2017年6月7日\\n（外代二线）足球——国际友谊赛：德国平丹麦\\n6月6...   True\n",
      "89595  新华社照片，外代，2017年6月7日\\n（外代二线）足球——国际友谊赛：德国平丹麦\\n6月6...   True\n",
      "89596  新华社照片，外代，2017年6月7日\\n（外代二线）足球——国际友谊赛：德国平丹麦\\n6月6...   True\n",
      "89597  新华社照片，外代，2017年6月7日\\n（外代二线）足球——国际友谊赛：德国平丹麦\\n6月6...   True\n",
      "89598  新华社照片，外代，2017年6月7日\\n（外代二线）足球——国际友谊赛：德国平丹麦\\n6月6...   True\n",
      "89599  新华社照片，外代，2017年6月7日\\n（外代二线）足球——国际友谊赛：德国平丹麦\\n6月6...   True\n",
      "89600  新华社照片，外代，2017年6月7日\\n（外代二线）足球——国际友谊赛：德国平丹麦\\n6月6...   True\n",
      "89601  新华社照片，外代，2017年6月7日\\n（外代二线）足球——国际友谊赛：德国平丹麦\\n6月6...   True\n",
      "89602  新华社照片，外代，2017年6月7日\\n（外代二线）足球——国际友谊赛：德国平丹麦\\n6月6...   True\n",
      "89603  新华社照片，北京，2017年6月7日\\n电影《血战湘江》举行清华大学巡映活动\\n6月6日，电...   True\n",
      "89604  新华社照片，北京，2017年6月7日\\n电影《血战湘江》举行清华大学巡映活动\\n6月6日，清...   True\n",
      "89605  新华社照片，北京，2017年6月7日\\n电影《血战湘江》举行清华大学巡映活动\\n6月6日，电...   True\n",
      "89606  新华社照片，多伦多，2017年6月7日\\n（体育）（2）冰球——国家女子冰球队海外选秀在多伦...   True\n",
      "89607  新华社兰州6月3日电（王衡、徐丹）记者从甘肃省交通运输厅获悉，甘肃近日集中开建高速公路、普通...   True\n",
      "89608  \\n\\n2017年5月29日，在法国巴黎郊外的凡尔赛宫，法国总统马克龙出席新闻发布会。（新华...   True\n",
      "89609  \\n\\n2017年5月25日，在美国马萨诸塞州剑桥市，哈佛大学毕业生在毕业典礼上欢呼。（新华...   True\n",
      "89610  　　新华社德国杜塞尔多夫６月６日电题：乒乓女球迷　\\n　　新华社记者王子江、张寒\\n　　熊老...   True\n",
      "\n",
      "[87054 rows x 2 columns]\n"
     ]
    }
   ],
   "source": [
    "# it's your time\n",
    "data = pd.DataFrame({'content':content['content'],'y':content['source']=='新华社'})\n",
    "data=data.dropna(axis=0)\n",
    "print(data)"
   ]
  },
  {
   "cell_type": "markdown",
   "metadata": {},
   "source": [
    "### Step3: 使用tfidf进行文本向量化"
   ]
  },
  {
   "cell_type": "markdown",
   "metadata": {},
   "source": [
    "参考 https://scikit-learn.org/stable/modules/generated/sklearn.feature_extraction.text.TfidfVectorizer.html 对"
   ]
  },
  {
   "cell_type": "markdown",
   "metadata": {},
   "source": [
    "对文本进行向量化"
   ]
  },
  {
   "cell_type": "code",
   "execution_count": 3,
   "metadata": {
    "scrolled": false
   },
   "outputs": [
    {
     "name": "stderr",
     "output_type": "stream",
     "text": [
      "Building prefix dict from the default dictionary ...\n",
      "Loading model from cache C:\\Users\\Raytine\\AppData\\Local\\Temp\\jieba.cache\n",
      "Loading model cost 0.614 seconds.\n",
      "Prefix dict has been built succesfully.\n"
     ]
    }
   ],
   "source": [
    "from sklearn.feature_extraction.text import TfidfVectorizer\n",
    "import cut_sentence as cs\n",
    "from collections import defaultdict\n",
    "\n",
    "#1. 统计词频\n",
    "tf=defaultdict(int)\n",
    "for index,row in data.iterrows():\n",
    "    words_list = cs.segment(row['content'],type=\"arr\")\n",
    "    for word in words_list:\n",
    "        tf[word]+=1\n",
    "#     break\n",
    "# print(tf)\n"
   ]
  },
  {
   "cell_type": "code",
   "execution_count": 4,
   "metadata": {},
   "outputs": [
    {
     "name": "stdout",
     "output_type": "stream",
     "text": [
      "257913 ('体验版', 1) ('的', 703820)\n"
     ]
    }
   ],
   "source": [
    "#2. 查看高频和低频词分布情况\n",
    "result = sorted(tf.items(),key=lambda item: item[1])\n",
    "print(len(result),result[0],result[len(result)-1])\n",
    "# new_list = list(zip(*result))\n",
    "plot_y=[item[1] for item in result]\n",
    "# print(plot_y)\n",
    "# for item in tf:\n",
    "#     if item[1]<30 or item[1]>"
   ]
  },
  {
   "cell_type": "code",
   "execution_count": 6,
   "metadata": {},
   "outputs": [
    {
     "data": {
      "image/png": "[encoded data removed]",
      "text/plain": [
       "<Figure size 432x288 with 1 Axes>"
      ]
     },
     "metadata": {
      "needs_background": "light"
     },
     "output_type": "display_data"
    }
   ],
   "source": [
    "import matplotlib.pyplot as plt\n",
    "\n",
    "plt.ylabel('word count')\n",
    "start = 0\n",
    "end = 250000\n",
    "plt.plot(range(end-start), plot_y[start:end],'ro')\n",
    "plt.show()"
   ]
  },
  {
   "cell_type": "code",
   "execution_count": 7,
   "metadata": {},
   "outputs": [
    {
     "name": "stdout",
     "output_type": "stream",
     "text": [
      "19708\n"
     ]
    }
   ],
   "source": [
    "#3. 根据上图挑选词频大于25小于200的词作为feature\n",
    "# 构建vocabulary\n",
    "vocabulary = defaultdict(int)\n",
    "index = 0\n",
    "for item in result:\n",
    "    if item[1]>50 and item[1]<500:\n",
    "        vocabulary[item[0]]=index\n",
    "        index+=1\n",
    "print(len(vocabulary))"
   ]
  },
  {
   "cell_type": "code",
   "execution_count": 8,
   "metadata": {
    "scrolled": true
   },
   "outputs": [
    {
     "name": "stdout",
     "output_type": "stream",
     "text": [
      "  (0, 19597)\t0.2437634748366421\n",
      "  (0, 19566)\t0.23861843059768398\n",
      "  (0, 17290)\t0.29544149939418257\n",
      "  (0, 16777)\t0.5261966688688238\n",
      "  (0, 15483)\t0.2714912319708748\n",
      "  (0, 12270)\t0.5908829987883651\n",
      "  (0, 4278)\t0.31084046024856554\n"
     ]
    }
   ],
   "source": [
    "#4. 使用tfidf向量化\n",
    "from scipy.sparse import dok_matrix\n",
    "\n",
    "def flatten2line(doc):\n",
    "    #把一篇文档压成一行\n",
    "    raw_doc=\"\"\n",
    "    for sentence in doc:\n",
    "        raw_doc+=sentence\n",
    "        raw_doc+=\" \"\n",
    "#     print(raw_doc)\n",
    "    return raw_doc\n",
    "\n",
    "docs=[]\n",
    "for index,row in data.iterrows():\n",
    "#     if index>1: break\n",
    "    doc = cs.cut_and_segment(row['content'])\n",
    "    if len(doc)==0:\n",
    "#         print(index,row['content'],doc)\n",
    "        docs.append(\"\")\n",
    "        continue\n",
    "#    print(doc)\n",
    "    doc = flatten2line(doc)\n",
    "    docs.append(doc)\n",
    "\n",
    "tfidf = TfidfVectorizer(max_features=len(vocabulary),vocabulary=vocabulary)\n",
    "vectorize = tfidf.fit_transform(docs)\n",
    "    \n",
    "print(vectorize[0,:])\n",
    "# plt.ylabel('valid feature count')\n",
    "# plt.plot(range(len(simple_count)), sorted(simple_count),'ro')\n",
    "# plt.show()"
   ]
  },
  {
   "cell_type": "code",
   "execution_count": 9,
   "metadata": {},
   "outputs": [
    {
     "name": "stdout",
     "output_type": "stream",
     "text": [
      "  (0, 19623)\t0.10798893531226042\n",
      "  (0, 19365)\t0.10932131631967482\n",
      "  (0, 19180)\t0.22459102161777889\n",
      "  (0, 18963)\t0.1089898909597632\n",
      "  (0, 18844)\t0.10816654312601051\n",
      "  (0, 18445)\t0.11156931047044229\n",
      "  (0, 18138)\t0.12665010921878597\n",
      "  (0, 18137)\t0.24439016307903602\n",
      "  (0, 17823)\t0.12053001877363398\n",
      "  (0, 17290)\t0.13056398453287138\n",
      "  (0, 17052)\t0.11515128841749896\n",
      "  (0, 16634)\t0.1211957517810758\n",
      "  (0, 16060)\t0.11778369823249121\n",
      "  (0, 15839)\t0.13073437972004825\n",
      "  (0, 15697)\t0.12062352197801704\n",
      "  (0, 15298)\t0.1194468183186141\n",
      "  (0, 15145)\t0.12347854344120812\n",
      "  (0, 14973)\t0.12034456073440049\n",
      "  (0, 9993)\t0.3887292552624107\n",
      "  (0, 9602)\t0.14379728081014165\n",
      "  (0, 6949)\t0.15300429203489738\n",
      "  (0, 5210)\t0.3035209600045827\n",
      "  (0, 1167)\t0.6146502557024905\n",
      "                                                 content      y  \\\n",
      "0      此外，自本周（6月12日）起，除小米手机6等15款机型外，其余机型已暂停更新发布（含开发版/...  False   \n",
      "1      骁龙835作为唯一通过Windows 10桌面平台认证的ARM处理器，高通强调，不会因为只考...  False   \n",
      "2      此前的一加3T搭载的是3400mAh电池，DashCharge快充规格为5V/4A。\\r\\n...  False   \n",
      "3        这是6月18日在葡萄牙中部大佩德罗冈地区拍摄的被森林大火烧毁的汽车。新华社记者张立云摄\\r\\n   True   \n",
      "4      （原标题：44岁女子跑深圳约会网友被拒，暴雨中裸身奔走……）\\r\\n@深圳交警微博称：昨日清...  False   \n",
      "5      　　受到A股被纳入MSCI指数的利好消息刺激，A股市场从周三开始再度上演龙马行情，周四上午金...  False   \n",
      "6      虽然至今夏普智能手机在市场上无法排得上号，已经完全没落，并于 2013 年退出中国市场，但是...  False   \n",
      "7      　　沙漠雄鹰：震荡有利消化套牢筹码\\r\\n　　周四开盘上证50在银行券商大蓝筹带动下一度涨近...  False   \n",
      "8      （原标题：武汉警方一下子抓了808人，还都是俊男靓女！原来他们每天偷偷摸摸干这事！）\\r\\n...  False   \n",
      "9      　　6月21日，A股纳入MSCI指数尘埃落定，但当天被寄予厚望的券商股并未扛起反弹大旗。22...  False   \n",
      "10     　　证券时报网（www.stcn.com）06月23日讯\\r\\n　　据上证报道，6月初以来，...  False   \n",
      "11     ?\\r\\n　　巨丰早评：市场将再次探底\\r\\n　　【巨丰观点】\\r\\n　　周四大盘冲高回落，...  False   \n",
      "12     中新网6月19日电 据外媒报道，美国底特律一名男子1976年因为一根头发被定谋杀罪，监禁41...  False   \n",
      "13     　　曹先生：风格转换前的阵痛\\r\\n　　今日早盘两地低开，之后一度震荡走高，领涨的仍然是上证...  False   \n",
      "14     6月21日，MSCI在官网发布公告称，从明年6月起将中国A股纳入MSCI新兴市场指数和MSC...  False   \n",
      "15     　　中国证券网讯（记者 费天元）沪深两市周五临近午盘出现快速跳水，沪指连续跌穿5日、10日及...  False   \n",
      "16     九成以上的源包用逐位对应的方式构建，未来版本的 Debian 还将提供验证包的工具和元数据；...  False   \n",
      "17     国歌法草案首次提请最高立法机关审议\\r\\n点击图片进入下一页\\r\\n新闻：十二届全国人大常委...  False   \n",
      "18     　　中证网讯 （本报记者 张怡）今日，三板做市指数继续低开下行，盘中最低触及1057.91点...  False   \n",
      "19     　　提示声明：\\r\\n　　本文涉及的行业及个股分析来源于券商研究报告，仅为分析人士对该行业及...  False   \n",
      "20     　　原标题：叙利亚被“袭机”事件惹怒俄罗斯 警告将瞄准美战机\\r\\n　　海外网6月19日电 ...  False   \n",
      "21     　　提示声明：\\r\\n　　本文涉及的行业及个股分析来源于券商研究报告，仅为分析人士对该行业及...  False   \n",
      "22     就在这几天，一位微博名为“摩卡 RQ ”的手机、芯片、移动互联网三界知名独立评论人爆料称，O...  False   \n",
      "23     　　中证网讯 （本报记者 张怡）与此前两日蓝筹股强势格局不同，周五，A股市场主要指数低开之后...  False   \n",
      "24     北京时间6月20日，江苏苏宁足球俱乐部发布了足协杯第四轮江苏苏宁易购队主场对阵河南建业队的官...  False   \n",
      "25     当地时间2017年6月17日，土耳其马尼萨省，在土耳其第1步兵训练大队司令部军营，590名土...  False   \n",
      "26     今年3月份，王劲从百度自动驾驶事业部任上离职，随后创办景驰科技。在随后的日子里，景驰很快组建...  False   \n",
      "27     英国与欧盟的“脱欧”谈判于19日正式开始。然而此时，英国首相特雷莎·梅正面临着空前的政治压力...  False   \n",
      "28     中超联赛第13轮比赛已经全部结束，这轮比赛中最让人觉得结果有些出乎意料的，莫过于卡佩罗执教江...  False   \n",
      "29     　　文章导读： 供应商围堵追债、20多位高管离职、上千人被裁员、孤注一掷史上最大规模的降价…...  False   \n",
      "...                                                  ...    ...   \n",
      "89581  新华社照片，外代，2017年6月7日\\n（外代二线）足球——世预赛：葡萄牙备战\\n6月6日，...   True   \n",
      "89582  新华社照片，外代，2017年6月7日\\n（外代二线）足球——世预赛：葡萄牙备战\\n6月6日，...   True   \n",
      "89583  新华社照片，外代，2017年6月7日\\n（外代二线）足球——世预赛：葡萄牙备战\\n6月6日，...   True   \n",
      "89584  新华社照片，外代，2017年6月7日\\n（外代二线）足球——世预赛：葡萄牙备战\\n6月6日，...   True   \n",
      "89585  新华社照片，外代，2017年6月7日\\n（外代二线）足球——世预赛：葡萄牙备战\\n6月6日，...   True   \n",
      "89586  新华社照片，外代，2017年6月7日\\n（外代二线）足球——世预赛：葡萄牙备战\\n6月6日，...   True   \n",
      "89587  新华社照片，外代，2017年6月7日\\n（外代二线）蚕丝生产\\n6月6日，在印度特里普拉邦特...   True   \n",
      "89588  新华社照片，外代，2017年6月7日\\n（外代二线）蚕丝生产\\n6月6日，在印度特里普拉邦特...   True   \n",
      "89589  新华社照片，外代，2017年6月7日\\n（外代二线）蚕丝生产\\n5月30日，在印度特里普拉邦...   True   \n",
      "89590  新华社照片，外代，2017年6月7日\\n（外代二线）蚕丝生产\\n6月6日，在印度特里普拉邦特...   True   \n",
      "89591  新华社照片，外代，2017年6月7日\\n（外代二线）蚕丝生产\\n5月30日，在印度特里普拉邦...   True   \n",
      "89592  \\n\\n2017年4月27日，在首尔光化门广场，民众在集会上手举反“萨德”标语。（新华社记者...   True   \n",
      "89593  \\n新华社巴格达6月6日电（记者魏玉栋　程帅朋）伊拉克西部安巴尔省一处市场6日晚发生自杀式爆...   True   \n",
      "89594  新华社照片，外代，2017年6月7日\\n（外代二线）足球——国际友谊赛：德国平丹麦\\n6月6...   True   \n",
      "89595  新华社照片，外代，2017年6月7日\\n（外代二线）足球——国际友谊赛：德国平丹麦\\n6月6...   True   \n",
      "89596  新华社照片，外代，2017年6月7日\\n（外代二线）足球——国际友谊赛：德国平丹麦\\n6月6...   True   \n",
      "89597  新华社照片，外代，2017年6月7日\\n（外代二线）足球——国际友谊赛：德国平丹麦\\n6月6...   True   \n",
      "89598  新华社照片，外代，2017年6月7日\\n（外代二线）足球——国际友谊赛：德国平丹麦\\n6月6...   True   \n",
      "89599  新华社照片，外代，2017年6月7日\\n（外代二线）足球——国际友谊赛：德国平丹麦\\n6月6...   True   \n",
      "89600  新华社照片，外代，2017年6月7日\\n（外代二线）足球——国际友谊赛：德国平丹麦\\n6月6...   True   \n",
      "89601  新华社照片，外代，2017年6月7日\\n（外代二线）足球——国际友谊赛：德国平丹麦\\n6月6...   True   \n",
      "89602  新华社照片，外代，2017年6月7日\\n（外代二线）足球——国际友谊赛：德国平丹麦\\n6月6...   True   \n",
      "89603  新华社照片，北京，2017年6月7日\\n电影《血战湘江》举行清华大学巡映活动\\n6月6日，电...   True   \n",
      "89604  新华社照片，北京，2017年6月7日\\n电影《血战湘江》举行清华大学巡映活动\\n6月6日，清...   True   \n",
      "89605  新华社照片，北京，2017年6月7日\\n电影《血战湘江》举行清华大学巡映活动\\n6月6日，电...   True   \n",
      "89606  新华社照片，多伦多，2017年6月7日\\n（体育）（2）冰球——国家女子冰球队海外选秀在多伦...   True   \n",
      "89607  新华社兰州6月3日电（王衡、徐丹）记者从甘肃省交通运输厅获悉，甘肃近日集中开建高速公路、普通...   True   \n",
      "89608  \\n\\n2017年5月29日，在法国巴黎郊外的凡尔赛宫，法国总统马克龙出席新闻发布会。（新华...   True   \n",
      "89609  \\n\\n2017年5月25日，在美国马萨诸塞州剑桥市，哈佛大学毕业生在毕业典礼上欢呼。（新华...   True   \n",
      "89610  　　新华社德国杜塞尔多夫６月６日电题：乒乓女球迷　\\n　　新华社记者王子江、张寒\\n　　熊老...   True   \n",
      "\n",
      "                                                   tfidf  \n",
      "0      {(0, 4278): 0.31084046024856554, (0, 12270): 0...  \n",
      "1      {(0, 1167): 0.6146502557024905, (0, 5210): 0.3...  \n",
      "2      {(0, 0): 0.7628931610879764, (0, 7845): 0.1683...  \n",
      "3      {(0, 7404): 0.5139224394193355, (0, 10424): 0....  \n",
      "4      {(0, 604): 0.07081591958004894, (0, 605): 0.06...  \n",
      "5      {(0, 1): 0.09695862011773389, (0, 2): 0.094963...  \n",
      "6      {(0, 608): 0.07810896734698626, (0, 1167): 0.5...  \n",
      "7      {(0, 3): 0.03815107621268624, (0, 309): 0.0388...  \n",
      "8      {(0, 4): 0.0413790955806026, (0, 310): 0.04148...  \n",
      "9      {(0, 609): 0.10809497517277412, (0, 1173): 0.1...  \n",
      "10     {(0, 5590): 0.21313807058559775, (0, 5912): 0....  \n",
      "11     {(0, 896): 0.06624828833738984, (0, 900): 0.06...  \n",
      "12     {(0, 2716): 0.12263572065184256, (0, 4675): 0....  \n",
      "13     {(0, 3869): 0.19545739042315363, (0, 5588): 0....  \n",
      "14     {(0, 5): 0.11009543488794442, (0, 6): 0.108766...  \n",
      "15     {(0, 899): 0.19857519008702093, (0, 907): 0.19...  \n",
      "16     {(0, 6517): 0.26553625943658804, (0, 13545): 0...  \n",
      "17     {(0, 1460): 0.1381263855657058, (0, 1461): 0.1...  \n",
      "18     {(0, 897): 0.20148363082225945, (0, 6069): 0.1...  \n",
      "19     {(0, 7): 0.2883842161009151, (0, 3659): 0.0554...  \n",
      "20     {(0, 3662): 0.13720355619344882, (0, 5413): 0....  \n",
      "21     {(0, 611): 0.17168991511494272, (0, 908): 0.05...  \n",
      "22     {(0, 3178): 0.08624211497072047, (0, 4094): 0....  \n",
      "23     {(0, 897): 0.282076524848912, (0, 7272): 0.131...  \n",
      "24     {(0, 2242): 0.10453212740366673, (0, 4678): 0....  \n",
      "25     {(0, 13493): 0.7479021053683697, (0, 15510): 0...  \n",
      "26     {(0, 612): 0.18313096192665504, (0, 1463): 0.1...  \n",
      "27     {(0, 8): 0.0670846657453431, (0, 9): 0.1380302...  \n",
      "28     {(0, 909): 0.10529195093305464, (0, 910): 0.10...  \n",
      "29     {(0, 1464): 0.015466459145377838, (0, 1742): 0...  \n",
      "...                                                  ...  \n",
      "89581  {(0, 8228): 0.558617927890158, (0, 10416): 0.5...  \n",
      "89582  {(0, 6997): 0.5251324511505359, (0, 8228): 0.4...  \n",
      "89583  {(0, 2733): 0.4208011432268052, (0, 8228): 0.4...  \n",
      "89584  {(0, 6997): 0.5251324511505359, (0, 8228): 0.4...  \n",
      "89585  {(0, 8228): 0.48768457163717077, (0, 9654): 0....  \n",
      "89586  {(0, 8228): 0.558617927890158, (0, 10416): 0.5...  \n",
      "89587  {(0, 830): 0.7783792498893026, (0, 16337): 0.6...  \n",
      "89588                                    {(0, 830): 1.0}  \n",
      "89589                                    {(0, 830): 1.0}  \n",
      "89590                                    {(0, 830): 1.0}  \n",
      "89591                                                 {}  \n",
      "89592  {(0, 2244): 0.06844571323882419, (0, 2375): 0....  \n",
      "89593  {(0, 3596): 0.28525027214942367, (0, 4666): 0....  \n",
      "89594  {(0, 11519): 0.30479264834280817, (0, 15295): ...  \n",
      "89595  {(0, 15295): 0.564960463064315, (0, 16159): 0....  \n",
      "89596  {(0, 2175): 0.30236752464939964, (0, 15295): 0...  \n",
      "89597  {(0, 15295): 0.6830230351459738, (0, 16159): 0...  \n",
      "89598  {(0, 15295): 0.5877257774004994, (0, 16159): 0...  \n",
      "89599  {(0, 15295): 0.6830230351459738, (0, 16159): 0...  \n",
      "89600  {(0, 11519): 0.30479264834280817, (0, 15295): ...  \n",
      "89601  {(0, 15295): 0.6528855306575407, (0, 16159): 0...  \n",
      "89602  {(0, 15295): 0.6564570341118563, (0, 16159): 0...  \n",
      "89603  {(0, 10220): 0.22238037368839284, (0, 11240): ...  \n",
      "89604  {(0, 5022): 0.2097921306473504, (0, 7419): 0.2...  \n",
      "89605  {(0, 5022): 0.21824423926678424, (0, 10220): 0...  \n",
      "89606  {(0, 4732): 0.6981575402780493, (0, 12699): 0....  \n",
      "89607  {(0, 2831): 0.2481338774924663, (0, 2900): 0.2...  \n",
      "89608  {(0, 1591): 0.10427152653501365, (0, 1943): 0....  \n",
      "89609  {(0, 1081): 0.33081602971650187, (0, 2248): 0....  \n",
      "89610  {(0, 149): 0.09774570213247671, (0, 174): 0.09...  \n",
      "\n"
     ]
    },
    {
     "name": "stdout",
     "output_type": "stream",
     "text": [
      "[87054 rows x 3 columns]\n"
     ]
    }
   ],
   "source": [
    "tfidf_value = []\n",
    "for m in vectorize:\n",
    "    tfidf_value.append(dok_matrix(m))\n",
    "print(vectorize[1,:])\n",
    "data['tfidf'] = tfidf_value\n",
    "# V = vectorize.toarray()\n",
    "# V=V.tolist()\n",
    "# print(data)"
   ]
  },
  {
   "cell_type": "markdown",
   "metadata": {},
   "source": [
    "### Step4: 参考scikit-learning的方法，构建你的第一个机器学习模型"
   ]
  },
  {
   "cell_type": "markdown",
   "metadata": {},
   "source": [
    "+ 按照课程讲解的内容，把数据集分割为 traning_data, validation_data, test_data. https://scikit-learn.org/stable/modules/generated/sklearn.model_selection.train_test_split.html"
   ]
  },
  {
   "cell_type": "code",
   "execution_count": 10,
   "metadata": {},
   "outputs": [
    {
     "name": "stdout",
     "output_type": "stream",
     "text": [
      "                                                   tfidf  \\\n",
      "13441  {(0, 2612): 0.17376483559062772, (0, 4073): 0....   \n",
      "13528  {(0, 13804): 0.43144128176546903, (0, 17557): ...   \n",
      "23935  {(0, 2733): 0.18904949240209162, (0, 4050): 0....   \n",
      "35915  {(0, 1792): 0.18622803097445875, (0, 2550): 0....   \n",
      "49900  {(0, 3846): 0.4799981875239576, (0, 4466): 0.5...   \n",
      "11252  {(0, 6211): 0.30566628717123534, (0, 14663): 0...   \n",
      "51212  {(0, 1593): 0.2611532427723645, (0, 7514): 0.8...   \n",
      "48654  {(0, 2623): 0.602366689954706, (0, 8462): 0.61...   \n",
      "25404  {(0, 6058): 0.5612281112269086, (0, 14769): 0....   \n",
      "53376  {(0, 6586): 0.24832361673311676, (0, 8859): 0....   \n",
      "60254  {(0, 15784): 0.47670784965542534, (0, 16143): ...   \n",
      "73258  {(0, 13091): 0.4675389593260753, (0, 18992): 0...   \n",
      "69399  {(0, 4464): 0.6774184683817012, (0, 8654): 0.4...   \n",
      "21632  {(0, 8805): 0.3511790138287337, (0, 10841): 0....   \n",
      "86495  {(0, 1054): 0.06932426130664023, (0, 1387): 0....   \n",
      "25653  {(0, 1432): 0.055922374171153144, (0, 3985): 0...   \n",
      "42827  {(0, 17617): 0.9249839055356417, (0, 18004): 0...   \n",
      "24666  {(0, 11680): 0.11796863076998151, (0, 14976): ...   \n",
      "43591  {(0, 334): 0.0979941058776423, (0, 3382): 0.09...   \n",
      "69965  {(0, 1035): 0.06068809922709136, (0, 2680): 0....   \n",
      "64034  {(0, 9887): 0.369489833327443, (0, 10060): 0.7...   \n",
      "74743  {(0, 399): 0.07292749308532372, (0, 1123): 0.0...   \n",
      "50836  {(0, 735): 0.19365049322133715, (0, 5073): 0.1...   \n",
      "61422  {(0, 15188): 0.5375055495410045, (0, 17060): 0...   \n",
      "29438  {(0, 4118): 0.23961417804880303, (0, 13421): 0...   \n",
      "36793  {(0, 8719): 0.2682093222293338, (0, 10094): 0....   \n",
      "37489  {(0, 927): 0.09652957626161651, (0, 3479): 0.0...   \n",
      "64162  {(0, 2450): 0.382252306985056, (0, 3073): 0.38...   \n",
      "55284  {(0, 13480): 0.7325409357309564, (0, 18329): 0...   \n",
      "1437   {(0, 1771): 0.152130211539426, (0, 2292): 0.07...   \n",
      "...                                                  ...   \n",
      "25890  {(0, 873): 0.2583668439166299, (0, 2376): 0.25...   \n",
      "57472                                                 {}   \n",
      "78325  {(0, 4761): 0.5340253022291105, (0, 6412): 0.1...   \n",
      "62572  {(0, 6511): 0.9180301839863112, (0, 13964): 0....   \n",
      "20823  {(0, 7311): 0.0713276159264226, (0, 14076): 0....   \n",
      "53314  {(0, 618): 0.11735049404239221, (0, 2436): 0.2...   \n",
      "3764   {(0, 1323): 0.05101084628844664, (0, 2537): 0....   \n",
      "50288  {(0, 1494): 0.3644268170547901, (0, 16115): 0....   \n",
      "54850  {(0, 1447): 0.13689663234700636, (0, 1946): 0....   \n",
      "28999  {(0, 7691): 0.6201260807439635, (0, 11986): 0....   \n",
      "55826  {(0, 1573): 0.32203506156418504, (0, 11611): 0...   \n",
      "17244  {(0, 9924): 0.39990232782116175, (0, 11541): 0...   \n",
      "56810  {(0, 1773): 0.09179125263642277, (0, 1946): 0....   \n",
      "64624  {(0, 8580): 0.35391503837862964, (0, 19093): 0...   \n",
      "21163  {(0, 1585): 0.6633651652198933, (0, 6051): 0.3...   \n",
      "1114   {(0, 1187): 0.06469186640517813, (0, 1755): 0....   \n",
      "64542                                   {(0, 2351): 1.0}   \n",
      "37740  {(0, 3539): 0.38195608621963967, (0, 10311): 0...   \n",
      "74454  {(0, 245): 0.07286712577748763, (0, 850): 0.22...   \n",
      "13401  {(0, 2349): 0.448364609943113, (0, 5885): 0.43...   \n",
      "67170                                    {(0, 284): 1.0}   \n",
      "51889  {(0, 1513): 0.11444328041066526, (0, 2018): 0....   \n",
      "66989  {(0, 17310): 0.7243373557645831, (0, 17669): 0...   \n",
      "40744  {(0, 2383): 0.25103835236861316, (0, 2638): 0....   \n",
      "2093   {(0, 501): 0.11416811563717244, (0, 4611): 0.3...   \n",
      "44072  {(0, 2277): 0.059729845869981625, (0, 2901): 0...   \n",
      "5896   {(0, 364): 0.15079395216998998, (0, 3471): 0.1...   \n",
      "40693  {(0, 1094): 0.11201268104008143, (0, 2456): 0....   \n",
      "21922  {(0, 7395): 0.29018927783586407, (0, 12228): 0...   \n",
      "86444  {(0, 2167): 0.14531756470166357, (0, 4978): 0....   \n",
      "\n",
      "                                                 content  \n",
      "13441  新华社照片，雅加达，2017年4月3日\\n（国际）（1）穿越百年的雅加达渔港\\n这是4月3日...  \n",
      "13528  新华社照片，外代，2017年4月4日\\n（外代二线）感受法式精致——辛白林婚纱秀\\n4月1日...  \n",
      "23935  新华社照片，华盛顿，2017年4月11日\\n（国际）（2）戈萨奇宣誓就任美国最高法院大法官\\...  \n",
      "35915  　　新华社南宁４月２１日电（记者向志强）继凌云县高铁无轨站开通运营后，南宁铁路局广西铁路旅游...  \n",
      "49900  新华社照片，宜昌（湖北），2017年5月4日\\n三峡水库水位消落至160米以内释放六成防洪库...  \n",
      "11252  新华社照片，外代，2017年3月31日\\n（外代二线）网球——迈阿密公开赛：沃兹尼亚奇晋级决...  \n",
      "51212  新华社照片，外代，2017年5月5日\\n（外代二线）新生小狮子\\n5月4日，在智利首都圣地亚...  \n",
      "48654  新华社照片，路透，2017年5月3日\\n（体育）（1）足球——欧冠：皇马胜马竞\\n5月2日，...  \n",
      "25404  新华社照片，无锡（江苏），2017年4月12日\\n（体育）（9）乒乓球——亚锦赛团体赛：中国...  \n",
      "53376  新华社照片，外代，2017年5月7日\\n（外代二线）赛马会上的礼帽盛宴\\n5月6日，在美国路...  \n",
      "60254  １、（督查在行动）“二十二证合一”是怎样“炼”成的（约９００字，约１１时３０分播发）\\n２、...  \n",
      "73258  新华社照片，外代，2017年5月24日\\n（外代二线）法网举行推介活动\\n5月23日，美国选...  \n",
      "69399  新华社照片，常熟（江苏），2017年5月21日\\n波司登上演江南实景时装秀\\n5月20日，模...  \n",
      "21632  新华社照片，华盛顿，2017年4月9日\\n（体育）（6）篮球——NBA常规赛：热火胜奇才\\n...  \n",
      "86495  　　新华社北京６月４日电（记者卢国强）记者４日从北京市交管部门了解到，高考期间北京交管部门将...  \n",
      "25653  　　新华社香港４月１２日电（记者丁梓懿）香港中文大学机械与自动化工程学系最近研发了一种高能量...  \n",
      "42827  新华社照片，武汉，2017年4月27日\\n（体育）（4）羽毛球——亚锦赛：李宗伟晋级八强\\n...  \n",
      "24666  　　新华社巴黎４月１１日电（记者韩冰）经济合作与发展组织（以下简称“经合组织”）１１日发布统...  \n",
      "43591  新华社照片，北京，2017年4月27日\\n（体育·专题）（2）永波告别国羽后生挑起大梁\\n4...  \n",
      "69965  　　【新华社微特稿】“天皇只要祈福就好了，想再扮演其他角色不合适。”在去年有关天皇退位的研讨...  \n",
      "64034  新华社照片，南京，2017年5月16日\\n苏宁易购捷克馆上线\\n5月16日，苏宁与捷克贸易促...  \n",
      "74743  \\n新华社西安5月25日电（记者许祖华　马长蕊　赵阿锋）近日，在西安建筑科技大学一间能坐百人...  \n",
      "50836  　　新华社香港５月４日电（记者王小旎）外交部驻港特派员公署发言人４日在香港表示，日前美国举行...  \n",
      "61422  新华社照片，外代，2017年5月14日\\n（外代二线）葡萄牙歌手索布拉尔夺得欧洲电视歌曲大赛...  \n",
      "29438  新华社照片，南京，2017年4月15日\\n南京举行“书香换新绿”创意爱心集市活动\\n4月15...  \n",
      "36793  新华社照片，外代，2017年4月22日\\n（外代二线）飞行汽车亮相摩纳哥\\n这是4月20日在...  \n",
      "37489  \\n新华社天津４月２２日新媒体专电（记者周润健）“舞蹈对我来说，不是舞台这样的一个空间可以界...  \n",
      "64162  新华社照片，枣庄（山东），2017年5月16日\\n山东枣庄：民间艺人进校园\\n民间艺人江淑君...  \n",
      "55284  新华社照片，外代，2017年5月9日\\n（外代二线）足球——欧冠联赛：尤文图斯备战\\n5月8...  \n",
      "1437   　　6月6日，央行进行4980亿元一年期MLF（中期借贷便利）操作，中标利率3.2%，与上期...  \n",
      "...                                                  ...  \n",
      "25890  　　新华社纽约４月１２日电（记者孙鸥梦）纽约股市三大股指１２日下跌。\\n　　经济数据方面，美...  \n",
      "57472                                               \\n\\n  \n",
      "78325  　　新华社贵阳５月２８日电（记者王新明）“２０１６年，阿里安全部运用大数据技术协助公安机关打...  \n",
      "62572  新华社照片，外代，2017年5月15日\\n（外代二线）欧洲最佳伺酒师大赛\\n5月11日，在奥...  \n",
      "20823  \\n\\n\\n\\n当地时间4月7日，国家主席习近平在美国佛罗里达州海湖庄园同美国总统特朗普举行...  \n",
      "53314  　　新华社贵阳５月７日电（记者向定杰）近日，贵州省６个县区级人民检察院分别对辖区内乡级政府违...  \n",
      "3764   　　又到一年分红季。随着近期权益分配方案密集实施，不少投资者实实在在拿到了上市公司派发的现金...  \n",
      "50288  新华社照片，且末（新疆），2017年5月4日\\n（体育）（5）赛车——新疆且末沙漠汽车越野争...  \n",
      "54850  　　新华社北京５月８日电　中国羽毛球队近日正式确定出征２０１７年苏迪曼杯混合团赛的名单，共有...  \n",
      "28999  新华社照片，无锡（江苏），2017年4月15日\\n（体育）（5）乒乓球——亚锦赛：许昕无缘男...  \n",
      "55826  1、索马里：首都发生汽车爆炸袭击致5人死亡\\n2、泰国：气象部门预报近期多地将有大到暴雨\\n...  \n",
      "17244  新华社照片，外代，2017年4月4日\\n（外代二线）风筝飞啊飞\\n4月1日，在法国北部滨海贝...  \n",
      "56810  \\n\\n新华社北京5月10日电\\n拥堵在早高峰的车流中，\\n还好HitFM播出了凯莉·克莱森...  \n",
      "64624  新华社照片，外代，2017年5月17日\\n（外代二线）网球——意大利公开赛：戈芬晋级\\n5月...  \n",
      "21163  新华社照片，北京，2017年4月8日\\n第24届北京大学生电影节开幕\\n4月8日，在开幕式上...  \n",
      "1114   　　据国外媒体报道， 三位知情人士称，贝恩资本计划成为东芝芯片业务的最大投资方，将斥资8,5...  \n",
      "64542  新华社照片，外代，2017年5月17日\\n（外代二线）享受暖日\\n5月16日，在德国法兰克福...  \n",
      "37740  　　新华社哈瓦那４月２２日新媒体专电古巴外交部２１日发表声明说，古巴与摩洛哥两国驻联合国代表...  \n",
      "74454  　　　新华社郑州５月２５日电（记者王林园）“我要用我的生命去弘扬国学，传递正能量。”河南滑县...  \n",
      "13401  \\n2017年2月，支付宝与芬兰航空科技合作，开创性地在赫尔辛基至上海的航班上开通了“支付宝...  \n",
      "67170  新华社照片，外代，2017年5月19日\\n（外代二线）网球——意大利公开赛：焦科维奇晋级\\n...  \n",
      "51889  　　新华社平壤５月５日电（记者程大雨　吴强）据朝中社５日报道，朝鲜外务省美国研究所发言人当天...  \n",
      "66989  新华社图表，北京，2017年5月18日\\n图表：质检总局：2016年进口能源和原材料逾20%...  \n",
      "40744  新华社照片，三沙（海南），2017年4月25日\\n美丽的海上驿站\\n一条船驶入晋卿岛的航道（...  \n",
      "2093   　　在上周三创下阶段新低后，近两日沪锌期货出现止跌反弹。截至上周五收盘，主力1707合约上涨...  \n",
      "44072  　　新华社北京４月２８日电（记者黄杰　郑直）中国篮协２８日在其网站上宣布，李楠、杜锋分别担任...  \n",
      "5896   央视网消息：昨天（22日），国家情报法草案二审稿提请十二届全国人大常委会第二十八次会议审议。...  \n",
      "40693  　　新华社重庆４月２５日电（记者周文冲　胡若晗）记者从重庆市动物园获悉，白虎“宁宁”于月初顺...  \n",
      "21922  新华社照片，长春，2017年4月9日\\n（体育）（4）足球——中超：长春亚泰平辽宁沈阳开新\\...  \n",
      "86444  新华社照片，蚌埠（安徽），2017年6月4日\\n麦收时节回收秸秆\\n6月4日，在安徽省蚌埠市...  \n",
      "\n",
      "[21764 rows x 2 columns]\n"
     ]
    }
   ],
   "source": [
    "from sklearn.model_selection import train_test_split\n",
    "\n",
    "X_train, X_test, y_train, y_test = train_test_split(data[['tfidf','content']],data['y'])\n",
    "\n",
    "print(X_test)"
   ]
  },
  {
   "cell_type": "markdown",
   "metadata": {},
   "source": [
    "+ 参照scikit learning的示例，从构建你的第一个KNN机器学习模型。"
   ]
  },
  {
   "cell_type": "code",
   "execution_count": 19,
   "metadata": {},
   "outputs": [
    {
     "name": "stdout",
     "output_type": "stream",
     "text": [
      "True\n",
      "新华社照片，雅加达，2017年4月3日\\n（国际）（1）穿越百年的雅加达渔港\\n这是4月3日在印度尼西亚首都雅加达拍摄的停泊在红溪湾港口的渔船。\\n在印尼首都雅加达北部海岸的繁华闹市中，有一处历史悠久的渔港名为红溪湾港口。早在16世纪，雅加达红溪湾就发展成为当时万丹素丹国的主要码头；17世纪荷兰殖民时期，这里成为一座集贸易、造船、渔港于一身的繁忙码头。如今，居住在这里的渔民仍以捕鱼为生，每天数以百计载满渔获的船只在此靠岸，渔民们将船舱中的大小鱼种装满一个个篮筐，分销到城市的各个地方。\\n新华社记者杜宇摄\\n\n"
     ]
    }
   ],
   "source": [
    "import numpy as np\n",
    "\n",
    "def distance(x1,x2):\n",
    "    return (x1.dot(x2.transpose())[0,0])**0.5\n",
    "\n",
    "def KNN(X,y,test,k=9):\n",
    "    nearest=[]\n",
    "    for neighbor in X.iterrows():\n",
    "        val = distance(neighbor[1]['tfidf'],test)\n",
    "        if val>0:\n",
    "            nearest.append((neighbor[0],val))\n",
    "    order = sorted(nearest,key=lambda item:item[1],reverse=True)\n",
    "    opp_cnt = 0\n",
    "    neg_cnt = 0\n",
    "    for idx in range(min(k,len(order))):# 判断y_hat\n",
    "        if y[order[idx][0]]==True: opp_cnt+=1\n",
    "        else: neg_cnt+=1\n",
    "    if opp_cnt>neg_cnt: return True\n",
    "    return False\n",
    "    \n",
    "# print(KNN(X_train,y_train,X_test['tfidf'].values[0]))\n",
    "# print(X_test['content'].values[0])"
   ]
  },
  {
   "cell_type": "code",
   "execution_count": null,
   "metadata": {},
   "outputs": [],
   "source": [
    "## 保存结果格式为(y,y_hat,content)\n",
    "result = []\n",
    "# print(X_test.loc[23935]['content'])\n",
    "for test in X_test.iterrows():\n",
    "    y_hat = KNN(X_train,y_train,test[1]['tfidf'])\n",
    "    try:\n",
    "        result.append((y_test.loc[test[0]],y_hat,X_test.loc[test[0]]['content']))\n",
    "    except:\n",
    "        print(test[0])\n",
    "        break\n",
    "#     print(y_test.values[test[0]],y_hat,X_test['content'].values[test[0]])\n",
    "#     break"
   ]
  },
  {
   "cell_type": "code",
   "execution_count": 43,
   "metadata": {},
   "outputs": [
    {
     "name": "stdout",
     "output_type": "stream",
     "text": [
      "13441     True\n",
      "13528     True\n",
      "23935     True\n",
      "35915     True\n",
      "49900     True\n",
      "11252     True\n",
      "51212     True\n",
      "48654     True\n",
      "25404     True\n",
      "53376     True\n",
      "60254     True\n",
      "73258     True\n",
      "69399     True\n",
      "21632     True\n",
      "86495     True\n",
      "25653     True\n",
      "42827     True\n",
      "24666     True\n",
      "43591     True\n",
      "69965     True\n",
      "64034     True\n",
      "74743     True\n",
      "50836     True\n",
      "61422     True\n",
      "29438     True\n",
      "36793     True\n",
      "37489     True\n",
      "64162     True\n",
      "55284     True\n",
      "1437     False\n",
      "         ...  \n",
      "25890     True\n",
      "57472     True\n",
      "78325     True\n",
      "62572     True\n",
      "20823     True\n",
      "53314     True\n",
      "3764     False\n",
      "50288     True\n",
      "54850     True\n",
      "28999     True\n",
      "55826     True\n",
      "17244     True\n",
      "56810     True\n",
      "64624     True\n",
      "21163     True\n",
      "1114     False\n",
      "64542     True\n",
      "37740     True\n",
      "74454     True\n",
      "13401     True\n",
      "67170     True\n",
      "51889     True\n",
      "66989     True\n",
      "40744     True\n",
      "2093     False\n",
      "44072     True\n",
      "5896     False\n",
      "40693     True\n",
      "21922     True\n",
      "86444     True\n",
      "Name: y, Length: 21764, dtype: bool\n"
     ]
    }
   ],
   "source": [
    "print(y_test)"
   ]
  },
  {
   "cell_type": "markdown",
   "metadata": {},
   "source": [
    "### Step5: 在traning_data, validation_data, test_data 上观察其相关metric: recall, precision, f1等， 并解释其含义. "
   ]
  },
  {
   "cell_type": "code",
   "execution_count": 32,
   "metadata": {},
   "outputs": [],
   "source": [
    "from sklearn.metrics import accuracy_score\n",
    "from sklearn.metrics import f1_score\n",
    "from sklearn.metrics import recall_score\n"
   ]
  },
  {
   "cell_type": "markdown",
   "metadata": {},
   "source": [
    "### Step6: 使用 test_data 对其进行新数据的判断, 你有没"
   ]
  },
  {
   "cell_type": "code",
   "execution_count": 10,
   "metadata": {},
   "outputs": [],
   "source": [
    "# it's your time"
   ]
  },
  {
   "cell_type": "markdown",
   "metadata": {},
   "source": [
    "### Step7: 调整不同的参数，观察变化"
   ]
  },
  {
   "cell_type": "code",
   "execution_count": 11,
   "metadata": {},
   "outputs": [],
   "source": [
    "# it's your time"
   ]
  },
  {
   "cell_type": "markdown",
   "metadata": {},
   "source": [
    "### Step8: 不断改变参数，直到性能达到“某个”点。问：“某个”怎么定义？"
   ]
  },
  {
   "cell_type": "code",
   "execution_count": 12,
   "metadata": {},
   "outputs": [],
   "source": [
    "# it's your time"
   ]
  },
  {
   "cell_type": "markdown",
   "metadata": {},
   "source": [
    "### Step9: 找出所以预测为 1， 但是实际为 0 的文章。 作为抄袭的候选者。"
   ]
  },
  {
   "cell_type": "code",
   "execution_count": 13,
   "metadata": {},
   "outputs": [],
   "source": [
    "# it's your time"
   ]
  },
  {
   "cell_type": "markdown",
   "metadata": {},
   "source": [
    "### Step10： 总结该过程，什么是数据思维？什么是机器学习思维？"
   ]
  },
  {
   "cell_type": "markdown",
   "metadata": {},
   "source": [
    "### (Optional)使用第4课讲解的 edit distance，在涉嫌抄袭的文章中，找到其重复的文字与被修改过的文字。 "
   ]
  },
  {
   "cell_type": "markdown",
   "metadata": {},
   "source": [
    "### Step11: 利用第8课讲述的新模型，进行操作，感受其中不同的参数、模型对性能的影响。"
   ]
  }
 ],
 "metadata": {
  "kernelspec": {
   "display_name": "Python 3",
   "language": "python",
   "name": "python3"
  },
  "language_info": {
   "codemirror_mode": {
    "name": "ipython",
    "version": 3
   },
   "file_extension": ".py",
   "mimetype": "text/x-python",
   "name": "python",
   "nbconvert_exporter": "python",
   "pygments_lexer": "ipython3",
   "version": "3.7.0"
  }
 },
 "nbformat": 4,
 "nbformat_minor": 2
}
