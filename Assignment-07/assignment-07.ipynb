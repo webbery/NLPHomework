{
 "cells": [
  {
   "cell_type": "markdown",
   "metadata": {},
   "source": [
    "## Assignment-07 First Step of using machine learning and models."
   ]
  },
  {
   "cell_type": "markdown",
   "metadata": {},
   "source": [
    "![](https://github.com/Computing-Intelligence/jupyters_and_slides/raw/master/entrance-test/images/kkb-ai.png)"
   ]
  },
  {
   "cell_type": "code",
   "execution_count": 1,
   "metadata": {},
   "outputs": [],
   "source": [
    "fname = '/Users/gaominquan/Downloads/sqlResult_1558435 2.csv'"
   ]
  },
  {
   "cell_type": "code",
   "execution_count": 2,
   "metadata": {},
   "outputs": [],
   "source": [
    "import pandas as pd"
   ]
  },
  {
   "cell_type": "code",
   "execution_count": 3,
   "metadata": {},
   "outputs": [],
   "source": [
    "content = pd.read_csv(fname, encoding='gb18030')"
   ]
  },
  {
   "cell_type": "code",
   "execution_count": 4,
   "metadata": {},
   "outputs": [
    {
     "data": {
      "text/html": [
       "<div>\n",
       "<style scoped>\n",
       "    .dataframe tbody tr th:only-of-type {\n",
       "        vertical-align: middle;\n",
       "    }\n",
       "\n",
       "    .dataframe tbody tr th {\n",
       "        vertical-align: top;\n",
       "    }\n",
       "\n",
       "    .dataframe thead th {\n",
       "        text-align: right;\n",
       "    }\n",
       "</style>\n",
       "<table border=\"1\" class=\"dataframe\">\n",
       "  <thead>\n",
       "    <tr style=\"text-align: right;\">\n",
       "      <th></th>\n",
       "      <th>id</th>\n",
       "      <th>author</th>\n",
       "      <th>source</th>\n",
       "      <th>content</th>\n",
       "      <th>feature</th>\n",
       "      <th>title</th>\n",
       "      <th>url</th>\n",
       "    </tr>\n",
       "  </thead>\n",
       "  <tbody>\n",
       "    <tr>\n",
       "      <th>0</th>\n",
       "      <td>89617</td>\n",
       "      <td>NaN</td>\n",
       "      <td>快科技@http://www.kkj.cn/</td>\n",
       "      <td>此外，自本周（6月12日）起，除小米手机6等15款机型外，其余机型已暂停更新发布（含开发版/...</td>\n",
       "      <td>{\"type\":\"科技\",\"site\":\"cnbeta\",\"commentNum\":\"37\"...</td>\n",
       "      <td>小米MIUI 9首批机型曝光：共计15款</td>\n",
       "      <td>http://www.cnbeta.com/articles/tech/623597.htm</td>\n",
       "    </tr>\n",
       "    <tr>\n",
       "      <th>1</th>\n",
       "      <td>89616</td>\n",
       "      <td>NaN</td>\n",
       "      <td>快科技@http://www.kkj.cn/</td>\n",
       "      <td>骁龙835作为唯一通过Windows 10桌面平台认证的ARM处理器，高通强调，不会因为只考...</td>\n",
       "      <td>{\"type\":\"科技\",\"site\":\"cnbeta\",\"commentNum\":\"15\"...</td>\n",
       "      <td>骁龙835在Windows 10上的性能表现有望改善</td>\n",
       "      <td>http://www.cnbeta.com/articles/tech/623599.htm</td>\n",
       "    </tr>\n",
       "    <tr>\n",
       "      <th>2</th>\n",
       "      <td>89615</td>\n",
       "      <td>NaN</td>\n",
       "      <td>快科技@http://www.kkj.cn/</td>\n",
       "      <td>此前的一加3T搭载的是3400mAh电池，DashCharge快充规格为5V/4A。\\r\\n...</td>\n",
       "      <td>{\"type\":\"科技\",\"site\":\"cnbeta\",\"commentNum\":\"18\"...</td>\n",
       "      <td>一加手机5细节曝光：3300mAh、充半小时用1天</td>\n",
       "      <td>http://www.cnbeta.com/articles/tech/623601.htm</td>\n",
       "    </tr>\n",
       "    <tr>\n",
       "      <th>3</th>\n",
       "      <td>89614</td>\n",
       "      <td>NaN</td>\n",
       "      <td>新华社</td>\n",
       "      <td>这是6月18日在葡萄牙中部大佩德罗冈地区拍摄的被森林大火烧毁的汽车。新华社记者张立云摄\\r\\n</td>\n",
       "      <td>{\"type\":\"国际新闻\",\"site\":\"环球\",\"commentNum\":\"0\",\"j...</td>\n",
       "      <td>葡森林火灾造成至少62人死亡 政府宣布进入紧急状态（组图）</td>\n",
       "      <td>http://world.huanqiu.com/hot/2017-06/10866126....</td>\n",
       "    </tr>\n",
       "    <tr>\n",
       "      <th>4</th>\n",
       "      <td>89613</td>\n",
       "      <td>胡淑丽_MN7479</td>\n",
       "      <td>深圳大件事</td>\n",
       "      <td>（原标题：44岁女子跑深圳约会网友被拒，暴雨中裸身奔走……）\\r\\n@深圳交警微博称：昨日清...</td>\n",
       "      <td>{\"type\":\"新闻\",\"site\":\"网易热门\",\"commentNum\":\"978\",...</td>\n",
       "      <td>44岁女子约网友被拒暴雨中裸奔 交警为其披衣相随</td>\n",
       "      <td>http://news.163.com/17/0618/00/CN617P3Q0001875...</td>\n",
       "    </tr>\n",
       "  </tbody>\n",
       "</table>\n",
       "</div>"
      ],
      "text/plain": [
       "      id      author                  source  \\\n",
       "0  89617         NaN  快科技@http://www.kkj.cn/   \n",
       "1  89616         NaN  快科技@http://www.kkj.cn/   \n",
       "2  89615         NaN  快科技@http://www.kkj.cn/   \n",
       "3  89614         NaN                     新华社   \n",
       "4  89613  胡淑丽_MN7479                   深圳大件事   \n",
       "\n",
       "                                             content  \\\n",
       "0  此外，自本周（6月12日）起，除小米手机6等15款机型外，其余机型已暂停更新发布（含开发版/...   \n",
       "1  骁龙835作为唯一通过Windows 10桌面平台认证的ARM处理器，高通强调，不会因为只考...   \n",
       "2  此前的一加3T搭载的是3400mAh电池，DashCharge快充规格为5V/4A。\\r\\n...   \n",
       "3    这是6月18日在葡萄牙中部大佩德罗冈地区拍摄的被森林大火烧毁的汽车。新华社记者张立云摄\\r\\n   \n",
       "4  （原标题：44岁女子跑深圳约会网友被拒，暴雨中裸身奔走……）\\r\\n@深圳交警微博称：昨日清...   \n",
       "\n",
       "                                             feature  \\\n",
       "0  {\"type\":\"科技\",\"site\":\"cnbeta\",\"commentNum\":\"37\"...   \n",
       "1  {\"type\":\"科技\",\"site\":\"cnbeta\",\"commentNum\":\"15\"...   \n",
       "2  {\"type\":\"科技\",\"site\":\"cnbeta\",\"commentNum\":\"18\"...   \n",
       "3  {\"type\":\"国际新闻\",\"site\":\"环球\",\"commentNum\":\"0\",\"j...   \n",
       "4  {\"type\":\"新闻\",\"site\":\"网易热门\",\"commentNum\":\"978\",...   \n",
       "\n",
       "                           title  \\\n",
       "0           小米MIUI 9首批机型曝光：共计15款   \n",
       "1     骁龙835在Windows 10上的性能表现有望改善   \n",
       "2      一加手机5细节曝光：3300mAh、充半小时用1天   \n",
       "3  葡森林火灾造成至少62人死亡 政府宣布进入紧急状态（组图）   \n",
       "4       44岁女子约网友被拒暴雨中裸奔 交警为其披衣相随   \n",
       "\n",
       "                                                 url  \n",
       "0     http://www.cnbeta.com/articles/tech/623597.htm  \n",
       "1     http://www.cnbeta.com/articles/tech/623599.htm  \n",
       "2     http://www.cnbeta.com/articles/tech/623601.htm  \n",
       "3  http://world.huanqiu.com/hot/2017-06/10866126....  \n",
       "4  http://news.163.com/17/0618/00/CN617P3Q0001875...  "
      ]
     },
     "execution_count": 4,
     "metadata": {},
     "output_type": "execute_result"
    }
   ],
   "source": [
    "content.head()"
   ]
  },
  {
   "cell_type": "code",
   "execution_count": 5,
   "metadata": {},
   "outputs": [],
   "source": [
    "xinhua_news = content[content['source'] == '新华社']"
   ]
  },
  {
   "cell_type": "code",
   "execution_count": 6,
   "metadata": {},
   "outputs": [
    {
     "data": {
      "text/plain": [
       "0.8778051801676133"
      ]
     },
     "execution_count": 6,
     "metadata": {},
     "output_type": "execute_result"
    }
   ],
   "source": [
    "len(xinhua_news) / len(content)"
   ]
  },
  {
   "cell_type": "markdown",
   "metadata": {},
   "source": [
    "### 任务描述"
   ]
  },
  {
   "cell_type": "markdown",
   "metadata": {},
   "source": [
    "报社等相关的机构，往往会遇到一个问题，就是别人家的机构使用自己的文章但是并没有标明来源。 在本次任务中，我们将解决新华社的文章被抄袭引用的问题。"
   ]
  },
  {
   "cell_type": "markdown",
   "metadata": {},
   "source": [
    "给定的数据集合中，存在一些新闻预料，该预料是来自新华社，但是其来源并不是新华社，请设计技巧学习模型解决该问题。"
   ]
  },
  {
   "cell_type": "markdown",
   "metadata": {},
   "source": [
    "![](https://timgsa.baidu.com/timg?image&quality=80&size=b9999_10000&sec=1566105348906&di=ee9a2de91207767364853d4decc6cca3&imgtype=0&src=http%3A%2F%2Fmmbiz.qpic.cn%2Fmmbiz_png%2FTicO2kbP6Ao5sCsSQDpehZiczLdC6hDCNvoicjcOCEKX2bLxBc9gVOw28zHyFibfIWq9ceRibP6HDTKReGkr6YyTfQQ%2F640%3Fwx_fmt%3Dpng)"
   ]
  },
  {
   "cell_type": "markdown",
   "metadata": {},
   "source": [
    "### Step1: 数据分析"
   ]
  },
  {
   "cell_type": "markdown",
   "metadata": {},
   "source": [
    "请在课程的GitHub中下载数据集，然后使用pandas进行读取。"
   ]
  },
  {
   "cell_type": "code",
   "execution_count": 1,
   "metadata": {},
   "outputs": [],
   "source": [
    "# it‘s your time\n",
    "import pandas as pd\n",
    "content = pd.read_csv('./sqlResult_1558435.csv', encoding='gb18030')"
   ]
  },
  {
   "cell_type": "markdown",
   "metadata": {},
   "source": [
    "### Step2: 数据预处理"
   ]
  },
  {
   "cell_type": "markdown",
   "metadata": {},
   "source": [
    "将pandas中的数据，依据是否是新华社的文章，请改变成新的数据dataframe: <content, y>, 其中，content是文章内容，y是0或者1. 你可能要使用到pandas的dataframe操作。https://pandas.pydata.org/pandas-docs/stable/reference/api/pandas.DataFrame.apply.html"
   ]
  },
  {
   "cell_type": "code",
   "execution_count": 2,
   "metadata": {},
   "outputs": [
    {
     "name": "stdout",
     "output_type": "stream",
     "text": [
      "                                                 content      y\n",
      "0      此外，自本周（6月12日）起，除小米手机6等15款机型外，其余机型已暂停更新发布（含开发版/...  False\n",
      "1      骁龙835作为唯一通过Windows 10桌面平台认证的ARM处理器，高通强调，不会因为只考...  False\n",
      "2      此前的一加3T搭载的是3400mAh电池，DashCharge快充规格为5V/4A。\\r\\n...  False\n",
      "3        这是6月18日在葡萄牙中部大佩德罗冈地区拍摄的被森林大火烧毁的汽车。新华社记者张立云摄\\r\\n   True\n",
      "4      （原标题：44岁女子跑深圳约会网友被拒，暴雨中裸身奔走……）\\r\\n@深圳交警微博称：昨日清...  False\n",
      "5      　　受到A股被纳入MSCI指数的利好消息刺激，A股市场从周三开始再度上演龙马行情，周四上午金...  False\n",
      "6      虽然至今夏普智能手机在市场上无法排得上号，已经完全没落，并于 2013 年退出中国市场，但是...  False\n",
      "7      　　沙漠雄鹰：震荡有利消化套牢筹码\\r\\n　　周四开盘上证50在银行券商大蓝筹带动下一度涨近...  False\n",
      "8      （原标题：武汉警方一下子抓了808人，还都是俊男靓女！原来他们每天偷偷摸摸干这事！）\\r\\n...  False\n",
      "9      　　6月21日，A股纳入MSCI指数尘埃落定，但当天被寄予厚望的券商股并未扛起反弹大旗。22...  False\n",
      "10     　　证券时报网（www.stcn.com）06月23日讯\\r\\n　　据上证报道，6月初以来，...  False\n",
      "11     ?\\r\\n　　巨丰早评：市场将再次探底\\r\\n　　【巨丰观点】\\r\\n　　周四大盘冲高回落，...  False\n",
      "12     中新网6月19日电 据外媒报道，美国底特律一名男子1976年因为一根头发被定谋杀罪，监禁41...  False\n",
      "13     　　曹先生：风格转换前的阵痛\\r\\n　　今日早盘两地低开，之后一度震荡走高，领涨的仍然是上证...  False\n",
      "14     6月21日，MSCI在官网发布公告称，从明年6月起将中国A股纳入MSCI新兴市场指数和MSC...  False\n",
      "15     　　中国证券网讯（记者 费天元）沪深两市周五临近午盘出现快速跳水，沪指连续跌穿5日、10日及...  False\n",
      "16     九成以上的源包用逐位对应的方式构建，未来版本的 Debian 还将提供验证包的工具和元数据；...  False\n",
      "17     国歌法草案首次提请最高立法机关审议\\r\\n点击图片进入下一页\\r\\n新闻：十二届全国人大常委...  False\n",
      "18     　　中证网讯 （本报记者 张怡）今日，三板做市指数继续低开下行，盘中最低触及1057.91点...  False\n",
      "19     　　提示声明：\\r\\n　　本文涉及的行业及个股分析来源于券商研究报告，仅为分析人士对该行业及...  False\n",
      "20     　　原标题：叙利亚被“袭机”事件惹怒俄罗斯 警告将瞄准美战机\\r\\n　　海外网6月19日电 ...  False\n",
      "21     　　提示声明：\\r\\n　　本文涉及的行业及个股分析来源于券商研究报告，仅为分析人士对该行业及...  False\n",
      "22     就在这几天，一位微博名为“摩卡 RQ ”的手机、芯片、移动互联网三界知名独立评论人爆料称，O...  False\n",
      "23     　　中证网讯 （本报记者 张怡）与此前两日蓝筹股强势格局不同，周五，A股市场主要指数低开之后...  False\n",
      "24     北京时间6月20日，江苏苏宁足球俱乐部发布了足协杯第四轮江苏苏宁易购队主场对阵河南建业队的官...  False\n",
      "25     当地时间2017年6月17日，土耳其马尼萨省，在土耳其第1步兵训练大队司令部军营，590名土...  False\n",
      "26     今年3月份，王劲从百度自动驾驶事业部任上离职，随后创办景驰科技。在随后的日子里，景驰很快组建...  False\n",
      "27     英国与欧盟的“脱欧”谈判于19日正式开始。然而此时，英国首相特雷莎·梅正面临着空前的政治压力...  False\n",
      "28     中超联赛第13轮比赛已经全部结束，这轮比赛中最让人觉得结果有些出乎意料的，莫过于卡佩罗执教江...  False\n",
      "29     　　文章导读： 供应商围堵追债、20多位高管离职、上千人被裁员、孤注一掷史上最大规模的降价…...  False\n",
      "...                                                  ...    ...\n",
      "89581  新华社照片，外代，2017年6月7日\\n（外代二线）足球——世预赛：葡萄牙备战\\n6月6日，...   True\n",
      "89582  新华社照片，外代，2017年6月7日\\n（外代二线）足球——世预赛：葡萄牙备战\\n6月6日，...   True\n",
      "89583  新华社照片，外代，2017年6月7日\\n（外代二线）足球——世预赛：葡萄牙备战\\n6月6日，...   True\n",
      "89584  新华社照片，外代，2017年6月7日\\n（外代二线）足球——世预赛：葡萄牙备战\\n6月6日，...   True\n",
      "89585  新华社照片，外代，2017年6月7日\\n（外代二线）足球——世预赛：葡萄牙备战\\n6月6日，...   True\n",
      "89586  新华社照片，外代，2017年6月7日\\n（外代二线）足球——世预赛：葡萄牙备战\\n6月6日，...   True\n",
      "89587  新华社照片，外代，2017年6月7日\\n（外代二线）蚕丝生产\\n6月6日，在印度特里普拉邦特...   True\n",
      "89588  新华社照片，外代，2017年6月7日\\n（外代二线）蚕丝生产\\n6月6日，在印度特里普拉邦特...   True\n",
      "89589  新华社照片，外代，2017年6月7日\\n（外代二线）蚕丝生产\\n5月30日，在印度特里普拉邦...   True\n",
      "89590  新华社照片，外代，2017年6月7日\\n（外代二线）蚕丝生产\\n6月6日，在印度特里普拉邦特...   True\n",
      "89591  新华社照片，外代，2017年6月7日\\n（外代二线）蚕丝生产\\n5月30日，在印度特里普拉邦...   True\n",
      "89592  \\n\\n2017年4月27日，在首尔光化门广场，民众在集会上手举反“萨德”标语。（新华社记者...   True\n",
      "89593  \\n新华社巴格达6月6日电（记者魏玉栋　程帅朋）伊拉克西部安巴尔省一处市场6日晚发生自杀式爆...   True\n",
      "89594  新华社照片，外代，2017年6月7日\\n（外代二线）足球——国际友谊赛：德国平丹麦\\n6月6...   True\n",
      "89595  新华社照片，外代，2017年6月7日\\n（外代二线）足球——国际友谊赛：德国平丹麦\\n6月6...   True\n",
      "89596  新华社照片，外代，2017年6月7日\\n（外代二线）足球——国际友谊赛：德国平丹麦\\n6月6...   True\n",
      "89597  新华社照片，外代，2017年6月7日\\n（外代二线）足球——国际友谊赛：德国平丹麦\\n6月6...   True\n",
      "89598  新华社照片，外代，2017年6月7日\\n（外代二线）足球——国际友谊赛：德国平丹麦\\n6月6...   True\n",
      "89599  新华社照片，外代，2017年6月7日\\n（外代二线）足球——国际友谊赛：德国平丹麦\\n6月6...   True\n",
      "89600  新华社照片，外代，2017年6月7日\\n（外代二线）足球——国际友谊赛：德国平丹麦\\n6月6...   True\n",
      "89601  新华社照片，外代，2017年6月7日\\n（外代二线）足球——国际友谊赛：德国平丹麦\\n6月6...   True\n",
      "89602  新华社照片，外代，2017年6月7日\\n（外代二线）足球——国际友谊赛：德国平丹麦\\n6月6...   True\n",
      "89603  新华社照片，北京，2017年6月7日\\n电影《血战湘江》举行清华大学巡映活动\\n6月6日，电...   True\n",
      "89604  新华社照片，北京，2017年6月7日\\n电影《血战湘江》举行清华大学巡映活动\\n6月6日，清...   True\n",
      "89605  新华社照片，北京，2017年6月7日\\n电影《血战湘江》举行清华大学巡映活动\\n6月6日，电...   True\n",
      "89606  新华社照片，多伦多，2017年6月7日\\n（体育）（2）冰球——国家女子冰球队海外选秀在多伦...   True\n",
      "89607  新华社兰州6月3日电（王衡、徐丹）记者从甘肃省交通运输厅获悉，甘肃近日集中开建高速公路、普通...   True\n",
      "89608  \\n\\n2017年5月29日，在法国巴黎郊外的凡尔赛宫，法国总统马克龙出席新闻发布会。（新华...   True\n",
      "89609  \\n\\n2017年5月25日，在美国马萨诸塞州剑桥市，哈佛大学毕业生在毕业典礼上欢呼。（新华...   True\n",
      "89610  　　新华社德国杜塞尔多夫６月６日电题：乒乓女球迷　\\n　　新华社记者王子江、张寒\\n　　熊老...   True\n",
      "\n",
      "[87054 rows x 2 columns]\n"
     ]
    }
   ],
   "source": [
    "# it's your time\n",
    "data = pd.DataFrame({'content':content['content'],'y':content['source']=='新华社'})\n",
    "data=data.dropna(axis=0)\n",
    "print(data)"
   ]
  },
  {
   "cell_type": "markdown",
   "metadata": {},
   "source": [
    "### Step3: 使用tfidf进行文本向量化"
   ]
  },
  {
   "cell_type": "markdown",
   "metadata": {},
   "source": [
    "参考 https://scikit-learn.org/stable/modules/generated/sklearn.feature_extraction.text.TfidfVectorizer.html 对"
   ]
  },
  {
   "cell_type": "markdown",
   "metadata": {},
   "source": [
    "对文本进行向量化"
   ]
  },
  {
   "cell_type": "code",
   "execution_count": 3,
   "metadata": {
    "scrolled": false
   },
   "outputs": [
    {
     "name": "stderr",
     "output_type": "stream",
     "text": [
      "Building prefix dict from the default dictionary ...\n",
      "Loading model from cache C:\\Users\\webberg\\AppData\\Local\\Temp\\jieba.cache\n",
      "Loading model cost 0.936 seconds.\n",
      "Prefix dict has been built succesfully.\n"
     ]
    }
   ],
   "source": [
    "from sklearn.feature_extraction.text import TfidfVectorizer\n",
    "import cut_sentence as cs\n",
    "from collections import defaultdict\n",
    "\n",
    "#1. 统计词频\n",
    "tf=defaultdict(int)\n",
    "for index,row in data.iterrows():\n",
    "    words_list = cs.segment(row['content'],type=\"arr\")\n",
    "    for word in words_list:\n",
    "        tf[word]+=1\n",
    "#     break\n",
    "# print(tf)\n"
   ]
  },
  {
   "cell_type": "code",
   "execution_count": 4,
   "metadata": {},
   "outputs": [
    {
     "name": "stdout",
     "output_type": "stream",
     "text": [
      "257913 ('体验版', 1) ('的', 703820)\n"
     ]
    }
   ],
   "source": [
    "#2. 查看高频和低频词分布情况\n",
    "result = sorted(tf.items(),key=lambda item: item[1])\n",
    "print(len(result),result[0],result[len(result)-1])\n",
    "# new_list = list(zip(*result))\n",
    "plot_y=[item[1] for item in result]\n",
    "# print(plot_y)\n",
    "# for item in tf:\n",
    "#     if item[1]<30 or item[1]>"
   ]
  },
  {
   "cell_type": "code",
   "execution_count": 6,
   "metadata": {},
   "outputs": [
    {
     "data": {
      "image/png": "[encoded data removed]",
      "text/plain": [
       "<Figure size 432x288 with 1 Axes>"
      ]
     },
     "metadata": {
      "needs_background": "light"
     },
     "output_type": "display_data"
    }
   ],
   "source": [
    "import matplotlib.pyplot as plt\n",
    "\n",
    "plt.ylabel('word count')\n",
    "start = 0\n",
    "end = 250000\n",
    "plt.plot(range(end-start), plot_y[start:end],'ro')\n",
    "plt.show()"
   ]
  },
  {
   "cell_type": "code",
   "execution_count": 5,
   "metadata": {},
   "outputs": [
    {
     "name": "stdout",
     "output_type": "stream",
     "text": [
      "5294\n"
     ]
    }
   ],
   "source": [
    "#3. 根据上图挑选词频大于100小于400的词作为feature\n",
    "# 构建vocabulary\n",
    "vocabulary = defaultdict(int)\n",
    "index = 0\n",
    "for item in result:\n",
    "    if item[1]>150 and item[1]<350:\n",
    "        vocabulary[item[0]]=index\n",
    "        index+=1\n",
    "print(len(vocabulary))"
   ]
  },
  {
   "cell_type": "code",
   "execution_count": 6,
   "metadata": {
    "scrolled": true
   },
   "outputs": [
    {
     "name": "stdout",
     "output_type": "stream",
     "text": [
      "  (0, 4298)\t0.4464736950752448\n",
      "  (0, 3785)\t0.7951928607453268\n",
      "  (0, 2491)\t0.41027984818355445\n"
     ]
    }
   ],
   "source": [
    "#4. 使用tfidf向量化\n",
    "from scipy.sparse import dok_matrix\n",
    "\n",
    "def flatten2line(doc):\n",
    "    #把一篇文档压成一行\n",
    "    raw_doc=\"\"\n",
    "    for sentence in doc:\n",
    "        raw_doc+=sentence\n",
    "        raw_doc+=\" \"\n",
    "#     print(raw_doc)\n",
    "    return raw_doc\n",
    "\n",
    "docs=[]\n",
    "for index,row in data.iterrows():\n",
    "#     if index>1: break\n",
    "    doc = cs.cut_and_segment(row['content'])\n",
    "    if len(doc)==0:\n",
    "#         print(index,row['content'],doc)\n",
    "        docs.append(\"\")\n",
    "        continue\n",
    "#    print(doc)\n",
    "    doc = flatten2line(doc)\n",
    "    docs.append(doc)\n",
    "\n",
    "tfidf = TfidfVectorizer(max_features=len(vocabulary),vocabulary=vocabulary)\n",
    "vectorize = tfidf.fit_transform(docs)\n",
    "    \n",
    "print(vectorize[0,:])\n",
    "# plt.ylabel('valid feature count')\n",
    "# plt.plot(range(len(simple_count)), sorted(simple_count),'ro')\n",
    "# plt.show()"
   ]
  },
  {
   "cell_type": "code",
   "execution_count": 7,
   "metadata": {},
   "outputs": [
    {
     "name": "stdout",
     "output_type": "stream",
     "text": [
      "  (0, 5146)\t0.26711985487242945\n",
      "  (0, 5145)\t0.5154473635798357\n",
      "  (0, 4831)\t0.254211870176648\n",
      "  (0, 4298)\t0.2753746744879518\n",
      "  (0, 4060)\t0.24286750039290994\n",
      "  (0, 3642)\t0.2556159787512758\n",
      "  (0, 3068)\t0.24841955977985275\n",
      "  (0, 2847)\t0.2757340578153757\n",
      "  (0, 2705)\t0.2544090793424274\n",
      "  (0, 2306)\t0.2519272740548806\n",
      "  (0, 2153)\t0.26043065266446724\n",
      "  (0, 1981)\t0.2538207175370605\n"
     ]
    }
   ],
   "source": [
    "tfidf_value = []\n",
    "for m in vectorize:\n",
    "    tfidf_value.append(dok_matrix(m))\n",
    "print(vectorize[1,:])\n",
    "data['tfidf'] = tfidf_value\n",
    "# V = vectorize.toarray()\n",
    "# V=V.tolist()\n",
    "# print(data)"
   ]
  },
  {
   "cell_type": "markdown",
   "metadata": {},
   "source": [
    "### Step4: 参考scikit-learning的方法，构建你的第一个机器学习模型"
   ]
  },
  {
   "cell_type": "markdown",
   "metadata": {},
   "source": [
    "+ 按照课程讲解的内容，把数据集分割为 traning_data, validation_data, test_data. https://scikit-learn.org/stable/modules/generated/sklearn.model_selection.train_test_split.html"
   ]
  },
  {
   "cell_type": "code",
   "execution_count": 8,
   "metadata": {},
   "outputs": [
    {
     "name": "stdout",
     "output_type": "stream",
     "text": [
      "                                                   tfidf  \\\n",
      "29335  {(0, 3573): 0.6262028284167748, (0, 4059): 0.3...   \n",
      "83796                                    {(0, 395): 1.0}   \n",
      "47502  {(0, 201): 0.08537726515309654, (0, 318): 0.08...   \n",
      "67192  {(0, 310): 0.0782597647867836, (0, 2231): 0.95...   \n",
      "69046  {(0, 86): 0.9039400914353658, (0, 2780): 0.427...   \n",
      "19450                                   {(0, 4411): 1.0}   \n",
      "66768  {(0, 203): 0.14185257814343194, (0, 729): 0.58...   \n",
      "68981  {(0, 3675): 0.26432839005690506, (0, 4720): 0....   \n",
      "54455  {(0, 1914): 0.9859652597630341, (0, 2688): 0.0...   \n",
      "41804  {(0, 2405): 0.47855809964385065, (0, 5160): 0....   \n",
      "23312                                   {(0, 3406): 1.0}   \n",
      "77929  {(0, 2026): 0.21918549946517732, (0, 4256): 0....   \n",
      "16372  {(0, 2001): 0.5047137202952212, (0, 3850): 0.5...   \n",
      "13864  {(0, 1119): 0.3491715723528609, (0, 1259): 0.3...   \n",
      "23174  {(0, 317): 0.4516028373596453, (0, 1004): 0.41...   \n",
      "65998  {(0, 2720): 0.7306099024475423, (0, 4400): 0.6...   \n",
      "27662  {(0, 670): 0.20877561064150066, (0, 1595): 0.9...   \n",
      "36587  {(0, 2827): 0.18965347144218742, (0, 3009): 0....   \n",
      "28779                                   {(0, 4801): 1.0}   \n",
      "4440   {(0, 281): 0.17894833874708335, (0, 625): 0.10...   \n",
      "76873  {(0, 138): 0.1147085519173575, (0, 176): 0.117...   \n",
      "83065  {(0, 4): 0.9084249673904093, (0, 2556): 0.1862...   \n",
      "41844  {(0, 46): 0.3295313314555801, (0, 1392): 0.319...   \n",
      "35361                                                 {}   \n",
      "75131  {(0, 145): 0.14227344031310502, (0, 231): 0.13...   \n",
      "29024  {(0, 368): 0.7366873289968898, (0, 3786): 0.67...   \n",
      "89163  {(0, 50): 0.09396385406275068, (0, 1434): 0.38...   \n",
      "1218   {(0, 81): 0.15726906053976736, (0, 1394): 0.15...   \n",
      "44009  {(0, 287): 0.26912573623113145, (0, 1105): 0.6...   \n",
      "17875                                                 {}   \n",
      "...                                                  ...   \n",
      "12448  {(0, 3408): 0.7119365587880687, (0, 4202): 0.7...   \n",
      "54370  {(0, 55): 0.0845531977091051, (0, 108): 0.1984...   \n",
      "33587  {(0, 494): 0.25430284792048435, (0, 660): 0.11...   \n",
      "20600  {(0, 1084): 0.2747666791958269, (0, 1198): 0.2...   \n",
      "19019  {(0, 1670): 0.5036442801090659, (0, 1748): 0.2...   \n",
      "46504                                   {(0, 1633): 1.0}   \n",
      "48959  {(0, 210): 0.1506255338798294, (0, 621): 0.240...   \n",
      "77749  {(0, 2245): 0.9013695597257088, (0, 5159): 0.4...   \n",
      "21964  {(0, 3441): 0.7427244731486847, (0, 4489): 0.6...   \n",
      "68677  {(0, 231): 0.2661188343192646, (0, 1299): 0.27...   \n",
      "56123  {(0, 2434): 0.38566091803512553, (0, 3558): 0....   \n",
      "57752  {(0, 1048): 0.6187524745269721, (0, 2933): 0.5...   \n",
      "70980                                   {(0, 3111): 1.0}   \n",
      "77199  {(0, 2149): 0.43802883313820695, (0, 2214): 0....   \n",
      "4827   {(0, 2452): 0.7773395995041045, (0, 3838): 0.3...   \n",
      "52789  {(0, 660): 0.4806417479282874, (0, 936): 0.232...   \n",
      "33455                                                 {}   \n",
      "89366                                                 {}   \n",
      "5893   {(0, 702): 0.10171280239601169, (0, 753): 0.16...   \n",
      "55241  {(0, 591): 0.2540648979278173, (0, 670): 0.745...   \n",
      "68736  {(0, 12): 0.13706367978610776, (0, 77): 0.1398...   \n",
      "5008   {(0, 1023): 0.07198309339477729, (0, 1130): 0....   \n",
      "58358  {(0, 101): 0.23894023389198685, (0, 123): 0.10...   \n",
      "25112  {(0, 307): 0.22875646345077588, (0, 594): 0.27...   \n",
      "37991  {(0, 151): 0.08989417825916002, (0, 627): 0.17...   \n",
      "71010  {(0, 601): 0.5872787524394091, (0, 910): 0.272...   \n",
      "4866   {(0, 390): 0.11796930054922596, (0, 879): 0.48...   \n",
      "298    {(0, 2771): 0.8055029116375396, (0, 2900): 0.2...   \n",
      "69859  {(0, 580): 0.6089128996162612, (0, 2291): 0.27...   \n",
      "58275  {(0, 138): 0.1138807948639835, (0, 384): 0.226...   \n",
      "\n",
      "                                                 content  \n",
      "29335  新华社照片，广州，2017年4月15日\\n第121届广交会开幕\\n4月15日，广交会进口展区...  \n",
      "83796  新华社照片，外代，2017年6月2日\\n　　（外代二线）网球——法网：瓦林卡晋级男单第三轮\\...  \n",
      "47502  新华社照片，南京，2017年5月1日\\n江苏连云港：新亚欧大陆桥重要海陆转换枢纽\\n中哈（连...  \n",
      "67192  　　新华社突尼斯５月１８日电（记者刘锴、马迪）突尼斯足坛劲旅突尼斯希望俱乐部１８日第２７次赢...  \n",
      "69046  新华社照片，沧州（河北），2017年5月20日\\n“渤海粮仓”科技助增产\\n5月20日，中科...  \n",
      "19450  新华社照片，外代，2017年4月7日\\n（外代二线）获救的熊\\n3月24日，在乌克兰日托米尔...  \n",
      "66768  　　新华社北京5月18日电（记者孙辰茜）外交部发言人华春莹18日在例行记者会上表示，中方注意...  \n",
      "68981  新华社照片，哈尔滨，2017年5月20日\\n哈工大举办“实验室开放日”活动\\n5月20日，小...  \n",
      "54455  \\n\\n“英雄”复古骑行5月7日在意大利托斯卡纳大区蒙塔尔奇诺举办。“英雄”复古骑行始于19...  \n",
      "41804  新华社照片，奥波莱（波兰），2017年4月26日\\n（国际·图文互动）“一带一路”为波兰发展...  \n",
      "23312  新华社照片，无锡，2017年4月10日\\n（体育）（2）乒乓球——亚锦赛男子团体：中国对阵朝...  \n",
      "77929  　　新华社南昌５月２８日电（记者吴锺昊）记者从江西省文化厅获悉，预计到今年１０月，江西将完成...  \n",
      "16372  无需排队等候，只要在酒店的“智慧前台”读取身份证，“刷脸”就能快速完成入住手续的自助办理。日...  \n",
      "13864  新华社照片，北京，2017年4月4日\\n（体育·专题）（9）清明伤逝\\n清明，缅怀逝者与追思...  \n",
      "23174  新华社照片，洛阳（河南），2017年4月10日\\n洛阳文峰塔非遗文化产业园开园\\n4月10日...  \n",
      "65998  新华社照片，外代，2017年5月18日\\n（外代二线）影片《伊斯梅尔的幽魂》为戛纳电影节揭幕...  \n",
      "27662  新华社照片，外代，2017年4月14日\\n（外代二线）鲜花悼念戴安娜王妃\\n4月11日，在英...  \n",
      "36587  新华社照片，北京，2017年4月21日\\n书香飘万家亲子读经典\\n4月21日，在中央工艺美术...  \n",
      "28779  新华社照片，无锡（江苏），2017年4月15日\\n（体育）（6）乒乓球——亚锦赛：樊振东/林...  \n",
      "4440   　　【盘面简述】\\r\\n　　周三两市跳空高开，快速走低回补跳空缺口后，展开反弹，沪指受制于6...  \n",
      "76873  \\n新华社上海５月２7日电题：大数据提示：这个端午节你怎么过？\\n新华社记者何欣荣、龚雯、高...  \n",
      "83065  新华社照片，石家庄，2017年6月1日\\n展示中国辉煌灿烂的印刷出版文化——“中华印刷之光”...  \n",
      "41844  新华社照片，柳州（广西），2017年4月26日\\n侗乡“鲁班”杨似玉\\n在广西柳州地区民族高...  \n",
      "35361  新华社照片，外代，2017年4月21日\\n（外代二线）雪中开路\\n4月18日，在挪威克罗斯布...  \n",
      "75131  　　新华社华盛顿５月２５日电（记者林小春）位于太平洋西部的马里亚纳海沟，是地球上最深的海沟，...  \n",
      "29024  新华社照片，外代，2017年4月15日\\n（外代二线）摩洛哥沙漠超级马拉松赛第5赛段\\n4月...  \n",
      "89163  　　新华社西安６月６日电（记者郑昕）２０１７年“丝绸之路”国际拳击对抗赛６日下午在古城西安展...  \n",
      "1218   【新闻事件】\\r\\n参考消息网6月20日报道 美军近日将B-2、B-1B、B-52H全部三种...  \n",
      "44009  新华社照片，密尔沃基，2017年4月28日\\n（体育）（8）篮球——NBA季后赛：猛龙淘汰雄...  \n",
      "17875  新华社照片，东莞（广东），2017年4月5日\\n（体育）（16）篮球——CBA总决赛第三场：...  \n",
      "...                                                  ...  \n",
      "12448  新华社照片，外代，2017年4月2日\\n（外代二线）足球——英超联赛：利物浦胜埃弗顿\\n4月...  \n",
      "54370  \\n\\n又到周一，路过小学外，总能听到嘹亮的国歌响起。还记得上学时每周一的升旗仪式和国旗下讲...  \n",
      "33587  　　国内新闻\\n\\n（新华视点）“餐厨垃圾养猪”现象如何破解？\\n（社会）第四届“创青春”中...  \n",
      "20600  新华社照片，海湖庄园（美国），2017年4月7日\\n习近平同特朗普举行中美元首第二场正式会晤...  \n",
      "19019  新华社照片，万载（江西），2017年4月6日\\n老郭和他的“春耕回忆”\\n上图：郭西灿制作的...  \n",
      "46504  新华社照片，路透，2017年4月30日\\n（体育）（1）足球——英超：曼联平斯旺西\\n4月3...  \n",
      "48959  　新华社郑州5月3日电题：去掉“赘肉”步履轻——一家大型国有煤企的去产能观察\\n　　新华社记...  \n",
      "77749  新华社照片，巴黎，2017年5月28日\\n　　（体育）（3）网球——2017法网正赛即将开赛...  \n",
      "21964  新华社照片，兴化（江苏），2017年4月9日\\n江苏兴化：千垛花开金满地\\n4月9日，游客在...  \n",
      "68677  　　新华社华盛顿５月１９日电（记者林小春）在许多人的印象中，南极应该是一片冰雪覆盖的白色世界...  \n",
      "56123  新华社照片，联合国，2017年5月9日\\n（国际·一带一路）（1）“一带一路”图片展在联合国...  \n",
      "57752  新华社照片，柳州（广西），2017年5月11日\\n特教校园里的护士节\\n5月10日，在广西柳...  \n",
      "70980  　　新华社北京5月22日电外交部发言人华春莹22日宣布：应德意志联邦共和国总理安格拉·默克尔...  \n",
      "77199  新华社照片，北京，2017年5月27日\\n2017北京国际听力学大会开幕\\n5月27日，中国...  \n",
      "4827   相比更具代表性的二十国集团（G20）平台，八国集团（G8）被视为落伍的机制，其对非洲的援助和...  \n",
      "52789  新华社照片，银川，2017年5月6日\\n创客时代里的新玩家\\n5月6日，在宁夏银川市阿里修兴...  \n",
      "33455  新华社照片，外代，2017年4月19日\\n（外代二线）贝鲁特时装周\\n4月18日，在黎巴嫩贝...  \n",
      "89366  新华社照片，外代，2017年6月7日\\n（外代二线）长耳鸮幼鸟\\n6月6日，在白俄罗斯明斯克...  \n",
      "5893   看盘：6月22日上证指数全天下跌0.28% 中证网讯 6月22日, 上证指数全天报3147....  \n",
      "55241  新华社照片，外代，2017年5月9日\\n（外代二线）萨尔瓦多举行花朵和棕榈节\\n5月7日，在...  \n",
      "68736  　　国内新闻\\n\\n（财经·动态）大商所端午节期间调整各品种最低交易保证金标准和涨跌停板幅度...  \n",
      "5008   幼师月薪最低将达2265元\\r\\n　　图/广州日报全媒体记者于涛\\r\\n　　幼儿园教师工资低...  \n",
      "58358  　　新华社石家庄５月１１日电题：雄安有热土，畅游新版图——河北雄安新区成热门旅游目的地\\n新...  \n",
      "25112  新华社照片，瑞金（江西），2017年4月12日\\n36年的守护：“大山就是我的亲人！”\\n在...  \n",
      "37991  　　新华社巴黎４月２２日电（记者苏斌）纳达尔距离第十座ＡＴＰ蒙特卡洛大师赛冠军奖杯仅有一步之...  \n",
      "71010  新华社照片，五指山（海南），2017年5月22日\\n五指山：因地制宜养殖蜘蛛助力贫困户脱贫致...  \n",
      "4866   　　【环球网综合报道】《日本经济新闻》6月19日报道称，在中国股票市场，正在发生有意思的资金...  \n",
      "298    黑龙江省—新疆阿勒泰地区产业援疆项目推介会日前在哈尔滨举行。\\r\\n我省七台河市康草堂药业饮...  \n",
      "69859  新华社照片，内罗毕，2017年5月21日\\n（国际·图文互动）（2）特写：肯尼亚蒙内铁路中国...  \n",
      "58275  　　当红色古巴唱响旅游《欢乐颂》\\n　　　　马桂花\\n　　在很多人眼里，古巴是老爷车、雪茄和...  \n",
      "\n",
      "[21764 rows x 2 columns]\n"
     ]
    }
   ],
   "source": [
    "from sklearn.model_selection import train_test_split\n",
    "\n",
    "X_train, X_test, y_train, y_test = train_test_split(data[['tfidf','content']],data['y'])\n",
    "\n",
    "print(X_test)"
   ]
  },
  {
   "cell_type": "markdown",
   "metadata": {},
   "source": [
    "+ 参照scikit learning的示例，从构建你的第一个KNN机器学习模型。"
   ]
  },
  {
   "cell_type": "code",
   "execution_count": 9,
   "metadata": {},
   "outputs": [],
   "source": [
    "import numpy as np\n",
    "from sklearn.neighbors import NearestNeighbors\n",
    "\n",
    "# def distance(x1,x2):\n",
    "#     return (x1.dot(x2.transpose())[0,0])**0.5\n",
    "\n",
    "# def KNN(X,y,test,k=9):\n",
    "#     nearest=[]\n",
    "#     for neighbor in X.iterrows():\n",
    "#         val = distance(neighbor[1]['tfidf'],test)\n",
    "#         if val>0:\n",
    "#             nearest.append((neighbor[0],val))\n",
    "#     order = sorted(nearest,key=lambda item:item[1],reverse=True)\n",
    "#     opp_cnt = 0\n",
    "#     neg_cnt = 0\n",
    "#     for idx in range(min(k,len(order))):# 判断y_hat\n",
    "#         if y[order[idx][0]]==True: opp_cnt+=1\n",
    "#         else: neg_cnt+=1\n",
    "#     if opp_cnt>neg_cnt: return True\n",
    "#     return False\n",
    "\n",
    "# print(X_train['tfidf'])\n",
    "# print(y_train)\n",
    "neigh = NearestNeighbors(algorithm='kd_tree',n_jobs=4)\n",
    "# try:\n",
    "#     neigh.fit(X_train['tfidf'],y_train)\n",
    "# except:\n",
    "#     print('error')"
   ]
  },
  {
   "cell_type": "code",
   "execution_count": 10,
   "metadata": {},
   "outputs": [
    {
     "name": "stdout",
     "output_type": "stream",
     "text": [
      "65290 65290\n"
     ]
    },
    {
     "data": {
      "text/plain": [
       "NearestNeighbors(algorithm='kd_tree', leaf_size=30, metric='minkowski',\n",
       "         metric_params=None, n_jobs=4, n_neighbors=5, p=2, radius=1.0)"
      ]
     },
     "execution_count": 10,
     "metadata": {},
     "output_type": "execute_result"
    }
   ],
   "source": [
    "x_train=[]\n",
    "for item in X_train['tfidf'].values:\n",
    "    x_train.append(item.toarray()[0])\n",
    "print(len(x_train),len(y_train))\n",
    "neigh.fit(x_train,y_train)"
   ]
  },
  {
   "cell_type": "code",
   "execution_count": 11,
   "metadata": {},
   "outputs": [],
   "source": [
    "## 保存结果格式为(y,y_hat,content)\n",
    "# result = []\n",
    "# # print(X_test.loc[23935]['content'])\n",
    "# for test in X_test.iterrows():\n",
    "#     y_hat = KNN(X_train,y_train,test[1]['tfidf'])\n",
    "#     try:\n",
    "#         result.append((y_test.loc[test[0]],y_hat,X_test.loc[test[0]]['content']))\n",
    "#     except:\n",
    "#         print(test[0])\n",
    "#         break\n",
    "x_test=[]\n",
    "for item in X_test['tfidf'].values:\n",
    "    x_test.append(item.toarray()[0])\n",
    "# print(x_test)\n"
   ]
  },
  {
   "cell_type": "code",
   "execution_count": 43,
   "metadata": {},
   "outputs": [],
   "source": [
    "y_indexes = neigh.kneighbors(x_test,return_distance=False)"
   ]
  },
  {
   "cell_type": "code",
   "execution_count": 45,
   "metadata": {},
   "outputs": [],
   "source": [
    "y_hat = []\n",
    "for row in y_indexes:\n",
    "    opp_cnt = 0\n",
    "    neg_cnt = 0\n",
    "    for index in row:\n",
    "        if y_train.iloc[index]==True: opp_cnt+=1\n",
    "        else: neg_cnt+=1\n",
    "    if opp_cnt>=neg_cnt:\n",
    "        y_hat.append(True)\n",
    "    else:\n",
    "        y_hat.append(False)\n",
    "        \n",
    "# print(y_hat)"
   ]
  },
  {
   "cell_type": "markdown",
   "metadata": {},
   "source": [
    "### Step5: 在traning_data, validation_data, test_data 上观察其相关metric: recall, precision, f1等， 并解释其含义. "
   ]
  },
  {
   "cell_type": "code",
   "execution_count": 48,
   "metadata": {},
   "outputs": [
    {
     "name": "stdout",
     "output_type": "stream",
     "text": [
      "0.9215407912171115\n",
      "0.9909423977203338\n",
      "0.9549823460180463\n"
     ]
    }
   ],
   "source": [
    "from sklearn.metrics import accuracy_score\n",
    "from sklearn.metrics import precision_score\n",
    "from sklearn.metrics import f1_score\n",
    "from sklearn.metrics import recall_score\n",
    "\n",
    "# Precision表示判定为新华社的数据中真正是新华社的数据比例\n",
    "print(precision_score(y_test,y_hat))\n",
    "# Recall表示新华社样本中判定正确的比例\n",
    "print(recall_score(y_test,y_hat))\n",
    "# f1认为precision和recall同等重要\n",
    "print(f1_score(y_test,y_hat))"
   ]
  },
  {
   "cell_type": "markdown",
   "metadata": {},
   "source": [
    "### Step6: 使用 test_data 对其进行新数据的判断, 你有没"
   ]
  },
  {
   "cell_type": "code",
   "execution_count": 10,
   "metadata": {},
   "outputs": [],
   "source": [
    "# it's your time"
   ]
  },
  {
   "cell_type": "markdown",
   "metadata": {},
   "source": [
    "### Step7: 调整不同的参数，观察变化"
   ]
  },
  {
   "cell_type": "code",
   "execution_count": 11,
   "metadata": {},
   "outputs": [],
   "source": [
    "# it's your time"
   ]
  },
  {
   "cell_type": "markdown",
   "metadata": {},
   "source": [
    "### Step8: 不断改变参数，直到性能达到“某个”点。问：“某个”怎么定义？"
   ]
  },
  {
   "cell_type": "code",
   "execution_count": 12,
   "metadata": {},
   "outputs": [],
   "source": [
    "# it's your time"
   ]
  },
  {
   "cell_type": "markdown",
   "metadata": {},
   "source": [
    "### Step9: 找出所以预测为 1， 但是实际为 0 的文章。 作为抄袭的候选者。"
   ]
  },
  {
   "cell_type": "code",
   "execution_count": 13,
   "metadata": {},
   "outputs": [],
   "source": [
    "# it's your time"
   ]
  },
  {
   "cell_type": "markdown",
   "metadata": {},
   "source": [
    "### Step10： 总结该过程，什么是数据思维？什么是机器学习思维？"
   ]
  },
  {
   "cell_type": "markdown",
   "metadata": {},
   "source": [
    "### (Optional)使用第4课讲解的 edit distance，在涉嫌抄袭的文章中，找到其重复的文字与被修改过的文字。 "
   ]
  },
  {
   "cell_type": "markdown",
   "metadata": {},
   "source": [
    "### Step11: 利用第8课讲述的新模型，进行操作，感受其中不同的参数、模型对性能的影响。"
   ]
  },
  {
   "cell_type": "code",
   "execution_count": null,
   "metadata": {},
   "outputs": [],
   "source": [
    "# SVM\n",
    "# Bayes\n",
    "# Dicesion Tree\n",
    "# Random Forest"
   ]
  }
 ],
 "metadata": {
  "kernelspec": {
   "display_name": "Python 3",
   "language": "python",
   "name": "python3"
  },
  "language_info": {
   "codemirror_mode": {
    "name": "ipython",
    "version": 3
   },
   "file_extension": ".py",
   "mimetype": "text/x-python",
   "name": "python",
   "nbconvert_exporter": "python",
   "pygments_lexer": "ipython3",
   "version": "3.7.0"
  }
 },
 "nbformat": 4,
 "nbformat_minor": 2
}
