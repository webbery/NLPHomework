{
 "cells": [
  {
   "cell_type": "markdown",
   "metadata": {},
   "source": [
    "## Assignment-07 First Step of using machine learning and models."
   ]
  },
  {
   "cell_type": "markdown",
   "metadata": {},
   "source": [
    "![](https://github.com/Computing-Intelligence/jupyters_and_slides/raw/master/entrance-test/images/kkb-ai.png)"
   ]
  },
  {
   "cell_type": "code",
   "execution_count": 1,
   "metadata": {},
   "outputs": [],
   "source": [
    "fname = '/Users/gaominquan/Downloads/sqlResult_1558435 2.csv'"
   ]
  },
  {
   "cell_type": "code",
   "execution_count": 2,
   "metadata": {},
   "outputs": [],
   "source": [
    "import pandas as pd"
   ]
  },
  {
   "cell_type": "code",
   "execution_count": 3,
   "metadata": {},
   "outputs": [],
   "source": [
    "content = pd.read_csv(fname, encoding='gb18030')"
   ]
  },
  {
   "cell_type": "code",
   "execution_count": 4,
   "metadata": {},
   "outputs": [
    {
     "data": {
      "text/html": [
       "<div>\n",
       "<style scoped>\n",
       "    .dataframe tbody tr th:only-of-type {\n",
       "        vertical-align: middle;\n",
       "    }\n",
       "\n",
       "    .dataframe tbody tr th {\n",
       "        vertical-align: top;\n",
       "    }\n",
       "\n",
       "    .dataframe thead th {\n",
       "        text-align: right;\n",
       "    }\n",
       "</style>\n",
       "<table border=\"1\" class=\"dataframe\">\n",
       "  <thead>\n",
       "    <tr style=\"text-align: right;\">\n",
       "      <th></th>\n",
       "      <th>id</th>\n",
       "      <th>author</th>\n",
       "      <th>source</th>\n",
       "      <th>content</th>\n",
       "      <th>feature</th>\n",
       "      <th>title</th>\n",
       "      <th>url</th>\n",
       "    </tr>\n",
       "  </thead>\n",
       "  <tbody>\n",
       "    <tr>\n",
       "      <th>0</th>\n",
       "      <td>89617</td>\n",
       "      <td>NaN</td>\n",
       "      <td>快科技@http://www.kkj.cn/</td>\n",
       "      <td>此外，自本周（6月12日）起，除小米手机6等15款机型外，其余机型已暂停更新发布（含开发版/...</td>\n",
       "      <td>{\"type\":\"科技\",\"site\":\"cnbeta\",\"commentNum\":\"37\"...</td>\n",
       "      <td>小米MIUI 9首批机型曝光：共计15款</td>\n",
       "      <td>http://www.cnbeta.com/articles/tech/623597.htm</td>\n",
       "    </tr>\n",
       "    <tr>\n",
       "      <th>1</th>\n",
       "      <td>89616</td>\n",
       "      <td>NaN</td>\n",
       "      <td>快科技@http://www.kkj.cn/</td>\n",
       "      <td>骁龙835作为唯一通过Windows 10桌面平台认证的ARM处理器，高通强调，不会因为只考...</td>\n",
       "      <td>{\"type\":\"科技\",\"site\":\"cnbeta\",\"commentNum\":\"15\"...</td>\n",
       "      <td>骁龙835在Windows 10上的性能表现有望改善</td>\n",
       "      <td>http://www.cnbeta.com/articles/tech/623599.htm</td>\n",
       "    </tr>\n",
       "    <tr>\n",
       "      <th>2</th>\n",
       "      <td>89615</td>\n",
       "      <td>NaN</td>\n",
       "      <td>快科技@http://www.kkj.cn/</td>\n",
       "      <td>此前的一加3T搭载的是3400mAh电池，DashCharge快充规格为5V/4A。\\r\\n...</td>\n",
       "      <td>{\"type\":\"科技\",\"site\":\"cnbeta\",\"commentNum\":\"18\"...</td>\n",
       "      <td>一加手机5细节曝光：3300mAh、充半小时用1天</td>\n",
       "      <td>http://www.cnbeta.com/articles/tech/623601.htm</td>\n",
       "    </tr>\n",
       "    <tr>\n",
       "      <th>3</th>\n",
       "      <td>89614</td>\n",
       "      <td>NaN</td>\n",
       "      <td>新华社</td>\n",
       "      <td>这是6月18日在葡萄牙中部大佩德罗冈地区拍摄的被森林大火烧毁的汽车。新华社记者张立云摄\\r\\n</td>\n",
       "      <td>{\"type\":\"国际新闻\",\"site\":\"环球\",\"commentNum\":\"0\",\"j...</td>\n",
       "      <td>葡森林火灾造成至少62人死亡 政府宣布进入紧急状态（组图）</td>\n",
       "      <td>http://world.huanqiu.com/hot/2017-06/10866126....</td>\n",
       "    </tr>\n",
       "    <tr>\n",
       "      <th>4</th>\n",
       "      <td>89613</td>\n",
       "      <td>胡淑丽_MN7479</td>\n",
       "      <td>深圳大件事</td>\n",
       "      <td>（原标题：44岁女子跑深圳约会网友被拒，暴雨中裸身奔走……）\\r\\n@深圳交警微博称：昨日清...</td>\n",
       "      <td>{\"type\":\"新闻\",\"site\":\"网易热门\",\"commentNum\":\"978\",...</td>\n",
       "      <td>44岁女子约网友被拒暴雨中裸奔 交警为其披衣相随</td>\n",
       "      <td>http://news.163.com/17/0618/00/CN617P3Q0001875...</td>\n",
       "    </tr>\n",
       "  </tbody>\n",
       "</table>\n",
       "</div>"
      ],
      "text/plain": [
       "      id      author                  source  \\\n",
       "0  89617         NaN  快科技@http://www.kkj.cn/   \n",
       "1  89616         NaN  快科技@http://www.kkj.cn/   \n",
       "2  89615         NaN  快科技@http://www.kkj.cn/   \n",
       "3  89614         NaN                     新华社   \n",
       "4  89613  胡淑丽_MN7479                   深圳大件事   \n",
       "\n",
       "                                             content  \\\n",
       "0  此外，自本周（6月12日）起，除小米手机6等15款机型外，其余机型已暂停更新发布（含开发版/...   \n",
       "1  骁龙835作为唯一通过Windows 10桌面平台认证的ARM处理器，高通强调，不会因为只考...   \n",
       "2  此前的一加3T搭载的是3400mAh电池，DashCharge快充规格为5V/4A。\\r\\n...   \n",
       "3    这是6月18日在葡萄牙中部大佩德罗冈地区拍摄的被森林大火烧毁的汽车。新华社记者张立云摄\\r\\n   \n",
       "4  （原标题：44岁女子跑深圳约会网友被拒，暴雨中裸身奔走……）\\r\\n@深圳交警微博称：昨日清...   \n",
       "\n",
       "                                             feature  \\\n",
       "0  {\"type\":\"科技\",\"site\":\"cnbeta\",\"commentNum\":\"37\"...   \n",
       "1  {\"type\":\"科技\",\"site\":\"cnbeta\",\"commentNum\":\"15\"...   \n",
       "2  {\"type\":\"科技\",\"site\":\"cnbeta\",\"commentNum\":\"18\"...   \n",
       "3  {\"type\":\"国际新闻\",\"site\":\"环球\",\"commentNum\":\"0\",\"j...   \n",
       "4  {\"type\":\"新闻\",\"site\":\"网易热门\",\"commentNum\":\"978\",...   \n",
       "\n",
       "                           title  \\\n",
       "0           小米MIUI 9首批机型曝光：共计15款   \n",
       "1     骁龙835在Windows 10上的性能表现有望改善   \n",
       "2      一加手机5细节曝光：3300mAh、充半小时用1天   \n",
       "3  葡森林火灾造成至少62人死亡 政府宣布进入紧急状态（组图）   \n",
       "4       44岁女子约网友被拒暴雨中裸奔 交警为其披衣相随   \n",
       "\n",
       "                                                 url  \n",
       "0     http://www.cnbeta.com/articles/tech/623597.htm  \n",
       "1     http://www.cnbeta.com/articles/tech/623599.htm  \n",
       "2     http://www.cnbeta.com/articles/tech/623601.htm  \n",
       "3  http://world.huanqiu.com/hot/2017-06/10866126....  \n",
       "4  http://news.163.com/17/0618/00/CN617P3Q0001875...  "
      ]
     },
     "execution_count": 4,
     "metadata": {},
     "output_type": "execute_result"
    }
   ],
   "source": [
    "content.head()"
   ]
  },
  {
   "cell_type": "code",
   "execution_count": 5,
   "metadata": {},
   "outputs": [],
   "source": [
    "xinhua_news = content[content['source'] == '新华社']"
   ]
  },
  {
   "cell_type": "code",
   "execution_count": 6,
   "metadata": {},
   "outputs": [
    {
     "data": {
      "text/plain": [
       "0.8778051801676133"
      ]
     },
     "execution_count": 6,
     "metadata": {},
     "output_type": "execute_result"
    }
   ],
   "source": [
    "len(xinhua_news) / len(content)"
   ]
  },
  {
   "cell_type": "markdown",
   "metadata": {},
   "source": [
    "### 任务描述"
   ]
  },
  {
   "cell_type": "markdown",
   "metadata": {},
   "source": [
    "报社等相关的机构，往往会遇到一个问题，就是别人家的机构使用自己的文章但是并没有标明来源。 在本次任务中，我们将解决新华社的文章被抄袭引用的问题。"
   ]
  },
  {
   "cell_type": "markdown",
   "metadata": {},
   "source": [
    "给定的数据集合中，存在一些新闻预料，该预料是来自新华社，但是其来源并不是新华社，请设计技巧学习模型解决该问题。"
   ]
  },
  {
   "cell_type": "markdown",
   "metadata": {},
   "source": [
    "![](https://timgsa.baidu.com/timg?image&quality=80&size=b9999_10000&sec=1566105348906&di=ee9a2de91207767364853d4decc6cca3&imgtype=0&src=http%3A%2F%2Fmmbiz.qpic.cn%2Fmmbiz_png%2FTicO2kbP6Ao5sCsSQDpehZiczLdC6hDCNvoicjcOCEKX2bLxBc9gVOw28zHyFibfIWq9ceRibP6HDTKReGkr6YyTfQQ%2F640%3Fwx_fmt%3Dpng)"
   ]
  },
  {
   "cell_type": "markdown",
   "metadata": {},
   "source": [
    "### Step1: 数据分析"
   ]
  },
  {
   "cell_type": "markdown",
   "metadata": {},
   "source": [
    "请在课程的GitHub中下载数据集，然后使用pandas进行读取。"
   ]
  },
  {
   "cell_type": "code",
   "execution_count": 1,
   "metadata": {},
   "outputs": [],
   "source": [
    "# it‘s your time\n",
    "import pandas as pd\n",
    "content = pd.read_csv('./sqlResult_1558435.csv', encoding='gb18030')"
   ]
  },
  {
   "cell_type": "markdown",
   "metadata": {},
   "source": [
    "### Step2: 数据预处理"
   ]
  },
  {
   "cell_type": "markdown",
   "metadata": {},
   "source": [
    "将pandas中的数据，依据是否是新华社的文章，请改变成新的数据dataframe: <content, y>, 其中，content是文章内容，y是0或者1. 你可能要使用到pandas的dataframe操作。https://pandas.pydata.org/pandas-docs/stable/reference/api/pandas.DataFrame.apply.html"
   ]
  },
  {
   "cell_type": "code",
   "execution_count": 2,
   "metadata": {},
   "outputs": [
    {
     "name": "stdout",
     "output_type": "stream",
     "text": [
      "                                                 content      y\n",
      "0      此外，自本周（6月12日）起，除小米手机6等15款机型外，其余机型已暂停更新发布（含开发版/...  False\n",
      "1      骁龙835作为唯一通过Windows 10桌面平台认证的ARM处理器，高通强调，不会因为只考...  False\n",
      "2      此前的一加3T搭载的是3400mAh电池，DashCharge快充规格为5V/4A。\\r\\n...  False\n",
      "3        这是6月18日在葡萄牙中部大佩德罗冈地区拍摄的被森林大火烧毁的汽车。新华社记者张立云摄\\r\\n   True\n",
      "4      （原标题：44岁女子跑深圳约会网友被拒，暴雨中裸身奔走……）\\r\\n@深圳交警微博称：昨日清...  False\n",
      "5      　　受到A股被纳入MSCI指数的利好消息刺激，A股市场从周三开始再度上演龙马行情，周四上午金...  False\n",
      "6      虽然至今夏普智能手机在市场上无法排得上号，已经完全没落，并于 2013 年退出中国市场，但是...  False\n",
      "7      　　沙漠雄鹰：震荡有利消化套牢筹码\\r\\n　　周四开盘上证50在银行券商大蓝筹带动下一度涨近...  False\n",
      "8      （原标题：武汉警方一下子抓了808人，还都是俊男靓女！原来他们每天偷偷摸摸干这事！）\\r\\n...  False\n",
      "9      　　6月21日，A股纳入MSCI指数尘埃落定，但当天被寄予厚望的券商股并未扛起反弹大旗。22...  False\n",
      "10     　　证券时报网（www.stcn.com）06月23日讯\\r\\n　　据上证报道，6月初以来，...  False\n",
      "11     ?\\r\\n　　巨丰早评：市场将再次探底\\r\\n　　【巨丰观点】\\r\\n　　周四大盘冲高回落，...  False\n",
      "12     中新网6月19日电 据外媒报道，美国底特律一名男子1976年因为一根头发被定谋杀罪，监禁41...  False\n",
      "13     　　曹先生：风格转换前的阵痛\\r\\n　　今日早盘两地低开，之后一度震荡走高，领涨的仍然是上证...  False\n",
      "14     6月21日，MSCI在官网发布公告称，从明年6月起将中国A股纳入MSCI新兴市场指数和MSC...  False\n",
      "15     　　中国证券网讯（记者 费天元）沪深两市周五临近午盘出现快速跳水，沪指连续跌穿5日、10日及...  False\n",
      "16     九成以上的源包用逐位对应的方式构建，未来版本的 Debian 还将提供验证包的工具和元数据；...  False\n",
      "17     国歌法草案首次提请最高立法机关审议\\r\\n点击图片进入下一页\\r\\n新闻：十二届全国人大常委...  False\n",
      "18     　　中证网讯 （本报记者 张怡）今日，三板做市指数继续低开下行，盘中最低触及1057.91点...  False\n",
      "19     　　提示声明：\\r\\n　　本文涉及的行业及个股分析来源于券商研究报告，仅为分析人士对该行业及...  False\n",
      "20     　　原标题：叙利亚被“袭机”事件惹怒俄罗斯 警告将瞄准美战机\\r\\n　　海外网6月19日电 ...  False\n",
      "21     　　提示声明：\\r\\n　　本文涉及的行业及个股分析来源于券商研究报告，仅为分析人士对该行业及...  False\n",
      "22     就在这几天，一位微博名为“摩卡 RQ ”的手机、芯片、移动互联网三界知名独立评论人爆料称，O...  False\n",
      "23     　　中证网讯 （本报记者 张怡）与此前两日蓝筹股强势格局不同，周五，A股市场主要指数低开之后...  False\n",
      "24     北京时间6月20日，江苏苏宁足球俱乐部发布了足协杯第四轮江苏苏宁易购队主场对阵河南建业队的官...  False\n",
      "25     当地时间2017年6月17日，土耳其马尼萨省，在土耳其第1步兵训练大队司令部军营，590名土...  False\n",
      "26     今年3月份，王劲从百度自动驾驶事业部任上离职，随后创办景驰科技。在随后的日子里，景驰很快组建...  False\n",
      "27     英国与欧盟的“脱欧”谈判于19日正式开始。然而此时，英国首相特雷莎·梅正面临着空前的政治压力...  False\n",
      "28     中超联赛第13轮比赛已经全部结束，这轮比赛中最让人觉得结果有些出乎意料的，莫过于卡佩罗执教江...  False\n",
      "29     　　文章导读： 供应商围堵追债、20多位高管离职、上千人被裁员、孤注一掷史上最大规模的降价…...  False\n",
      "...                                                  ...    ...\n",
      "89581  新华社照片，外代，2017年6月7日\\n（外代二线）足球——世预赛：葡萄牙备战\\n6月6日，...   True\n",
      "89582  新华社照片，外代，2017年6月7日\\n（外代二线）足球——世预赛：葡萄牙备战\\n6月6日，...   True\n",
      "89583  新华社照片，外代，2017年6月7日\\n（外代二线）足球——世预赛：葡萄牙备战\\n6月6日，...   True\n",
      "89584  新华社照片，外代，2017年6月7日\\n（外代二线）足球——世预赛：葡萄牙备战\\n6月6日，...   True\n",
      "89585  新华社照片，外代，2017年6月7日\\n（外代二线）足球——世预赛：葡萄牙备战\\n6月6日，...   True\n",
      "89586  新华社照片，外代，2017年6月7日\\n（外代二线）足球——世预赛：葡萄牙备战\\n6月6日，...   True\n",
      "89587  新华社照片，外代，2017年6月7日\\n（外代二线）蚕丝生产\\n6月6日，在印度特里普拉邦特...   True\n",
      "89588  新华社照片，外代，2017年6月7日\\n（外代二线）蚕丝生产\\n6月6日，在印度特里普拉邦特...   True\n",
      "89589  新华社照片，外代，2017年6月7日\\n（外代二线）蚕丝生产\\n5月30日，在印度特里普拉邦...   True\n",
      "89590  新华社照片，外代，2017年6月7日\\n（外代二线）蚕丝生产\\n6月6日，在印度特里普拉邦特...   True\n",
      "89591  新华社照片，外代，2017年6月7日\\n（外代二线）蚕丝生产\\n5月30日，在印度特里普拉邦...   True\n",
      "89592  \\n\\n2017年4月27日，在首尔光化门广场，民众在集会上手举反“萨德”标语。（新华社记者...   True\n",
      "89593  \\n新华社巴格达6月6日电（记者魏玉栋　程帅朋）伊拉克西部安巴尔省一处市场6日晚发生自杀式爆...   True\n",
      "89594  新华社照片，外代，2017年6月7日\\n（外代二线）足球——国际友谊赛：德国平丹麦\\n6月6...   True\n",
      "89595  新华社照片，外代，2017年6月7日\\n（外代二线）足球——国际友谊赛：德国平丹麦\\n6月6...   True\n",
      "89596  新华社照片，外代，2017年6月7日\\n（外代二线）足球——国际友谊赛：德国平丹麦\\n6月6...   True\n",
      "89597  新华社照片，外代，2017年6月7日\\n（外代二线）足球——国际友谊赛：德国平丹麦\\n6月6...   True\n",
      "89598  新华社照片，外代，2017年6月7日\\n（外代二线）足球——国际友谊赛：德国平丹麦\\n6月6...   True\n",
      "89599  新华社照片，外代，2017年6月7日\\n（外代二线）足球——国际友谊赛：德国平丹麦\\n6月6...   True\n",
      "89600  新华社照片，外代，2017年6月7日\\n（外代二线）足球——国际友谊赛：德国平丹麦\\n6月6...   True\n",
      "89601  新华社照片，外代，2017年6月7日\\n（外代二线）足球——国际友谊赛：德国平丹麦\\n6月6...   True\n",
      "89602  新华社照片，外代，2017年6月7日\\n（外代二线）足球——国际友谊赛：德国平丹麦\\n6月6...   True\n",
      "89603  新华社照片，北京，2017年6月7日\\n电影《血战湘江》举行清华大学巡映活动\\n6月6日，电...   True\n",
      "89604  新华社照片，北京，2017年6月7日\\n电影《血战湘江》举行清华大学巡映活动\\n6月6日，清...   True\n",
      "89605  新华社照片，北京，2017年6月7日\\n电影《血战湘江》举行清华大学巡映活动\\n6月6日，电...   True\n",
      "89606  新华社照片，多伦多，2017年6月7日\\n（体育）（2）冰球——国家女子冰球队海外选秀在多伦...   True\n",
      "89607  新华社兰州6月3日电（王衡、徐丹）记者从甘肃省交通运输厅获悉，甘肃近日集中开建高速公路、普通...   True\n",
      "89608  \\n\\n2017年5月29日，在法国巴黎郊外的凡尔赛宫，法国总统马克龙出席新闻发布会。（新华...   True\n",
      "89609  \\n\\n2017年5月25日，在美国马萨诸塞州剑桥市，哈佛大学毕业生在毕业典礼上欢呼。（新华...   True\n",
      "89610  　　新华社德国杜塞尔多夫６月６日电题：乒乓女球迷　\\n　　新华社记者王子江、张寒\\n　　熊老...   True\n",
      "\n",
      "[87054 rows x 2 columns]\n"
     ]
    }
   ],
   "source": [
    "# it's your time\n",
    "data = pd.DataFrame({'content':content['content'],'y':content['source']=='新华社'})\n",
    "data=data.dropna(axis=0)\n",
    "print(data)"
   ]
  },
  {
   "cell_type": "markdown",
   "metadata": {},
   "source": [
    "### Step3: 使用tfidf进行文本向量化"
   ]
  },
  {
   "cell_type": "markdown",
   "metadata": {},
   "source": [
    "参考 https://scikit-learn.org/stable/modules/generated/sklearn.feature_extraction.text.TfidfVectorizer.html 对"
   ]
  },
  {
   "cell_type": "markdown",
   "metadata": {},
   "source": [
    "对文本进行向量化"
   ]
  },
  {
   "cell_type": "code",
   "execution_count": 3,
   "metadata": {
    "scrolled": false
   },
   "outputs": [
    {
     "name": "stderr",
     "output_type": "stream",
     "text": [
      "Building prefix dict from the default dictionary ...\n",
      "Loading model from cache C:\\Users\\Raytine\\AppData\\Local\\Temp\\jieba.cache\n",
      "Loading model cost 0.552 seconds.\n",
      "Prefix dict has been built succesfully.\n"
     ]
    }
   ],
   "source": [
    "from sklearn.feature_extraction.text import TfidfVectorizer\n",
    "import cut_sentence as cs\n",
    "from collections import defaultdict\n",
    "\n",
    "#1. 统计词频\n",
    "tf=defaultdict(int)\n",
    "for index,row in data.iterrows():\n",
    "    words_list = cs.segment(row['content'],type=\"arr\")\n",
    "    for word in words_list:\n",
    "        tf[word]+=1\n",
    "#     break\n",
    "# print(tf)\n"
   ]
  },
  {
   "cell_type": "code",
   "execution_count": 4,
   "metadata": {},
   "outputs": [
    {
     "name": "stdout",
     "output_type": "stream",
     "text": [
      "257913 ('体验版', 1) ('的', 703820)\n"
     ]
    }
   ],
   "source": [
    "#2. 查看高频和低频词分布情况\n",
    "result = sorted(tf.items(),key=lambda item: item[1])\n",
    "print(len(result),result[0],result[len(result)-1])\n",
    "# new_list = list(zip(*result))\n",
    "plot_y=[item[1] for item in result]\n",
    "# print(plot_y)\n",
    "# for item in tf:\n",
    "#     if item[1]<30 or item[1]>"
   ]
  },
  {
   "cell_type": "code",
   "execution_count": 6,
   "metadata": {},
   "outputs": [
    {
     "data": {
      "image/png": "[encoded data removed]",
      "text/plain": [
       "<Figure size 432x288 with 1 Axes>"
      ]
     },
     "metadata": {
      "needs_background": "light"
     },
     "output_type": "display_data"
    }
   ],
   "source": [
    "import matplotlib.pyplot as plt\n",
    "\n",
    "plt.ylabel('word count')\n",
    "start = 0\n",
    "end = 250000\n",
    "plt.plot(range(end-start), plot_y[start:end],'ro')\n",
    "plt.show()"
   ]
  },
  {
   "cell_type": "code",
   "execution_count": 18,
   "metadata": {},
   "outputs": [
    {
     "name": "stdout",
     "output_type": "stream",
     "text": [
      "19708\n"
     ]
    }
   ],
   "source": [
    "#3. 根据上图挑选词频大于25小于200的词作为feature\n",
    "# 构建vocabulary\n",
    "vocabulary = defaultdict(int)\n",
    "index = 0\n",
    "for item in result:\n",
    "    if item[1]>50 and item[1]<500:\n",
    "        vocabulary[item[0]]=index\n",
    "        index+=1\n",
    "print(len(vocabulary))"
   ]
  },
  {
   "cell_type": "code",
   "execution_count": 52,
   "metadata": {},
   "outputs": [
    {
     "name": "stdout",
     "output_type": "stream",
     "text": [
      "  (0, 19597)\t0.2437634748366421\n",
      "  (0, 19566)\t0.23861843059768398\n",
      "  (0, 17290)\t0.29544149939418257\n",
      "  (0, 16777)\t0.5261966688688238\n",
      "  (0, 15483)\t0.2714912319708748\n",
      "  (0, 12270)\t0.5908829987883651\n",
      "  (0, 4278)\t0.31084046024856554\n"
     ]
    }
   ],
   "source": [
    "#4. 使用tfidf向量化\n",
    "from scipy.sparse import dok_matrix\n",
    "\n",
    "def flatten2line(doc):\n",
    "    #把一篇文档压成一行\n",
    "    raw_doc=\"\"\n",
    "    for sentence in doc:\n",
    "        raw_doc+=sentence\n",
    "        raw_doc+=\" \"\n",
    "#     print(raw_doc)\n",
    "    return raw_doc\n",
    "\n",
    "docs=[]\n",
    "for index,row in data.iterrows():\n",
    "#     if index>1: break\n",
    "    doc = cs.cut_and_segment(row['content'])\n",
    "    if len(doc)==0:\n",
    "#         print(index,row['content'],doc)\n",
    "        docs.append(\"\")\n",
    "        continue\n",
    "#    print(doc)\n",
    "    doc = flatten2line(doc)\n",
    "    docs.append(doc)\n",
    "\n",
    "tfidf = TfidfVectorizer(max_features=len(vocabulary),vocabulary=vocabulary)\n",
    "vectorize = tfidf.fit_transform(docs)\n",
    "    \n",
    "print(vectorize[0,:])\n",
    "# plt.ylabel('valid feature count')\n",
    "# plt.plot(range(len(simple_count)), sorted(simple_count),'ro')\n",
    "# plt.show()"
   ]
  },
  {
   "cell_type": "code",
   "execution_count": 65,
   "metadata": {},
   "outputs": [
    {
     "name": "stdout",
     "output_type": "stream",
     "text": [
      "87054\n",
      "  (0, 19623)\t0.10798893531226042\n",
      "  (0, 19365)\t0.10932131631967482\n",
      "  (0, 19180)\t0.22459102161777889\n",
      "  (0, 18963)\t0.1089898909597632\n",
      "  (0, 18844)\t0.10816654312601051\n",
      "  (0, 18445)\t0.11156931047044229\n",
      "  (0, 18138)\t0.12665010921878597\n",
      "  (0, 18137)\t0.24439016307903602\n",
      "  (0, 17823)\t0.12053001877363398\n",
      "  (0, 17290)\t0.13056398453287138\n",
      "  (0, 17052)\t0.11515128841749896\n",
      "  (0, 16634)\t0.1211957517810758\n",
      "  (0, 16060)\t0.11778369823249121\n",
      "  (0, 15839)\t0.13073437972004825\n",
      "  (0, 15697)\t0.12062352197801704\n",
      "  (0, 15298)\t0.1194468183186141\n",
      "  (0, 15145)\t0.12347854344120812\n",
      "  (0, 14973)\t0.12034456073440049\n",
      "  (0, 9993)\t0.3887292552624107\n",
      "  (0, 9602)\t0.14379728081014165\n",
      "  (0, 6949)\t0.15300429203489738\n",
      "  (0, 5210)\t0.3035209600045827\n",
      "  (0, 1167)\t0.6146502557024905\n",
      "87054\n"
     ]
    }
   ],
   "source": [
    "tfidf_value = []\n",
    "idx=0\n",
    "for m in vectorize:\n",
    "    \n",
    "print(idx)\n",
    "print(vectorize[1,:])\n",
    "# data['tfidf'] = vectorize\n",
    "# V = vectorize.toarray()\n",
    "# V=V.tolist()\n",
    "print(vectorize.shape[0])"
   ]
  },
  {
   "cell_type": "markdown",
   "metadata": {},
   "source": [
    "### Step4: 参考scikit-learning的方法，构建你的第一个机器学习模型"
   ]
  },
  {
   "cell_type": "markdown",
   "metadata": {},
   "source": [
    "+ 按照课程讲解的内容，把数据集分割为 traning_data, validation_data, test_data. https://scikit-learn.org/stable/modules/generated/sklearn.model_selection.train_test_split.html"
   ]
  },
  {
   "cell_type": "code",
   "execution_count": 29,
   "metadata": {},
   "outputs": [
    {
     "name": "stdout",
     "output_type": "stream",
     "text": [
      "50410    {(0, 11111): 0.5773502691896257, (1, 11111): 0...\n",
      "33472    {(0, 4001): 0.33758639578662447, (1, 4612): 0....\n",
      "59183    {(3, 2909): 0.7071067811865476, (0, 3822): 0.3...\n",
      "88939    {(2, 2379): 0.34350036713709153, (0, 8846): 0....\n",
      "55406    {(0, 13267): 0.9486832980505138, (0, 15642): 0...\n",
      "229      {(9, 948): 0.5562060071750595, (0, 3436): 0.32...\n",
      "41295                                                   {}\n",
      "88369    {(2, 3557): 0.2048019074912971, (2, 4351): 0.2...\n",
      "76895    {(1, 2577): 0.6227660078332259, (1, 15201): 0....\n",
      "43276    {(4, 2660): 0.4712161475285897, (0, 2889): 0.3...\n",
      "44586    {(1, 4051): 0.3718914066132249, (2, 4051): 0.3...\n",
      "70586    {(0, 1148): 0.5178561161676974, (1, 1148): 0.5...\n",
      "23826    {(0, 14148): 0.6191302964899972, (2, 14148): 0...\n",
      "39448    {(2, 832): 0.4002182475169386, (0, 964): 0.295...\n",
      "47817    {(0, 14905): 0.31622776601683794, (0, 16468): ...\n",
      "29690    {(0, 2297): 0.2146868265989356, (1, 2297): 0.3...\n",
      "689      {(0, 3052): 0.3333333333333333, (0, 4579): 0.3...\n",
      "37886    {(1, 102): 0.4217647821447532, (0, 2353): 0.52...\n",
      "32843    {(5, 7): 0.09543719596542642, (12, 296): 0.262...\n",
      "55810    {(0, 272): 0.4260916770308402, (9, 2300): 0.33...\n",
      "29359    {(2, 485): 0.6060433187339399, (0, 4046): 0.51...\n",
      "54281    {(1, 3354): 0.33834800036072993, (1, 3448): 0....\n",
      "45222    {(1, 10243): 1.0, (2, 16633): 1.0, (0, 18533):...\n",
      "21393    {(2, 3735): 0.7071067811865475, (1, 6210): 0.6...\n",
      "29402    {(1, 11104): 0.4233944834119594, (1, 12837): 0...\n",
      "14821    {(1, 10454): 0.5286346066596935, (0, 11513): 0...\n",
      "15708    {(3, 523): 0.5406580066486407, (6, 694): 0.607...\n",
      "26120    {(1, 6883): 0.43429718303084847, (1, 13240): 0...\n",
      "6591                                                    {}\n",
      "41787    {(0, 8938): 0.408248290463863, (0, 15827): 0.4...\n",
      "                               ...                        \n",
      "30439    {(1, 9367): 0.6227660078332259, (2, 9591): 1.0...\n",
      "19180    {(0, 637): 0.3779644730092272, (0, 9955): 0.37...\n",
      "47080                                    {(0, 19523): 1.0}\n",
      "60787    {(5, 5767): 0.6060433187339399, (4, 10046): 0....\n",
      "74788    {(0, 162): 0.5773502691896258, (8, 162): 0.358...\n",
      "83167    {(1, 5573): 1.0, (0, 9371): 0.408248290463863,...\n",
      "16013    {(0, 16400): 0.42804603506311856, (1, 16400): ...\n",
      "39992    {(0, 277): 0.11468902335621599, (0, 795): 0.11...\n",
      "63423    {(0, 744): 0.3674233883483064, (0, 4059): 0.36...\n",
      "21029    {(0, 5033): 0.5704845001737302, (1, 5033): 0.3...\n",
      "27118    {(1, 9585): 0.680918560398684, (0, 9835): 0.41...\n",
      "76774    {(0, 6649): 0.7071067811865476, (1, 6649): 0.7...\n",
      "18067    {(0, 6040): 0.5189380717981641, (4, 6047): 0.4...\n",
      "72463    {(0, 2181): 0.3753856006004972, (1, 2181): 0.2...\n",
      "37934    {(2, 8460): 0.7071067811865476, (0, 10245): 0....\n",
      "13820    {(0, 1881): 0.39339984891428303, (2, 1881): 1....\n",
      "20018    {(0, 827): 0.4472135954999579, (0, 5370): 0.44...\n",
      "87130    {(0, 813): 0.7959605415681652, (0, 19601): 0.6...\n",
      "3125     {(8, 28): 0.5926780484086562, (20, 28): 0.3245...\n",
      "89305    {(1, 262): 1.0, (2, 262): 0.25199807846967526,...\n",
      "44260    {(0, 446): 0.5773502691896257, (0, 11778): 0.5...\n",
      "41667    {(0, 862): 0.37665394749153414, (0, 5123): 0.2...\n",
      "84489    {(0, 8226): 0.5178561161676974, (1, 8226): 0.2...\n",
      "36479    {(0, 13712): 0.7071067811865476, (1, 13712): 0...\n",
      "88396    {(28, 107): 0.4352946458290559, (20, 342): 0.4...\n",
      "4442     {(1, 11863): 0.6578293132998527, (2, 11863): 0...\n",
      "76870    {(4, 856): 0.16576436003073602, (4, 3066): 0.3...\n",
      "18657    {(0, 637): 0.7071067811865476, (0, 4842): 0.70...\n",
      "28683    {(0, 11008): 0.31622776601683794, (0, 11215): ...\n",
      "54848    {(13, 2956): 0.7079092620851293, (2, 4177): 0....\n",
      "Name: tfidf, Length: 21764, dtype: object\n"
     ]
    }
   ],
   "source": [
    "from sklearn.model_selection import train_test_split\n",
    "\n",
    "X_train, X_test, y_train, y_test = train_test_split(data['tfidf'],data['y'])\n",
    "\n",
    "print(X_test)"
   ]
  },
  {
   "cell_type": "markdown",
   "metadata": {},
   "source": [
    "+ 参照scikit learning的示例，从构建你的第一个KNN机器学习模型。"
   ]
  },
  {
   "cell_type": "code",
   "execution_count": 35,
   "metadata": {},
   "outputs": [
    {
     "name": "stdout",
     "output_type": "stream",
     "text": [
      "  (0, 5867)\t0.4322586731144183\n",
      "  (0, 10942)\t0.4322586731144183\n",
      "  (0, 12052)\t0.4322586731144183\n",
      "  (0, 18517)\t0.25644141160665224\n",
      "  (0, 18698)\t0.4322586731144183\n",
      "  (0, 19146)\t0.4322586731144183\n",
      "---------\n",
      "  (0, 11111)\t0.5773502691896257\n",
      "  (0, 16516)\t0.5773502691896257\n",
      "  (0, 17726)\t0.5773502691896257\n",
      "---------\n",
      "6\n",
      "3\n"
     ]
    },
    {
     "ename": "ValueError",
     "evalue": "inconsistent shapes",
     "output_type": "error",
     "traceback": [
      "\u001b[1;31m---------------------------------------------------------------------------\u001b[0m",
      "\u001b[1;31mValueError\u001b[0m                                Traceback (most recent call last)",
      "\u001b[1;32m<ipython-input-35-71ba1e414c67>\u001b[0m in \u001b[0;36m<module>\u001b[1;34m()\u001b[0m\n\u001b[0;32m     22\u001b[0m         \u001b[1;32mbreak\u001b[0m\u001b[1;33m\u001b[0m\u001b[0m\n\u001b[0;32m     23\u001b[0m \u001b[1;33m\u001b[0m\u001b[0m\n\u001b[1;32m---> 24\u001b[1;33m \u001b[0mKNN\u001b[0m\u001b[1;33m(\u001b[0m\u001b[0mX_train\u001b[0m\u001b[1;33m,\u001b[0m\u001b[0my_train\u001b[0m\u001b[1;33m,\u001b[0m\u001b[0mX_test\u001b[0m\u001b[1;33m)\u001b[0m\u001b[1;33m\u001b[0m\u001b[0m\n\u001b[0m",
      "\u001b[1;32m<ipython-input-35-71ba1e414c67>\u001b[0m in \u001b[0;36mKNN\u001b[1;34m(X, y, testX, k)\u001b[0m\n\u001b[0;32m     17\u001b[0m     \u001b[1;32mfor\u001b[0m \u001b[0mtest\u001b[0m \u001b[1;32min\u001b[0m \u001b[0mpoints\u001b[0m\u001b[1;33m:\u001b[0m\u001b[1;33m\u001b[0m\u001b[0m\n\u001b[0;32m     18\u001b[0m         \u001b[1;32mfor\u001b[0m \u001b[0mneighbor\u001b[0m \u001b[1;32min\u001b[0m \u001b[0mneighbors\u001b[0m\u001b[1;33m:\u001b[0m\u001b[1;33m\u001b[0m\u001b[0m\n\u001b[1;32m---> 19\u001b[1;33m             \u001b[0mdistance\u001b[0m\u001b[1;33m(\u001b[0m\u001b[0mdok_matrix\u001b[0m\u001b[1;33m(\u001b[0m\u001b[0mneighbor\u001b[0m\u001b[1;33m)\u001b[0m\u001b[1;33m,\u001b[0m\u001b[0mdok_matrix\u001b[0m\u001b[1;33m(\u001b[0m\u001b[0mtest\u001b[0m\u001b[1;33m)\u001b[0m\u001b[1;33m)\u001b[0m\u001b[1;33m\u001b[0m\u001b[0m\n\u001b[0m\u001b[0;32m     20\u001b[0m             \u001b[1;32mbreak\u001b[0m\u001b[1;33m\u001b[0m\u001b[0m\n\u001b[0;32m     21\u001b[0m         \u001b[0mprint\u001b[0m\u001b[1;33m(\u001b[0m\u001b[0mtest\u001b[0m\u001b[1;33m)\u001b[0m\u001b[1;33m\u001b[0m\u001b[0m\n",
      "\u001b[1;32m<ipython-input-35-71ba1e414c67>\u001b[0m in \u001b[0;36mdistance\u001b[1;34m(x1, x2)\u001b[0m\n\u001b[0;32m      8\u001b[0m     \u001b[0mprint\u001b[0m\u001b[1;33m(\u001b[0m\u001b[0mlen\u001b[0m\u001b[1;33m(\u001b[0m\u001b[0mx1\u001b[0m\u001b[1;33m[\u001b[0m\u001b[1;36m0\u001b[0m\u001b[1;33m]\u001b[0m\u001b[1;33m)\u001b[0m\u001b[1;33m)\u001b[0m\u001b[1;33m\u001b[0m\u001b[0m\n\u001b[0;32m      9\u001b[0m     \u001b[0mprint\u001b[0m\u001b[1;33m(\u001b[0m\u001b[0mlen\u001b[0m\u001b[1;33m(\u001b[0m\u001b[0mx2\u001b[0m\u001b[1;33m[\u001b[0m\u001b[1;36m0\u001b[0m\u001b[1;33m]\u001b[0m\u001b[1;33m)\u001b[0m\u001b[1;33m)\u001b[0m\u001b[1;33m\u001b[0m\u001b[0m\n\u001b[1;32m---> 10\u001b[1;33m     \u001b[1;32mreturn\u001b[0m \u001b[0mabs\u001b[0m\u001b[1;33m(\u001b[0m\u001b[0mx1\u001b[0m\u001b[1;33m-\u001b[0m\u001b[0mx2\u001b[0m\u001b[1;33m)\u001b[0m\u001b[1;33m\u001b[0m\u001b[0m\n\u001b[0m\u001b[0;32m     11\u001b[0m \u001b[1;33m\u001b[0m\u001b[0m\n\u001b[0;32m     12\u001b[0m \u001b[1;31m# def kdtree(X):\u001b[0m\u001b[1;33m\u001b[0m\u001b[1;33m\u001b[0m\u001b[0m\n",
      "\u001b[1;32mE:\\Anaconda3\\lib\\site-packages\\scipy\\sparse\\base.py\u001b[0m in \u001b[0;36m__sub__\u001b[1;34m(self, other)\u001b[0m\n\u001b[0;32m    430\u001b[0m         \u001b[1;32melif\u001b[0m \u001b[0misspmatrix\u001b[0m\u001b[1;33m(\u001b[0m\u001b[0mother\u001b[0m\u001b[1;33m)\u001b[0m\u001b[1;33m:\u001b[0m\u001b[1;33m\u001b[0m\u001b[0m\n\u001b[0;32m    431\u001b[0m             \u001b[1;32mif\u001b[0m \u001b[0mother\u001b[0m\u001b[1;33m.\u001b[0m\u001b[0mshape\u001b[0m \u001b[1;33m!=\u001b[0m \u001b[0mself\u001b[0m\u001b[1;33m.\u001b[0m\u001b[0mshape\u001b[0m\u001b[1;33m:\u001b[0m\u001b[1;33m\u001b[0m\u001b[0m\n\u001b[1;32m--> 432\u001b[1;33m                 \u001b[1;32mraise\u001b[0m \u001b[0mValueError\u001b[0m\u001b[1;33m(\u001b[0m\u001b[1;34m\"inconsistent shapes\"\u001b[0m\u001b[1;33m)\u001b[0m\u001b[1;33m\u001b[0m\u001b[0m\n\u001b[0m\u001b[0;32m    433\u001b[0m             \u001b[1;32mreturn\u001b[0m \u001b[0mself\u001b[0m\u001b[1;33m.\u001b[0m\u001b[0m_sub_sparse\u001b[0m\u001b[1;33m(\u001b[0m\u001b[0mother\u001b[0m\u001b[1;33m)\u001b[0m\u001b[1;33m\u001b[0m\u001b[0m\n\u001b[0;32m    434\u001b[0m         \u001b[1;32melif\u001b[0m \u001b[0misdense\u001b[0m\u001b[1;33m(\u001b[0m\u001b[0mother\u001b[0m\u001b[1;33m)\u001b[0m\u001b[1;33m:\u001b[0m\u001b[1;33m\u001b[0m\u001b[0m\n",
      "\u001b[1;31mValueError\u001b[0m: inconsistent shapes"
     ]
    }
   ],
   "source": [
    "import numpy as np\n",
    "\n",
    "# 特征数量\n",
    "feature_len = len(vocabulary)\n",
    "def distance(x1,x2):\n",
    "    #根据dok_matrix和特征数量构造array\n",
    "    matrix1 = np.zeros((len(x1),feature_len))\n",
    "    print(x1[0])\n",
    "    print('---------')\n",
    "    print(x2[0])\n",
    "    print('---------')\n",
    "    print(len(x1[0]))\n",
    "    print(len(x2[0]))\n",
    "    return abs(x1-x2)\n",
    "\n",
    "# def kdtree(X):\n",
    "\n",
    "def KNN(X,y,testX,k=10):\n",
    "    neighbors = np.array(X)\n",
    "    points = np.array(testX)\n",
    "    for test in points:\n",
    "        for neighbor in neighbors:\n",
    "            distance(neighbor,test)\n",
    "            break\n",
    "        print(test)\n",
    "        break\n",
    "   \n",
    "KNN(X_train,y_train,X_test)"
   ]
  },
  {
   "cell_type": "code",
   "execution_count": 49,
   "metadata": {},
   "outputs": [
    {
     "name": "stdout",
     "output_type": "stream",
     "text": [
      "26\n",
      "---------\n",
      "142\n"
     ]
    },
    {
     "ename": "TypeError",
     "evalue": "unsupported operand type(s) for -: 'list' and 'list'",
     "output_type": "error",
     "traceback": [
      "\u001b[1;31m---------------------------------------------------------------------------\u001b[0m",
      "\u001b[1;31mTypeError\u001b[0m                                 Traceback (most recent call last)",
      "\u001b[1;32m<ipython-input-49-07da92e898cf>\u001b[0m in \u001b[0;36m<module>\u001b[1;34m()\u001b[0m\n\u001b[1;32m----> 1\u001b[1;33m \u001b[0mKNN\u001b[0m\u001b[1;33m(\u001b[0m\u001b[0mX_train\u001b[0m\u001b[1;33m,\u001b[0m\u001b[0my_train\u001b[0m\u001b[1;33m,\u001b[0m\u001b[0mX_test\u001b[0m\u001b[1;33m)\u001b[0m\u001b[1;33m\u001b[0m\u001b[0m\n\u001b[0m\u001b[0;32m      2\u001b[0m \u001b[1;31m# print(X_test)\u001b[0m\u001b[1;33m\u001b[0m\u001b[1;33m\u001b[0m\u001b[0m\n",
      "\u001b[1;32m<ipython-input-48-b698b2364afb>\u001b[0m in \u001b[0;36mKNN\u001b[1;34m(X, y, testX, k)\u001b[0m\n\u001b[0;32m     14\u001b[0m     \u001b[1;32mfor\u001b[0m \u001b[0mtest\u001b[0m \u001b[1;32min\u001b[0m \u001b[0mtestX\u001b[0m\u001b[1;33m:\u001b[0m\u001b[1;33m\u001b[0m\u001b[0m\n\u001b[0;32m     15\u001b[0m \u001b[1;33m\u001b[0m\u001b[0m\n\u001b[1;32m---> 16\u001b[1;33m         \u001b[0mdistance\u001b[0m\u001b[1;33m(\u001b[0m\u001b[0mneighbors\u001b[0m\u001b[1;33m[\u001b[0m\u001b[1;36m0\u001b[0m\u001b[1;33m]\u001b[0m\u001b[1;33m,\u001b[0m\u001b[0mpoints\u001b[0m\u001b[1;33m[\u001b[0m\u001b[1;36m0\u001b[0m\u001b[1;33m]\u001b[0m\u001b[1;33m)\u001b[0m\u001b[1;33m\u001b[0m\u001b[0m\n\u001b[0m\u001b[0;32m     17\u001b[0m         \u001b[0mprint\u001b[0m\u001b[1;33m(\u001b[0m\u001b[0mtest\u001b[0m\u001b[1;33m)\u001b[0m\u001b[1;33m\u001b[0m\u001b[0m\n\u001b[0;32m     18\u001b[0m         \u001b[1;32mbreak\u001b[0m\u001b[1;33m\u001b[0m\u001b[0m\n",
      "\u001b[1;32m<ipython-input-48-b698b2364afb>\u001b[0m in \u001b[0;36mdistance\u001b[1;34m(x1, x2)\u001b[0m\n\u001b[0;32m      2\u001b[0m \u001b[1;33m\u001b[0m\u001b[0m\n\u001b[0;32m      3\u001b[0m \u001b[1;32mdef\u001b[0m \u001b[0mdistance\u001b[0m\u001b[1;33m(\u001b[0m\u001b[0mx1\u001b[0m\u001b[1;33m,\u001b[0m\u001b[0mx2\u001b[0m\u001b[1;33m)\u001b[0m\u001b[1;33m:\u001b[0m\u001b[1;33m\u001b[0m\u001b[0m\n\u001b[1;32m----> 4\u001b[1;33m     \u001b[1;32mreturn\u001b[0m \u001b[0mabs\u001b[0m\u001b[1;33m(\u001b[0m\u001b[0mx1\u001b[0m\u001b[1;33m-\u001b[0m\u001b[0mx2\u001b[0m\u001b[1;33m)\u001b[0m\u001b[1;33m\u001b[0m\u001b[0m\n\u001b[0m\u001b[0;32m      5\u001b[0m \u001b[1;33m\u001b[0m\u001b[0m\n\u001b[0;32m      6\u001b[0m \u001b[1;31m# def kdtree(X):\u001b[0m\u001b[1;33m\u001b[0m\u001b[1;33m\u001b[0m\u001b[0m\n",
      "\u001b[1;31mTypeError\u001b[0m: unsupported operand type(s) for -: 'list' and 'list'"
     ]
    }
   ],
   "source": [
    "KNN(X_train,y_train,X_test)\n",
    "# print(X_test)"
   ]
  },
  {
   "cell_type": "markdown",
   "metadata": {},
   "source": [
    "### Step5: 在traning_data, validation_data, test_data 上观察其相关metric: recall, precision, f1等， 并解释其含义. "
   ]
  },
  {
   "cell_type": "code",
   "execution_count": 9,
   "metadata": {},
   "outputs": [],
   "source": [
    "# it's your time"
   ]
  },
  {
   "cell_type": "markdown",
   "metadata": {},
   "source": [
    "### Step6: 使用 test_data 对其进行新数据的判断, 你有没"
   ]
  },
  {
   "cell_type": "code",
   "execution_count": 10,
   "metadata": {},
   "outputs": [],
   "source": [
    "# it's your time"
   ]
  },
  {
   "cell_type": "markdown",
   "metadata": {},
   "source": [
    "### Step7: 调整不同的参数，观察变化"
   ]
  },
  {
   "cell_type": "code",
   "execution_count": 11,
   "metadata": {},
   "outputs": [],
   "source": [
    "# it's your time"
   ]
  },
  {
   "cell_type": "markdown",
   "metadata": {},
   "source": [
    "### Step8: 不断改变参数，直到性能达到“某个”点。问：“某个”怎么定义？"
   ]
  },
  {
   "cell_type": "code",
   "execution_count": 12,
   "metadata": {},
   "outputs": [],
   "source": [
    "# it's your time"
   ]
  },
  {
   "cell_type": "markdown",
   "metadata": {},
   "source": [
    "### Step9: 找出所以预测为 1， 但是实际为 0 的文章。 作为抄袭的候选者。"
   ]
  },
  {
   "cell_type": "code",
   "execution_count": 13,
   "metadata": {},
   "outputs": [],
   "source": [
    "# it's your time"
   ]
  },
  {
   "cell_type": "markdown",
   "metadata": {},
   "source": [
    "### Step10： 总结该过程，什么是数据思维？什么是机器学习思维？"
   ]
  },
  {
   "cell_type": "markdown",
   "metadata": {},
   "source": [
    "### (Optional)使用第4课讲解的 edit distance，在涉嫌抄袭的文章中，找到其重复的文字与被修改过的文字。 "
   ]
  },
  {
   "cell_type": "markdown",
   "metadata": {},
   "source": [
    "### Step11: 利用第8课讲述的新模型，进行操作，感受其中不同的参数、模型对性能的影响。"
   ]
  }
 ],
 "metadata": {
  "kernelspec": {
   "display_name": "Python 3",
   "language": "python",
   "name": "python3"
  },
  "language_info": {
   "codemirror_mode": {
    "name": "ipython",
    "version": 3
   },
   "file_extension": ".py",
   "mimetype": "text/x-python",
   "name": "python",
   "nbconvert_exporter": "python",
   "pygments_lexer": "ipython3",
   "version": "3.7.0"
  }
 },
 "nbformat": 4,
 "nbformat_minor": 2
}
