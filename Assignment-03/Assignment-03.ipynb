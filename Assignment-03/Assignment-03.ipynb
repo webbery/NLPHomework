{
 "cells": [
  {
   "cell_type": "markdown",
   "metadata": {},
   "source": [
    "## Lecture-03 Gradient Descent and Dymanic Programming"
   ]
  },
  {
   "cell_type": "markdown",
   "metadata": {},
   "source": [
    "In this week, we need complete following tasks:\n",
    "+ Re-review the course online programming; \n",
    "+ Choose 1 - 2 books which you interested and keep reading; \n",
    "+ Answer the review questions\n",
    "+ Prepare the basic requirement of our 1st project. "
   ]
  },
  {
   "cell_type": "markdown",
   "metadata": {},
   "source": [
    "### Part I Review the online programming. "
   ]
  },
  {
   "cell_type": "markdown",
   "metadata": {},
   "source": [
    "### Part 2: change loss function from $loss = \\frac{1}{n}\\sum{(y_i - \\hat(y_i))^2}$ to $loss = \\frac{1}{n}\\sum{|y_i - \\hat{y_i}|}$, and using your mathmatical knowledge to get the right partial formual. Implemen the gradient descent code."
   ]
  },
  {
   "cell_type": "code",
   "execution_count": 6,
   "metadata": {},
   "outputs": [
    {
     "name": "stdout",
     "output_type": "stream",
     "text": [
      "times 0:  min_loss: 356.10696640316235  current k,b: 6.284634387351787,-1\n",
      "times 100:  min_loss: 352.25730346489064  current k,b: 6.284634387351787,-1\n",
      "times 200:  min_loss: 348.4076405266195  current k,b: 6.284634387351787,-1\n",
      "times 300:  min_loss: 344.55797758834797  current k,b: 6.284634387351787,-1\n",
      "times 400:  min_loss: 340.70831465007683  current k,b: 6.284634387351787,-1\n",
      "times 500:  min_loss: 336.8586517118056  current k,b: 6.284634387351787,-1\n",
      "times 600:  min_loss: 333.0089887735343  current k,b: 6.284634387351787,-1\n",
      "times 700:  min_loss: 329.1593258352632  current k,b: 6.284634387351787,-1\n",
      "times 800:  min_loss: 325.3096628969923  current k,b: 6.284634387351787,-1\n",
      "times 900:  min_loss: 321.45999995872523  current k,b: 6.284634387351787,-1\n",
      "times 1000:  min_loss: 317.61033702045836  current k,b: 6.284634387351787,-1\n",
      "times 1100:  min_loss: 313.76067408219114  current k,b: 6.284634387351787,-1\n",
      "times 1200:  min_loss: 309.91101114392484  current k,b: 6.284634387351787,-1\n",
      "times 1300:  min_loss: 306.0613482056577  current k,b: 6.284634387351787,-1\n",
      "times 1400:  min_loss: 302.2116852673911  current k,b: 6.284634387351787,-1\n",
      "times 1500:  min_loss: 298.36202232912433  current k,b: 6.284634387351787,-1\n",
      "times 1600:  min_loss: 294.5123593908571  current k,b: 6.284634387351787,-1\n",
      "times 1700:  min_loss: 290.6626964525906  current k,b: 6.284634387351787,-1\n",
      "times 1800:  min_loss: 286.81303351432376  current k,b: 6.284634387351787,-1\n",
      "times 1900:  min_loss: 282.96337057605683  current k,b: 6.284634387351787,-1\n",
      "times 2000:  min_loss: 279.1137076377902  current k,b: 6.284634387351787,-1\n",
      "times 2100:  min_loss: 275.2640446995232  current k,b: 6.284634387351787,-1\n",
      "times 2200:  min_loss: 271.4143817612565  current k,b: 6.284634387351787,-1\n",
      "times 2300:  min_loss: 267.56471882298956  current k,b: 6.284634387351787,-1\n",
      "times 2400:  min_loss: 263.7150558847228  current k,b: 6.284634387351787,-1\n",
      "times 2500:  min_loss: 259.86539294645564  current k,b: 6.284634387351787,-1\n",
      "times 2600:  min_loss: 256.015730008189  current k,b: 6.284634387351787,-1\n",
      "times 2700:  min_loss: 252.1660670699221  current k,b: 6.284634387351787,-1\n",
      "times 2800:  min_loss: 248.31640413165556  current k,b: 6.284634387351787,-1\n",
      "times 2900:  min_loss: 244.46674119338863  current k,b: 6.284634387351787,-1\n",
      "times 3000:  min_loss: 240.61707825512164  current k,b: 6.284634387351787,-1\n",
      "times 3100:  min_loss: 236.7674153168548  current k,b: 6.284634387351787,-1\n",
      "times 3200:  min_loss: 232.9177523785883  current k,b: 6.284634387351787,-1\n",
      "times 3300:  min_loss: 229.06808944032133  current k,b: 6.284634387351787,-1\n",
      "times 3400:  min_loss: 225.21842650205454  current k,b: 6.284634387351787,-1\n",
      "times 3500:  min_loss: 221.36876356378755  current k,b: 6.284634387351787,-1\n",
      "times 3600:  min_loss: 217.51910062552082  current k,b: 6.284634387351787,-1\n",
      "times 3700:  min_loss: 213.66943768725372  current k,b: 6.284634387351787,-1\n",
      "times 3800:  min_loss: 209.81977474898716  current k,b: 6.284634387351787,-1\n",
      "times 3900:  min_loss: 205.97011181072008  current k,b: 6.284634387351787,-1\n",
      "times 4000:  min_loss: 202.12044887245312  current k,b: 6.284634387351787,-1\n",
      "times 4100:  min_loss: 198.2707859341867  current k,b: 6.284634387351787,-1\n",
      "times 4200:  min_loss: 194.42112299591983  current k,b: 6.284634387351787,-1\n",
      "times 4300:  min_loss: 190.57146005765307  current k,b: 6.284634387351787,-1\n",
      "times 4400:  min_loss: 186.721797119386  current k,b: 6.284634387351787,-1\n",
      "times 4500:  min_loss: 182.8721341811194  current k,b: 6.284634387351787,-1\n",
      "times 4600:  min_loss: 179.02247124285256  current k,b: 6.284634387351787,-1\n",
      "times 4700:  min_loss: 175.17280830458563  current k,b: 6.284634387351787,-1\n",
      "times 4800:  min_loss: 171.3231453663188  current k,b: 6.284634387351787,-1\n",
      "times 4900:  min_loss: 167.473482428052  current k,b: 6.284634387351787,-1\n",
      "times 5000:  min_loss: 163.62381948978492  current k,b: 6.284634387351787,-1\n",
      "times 5100:  min_loss: 159.77415655151842  current k,b: 6.284634387351787,-1\n",
      "times 5200:  min_loss: 155.92449361325157  current k,b: 6.284634387351787,-1\n",
      "times 5300:  min_loss: 152.07483067498478  current k,b: 6.284634387351787,-1\n",
      "times 5400:  min_loss: 148.22516773671796  current k,b: 6.284634387351787,-1\n",
      "times 5500:  min_loss: 144.37550479845115  current k,b: 6.284634387351787,-1\n",
      "times 5600:  min_loss: 140.52584186018424  current k,b: 6.284634387351787,-1\n",
      "times 5700:  min_loss: 136.67617892191737  current k,b: 6.284634387351787,-1\n",
      "times 5800:  min_loss: 132.82651598365064  current k,b: 6.284634387351787,-1\n",
      "times 5900:  min_loss: 128.97685304538342  current k,b: 6.284634387351787,-1\n",
      "times 6000:  min_loss: 125.12719010711434  current k,b: 6.284634387351787,-1\n",
      "times 6100:  min_loss: 121.27752716884541  current k,b: 6.284634387351787,-1\n",
      "times 6200:  min_loss: 117.42786423057628  current k,b: 6.284634387351787,-1\n",
      "times 6300:  min_loss: 113.57820129230711  current k,b: 6.284634387351787,-1\n",
      "times 6400:  min_loss: 109.72853835403806  current k,b: 6.284634387351787,-1\n",
      "times 6500:  min_loss: 105.87887541576912  current k,b: 6.284634387351787,-1\n",
      "times 6600:  min_loss: 102.02921247750005  current k,b: 6.284634387351787,-1\n",
      "times 6700:  min_loss: 98.17954953923103  current k,b: 6.284634387351787,-1\n",
      "times 6800:  min_loss: 94.32988660096196  current k,b: 6.284634387351787,-1\n",
      "times 6900:  min_loss: 90.48022366269284  current k,b: 6.284634387351787,-1\n",
      "times 7000:  min_loss: 86.63056072442382  current k,b: 6.284634387351787,-1\n",
      "times 7100:  min_loss: 82.78089778615468  current k,b: 6.284634387351787,-1\n",
      "times 7200:  min_loss: 78.9312348478856  current k,b: 6.284634387351787,-1\n",
      "times 7300:  min_loss: 75.08157190961661  current k,b: 6.284634387351787,-1\n",
      "times 7400:  min_loss: 71.23190897134756  current k,b: 6.284634387351787,-1\n",
      "times 7500:  min_loss: 67.38224603307852  current k,b: 6.284634387351787,-1\n",
      "times 7600:  min_loss: 63.532583094809496  current k,b: 6.284634387351787,-1\n",
      "times 7700:  min_loss: 59.6943333343199  current k,b: 6.270559288537557,-1\n",
      "times 7800:  min_loss: 55.86194669829604  current k,b: 6.270559288537557,-1\n",
      "times 7900:  min_loss: 52.03682094692781  current k,b: 6.250915019762854,-1\n",
      "times 8000:  min_loss: 48.22863657466398  current k,b: 6.250915019762854,-1\n",
      "times 8100:  min_loss: 44.42087307526709  current k,b: 6.235646245059297,-1\n",
      "times 8200:  min_loss: 40.63135889516355  current k,b: 6.235646245059297,-1\n",
      "times 8300:  min_loss: 36.841844715060056  current k,b: 6.235646245059297,-1\n",
      "times 8400:  min_loss: 33.06205796365583  current k,b: 6.21242490118578,-1\n",
      "times 8500:  min_loss: 29.301054620700203  current k,b: 6.21242490118578,-1\n",
      "times 8600:  min_loss: 25.565631552478905  current k,b: 6.187855731225306,-1\n",
      "times 8700:  min_loss: 21.841212060563862  current k,b: 6.145084980237163,-1\n",
      "times 8800:  min_loss: 18.174658232163402  current k,b: 6.1104367588932895,-1\n",
      "times 8900:  min_loss: 14.60276480205907  current k,b: 6.016638339920956,-1\n",
      "times 9000:  min_loss: 11.123943681450907  current k,b: 5.916053359683801,-1\n",
      "times 9100:  min_loss: 7.993087718260844  current k,b: 5.246053359683799,-1\n",
      "times 9200:  min_loss: 5.797099333387414  current k,b: 4.012590909090909,-1\n",
      "times 9300:  min_loss: 4.840525717001715  current k,b: 2.3046660079051344,-1\n",
      "times 9400:  min_loss: 4.567117419838723  current k,b: 1.24054347826087,-1\n",
      "times 9500:  min_loss: 4.496845178455303  current k,b: 0.6466501976284582,-1\n",
      "times 9600:  min_loss: 4.477930982591452  current k,b: 0.422638339920948,-1\n",
      "times 9700:  min_loss: 4.471903899725113  current k,b: 0.25806521739130367,-1\n",
      "times 9800:  min_loss: 4.468970983549319  current k,b: 0.23480830039525613,-1\n",
      "times 9900:  min_loss: 4.4666515745872815  current k,b: 0.20938142292490053,-1\n",
      "times 10000:  min_loss: 4.465102342271013  current k,b: 0.18317588932806278,-1\n",
      "times 10100:  min_loss: 4.464019830241364  current k,b: 0.1590138339920944,-1\n",
      "times 10200:  min_loss: 4.463023343643672  current k,b: 0.15545256916995992,-1\n",
      "times 10300:  min_loss: 4.462187821185514  current k,b: 0.15545256916995992,-1\n",
      "times 10400:  min_loss: 4.461352298727355  current k,b: 0.15545256916995992,-1\n",
      "times 10500:  min_loss: 4.460397865353401  current k,b: 0.17680830039525633,-1\n",
      "times 10600:  min_loss: 4.459248032429514  current k,b: 0.17680830039525633,-1\n",
      "times 10700:  min_loss: 4.458256570332429  current k,b: 0.15264624505928784,-1\n",
      "times 10800:  min_loss: 4.457341539271444  current k,b: 0.15264624505928784,-1\n"
     ]
    },
    {
     "name": "stdout",
     "output_type": "stream",
     "text": [
      "times 10900:  min_loss: 4.456426525292726  current k,b: 0.17680830039525633,-1\n",
      "times 11000:  min_loss: 4.455511655225431  current k,b: 0.17680830039525633,-1\n",
      "times 11100:  min_loss: 4.454592757841462  current k,b: 0.15264624505928784,-1\n",
      "times 11200:  min_loss: 4.453677726780479  current k,b: 0.15264624505928784,-1\n",
      "times 11300:  min_loss: 4.452799114534508  current k,b: 0.1482430830039521,-1\n",
      "times 11400:  min_loss: 4.452048296822196  current k,b: 0.14368181818181766,-1\n",
      "times 11500:  min_loss: 4.4515648780025625  current k,b: 0.14368181818181766,-1\n",
      "times 11600:  min_loss: 4.450787088717733  current k,b: 0.16693873517786514,-1\n",
      "times 11700:  min_loss: 4.44997651917242  current k,b: 0.16693873517786514,-1\n",
      "times 11800:  min_loss: 4.449061289414752  current k,b: 0.16302569169960412,-1\n",
      "times 11900:  min_loss: 4.44838249300559  current k,b: 0.15767786561264754,-1\n",
      "times 12000:  min_loss: 4.447872546660155  current k,b: 0.15767786561264754,-1\n",
      "times 12100:  min_loss: 4.44748474551494  current k,b: 0.15412845849802317,-1\n",
      "times 12200:  min_loss: 4.447085471928025  current k,b: 0.15412845849802317,-1\n",
      "times 12300:  min_loss: 4.446686198341115  current k,b: 0.15412845849802317,-1\n",
      "times 12400:  min_loss: 4.446286924754204  current k,b: 0.15412845849802317,-1\n",
      "times 12500:  min_loss: 4.4458876511672925  current k,b: 0.15412845849802317,-1\n",
      "times 12600:  min_loss: 4.445394559175866  current k,b: 0.17755138339920895,-1\n",
      "times 12700:  min_loss: 4.444847647885428  current k,b: 0.17755138339920895,-1\n",
      "times 12800:  min_loss: 4.4444390434199335  current k,b: 0.1522984189723313,-1\n",
      "times 12900:  min_loss: 4.4440304653912985  current k,b: 0.1522984189723313,-1\n",
      "times 13000:  min_loss: 4.443774034003153  current k,b: 0.14893083003952534,-1\n",
      "times 13100:  min_loss: 4.443532279374494  current k,b: 0.14893083003952534,-1\n",
      "times 13200:  min_loss: 4.4432414181894195  current k,b: 0.14893083003952534,-1\n",
      "times 13300:  min_loss: 4.442897673020526  current k,b: 0.14893083003952534,-1\n",
      "times 13400:  min_loss: 4.442553974471255  current k,b: 0.17429446640316149,-1\n",
      "times 13500:  min_loss: 4.442206405255315  current k,b: 0.14893083003952534,-1\n",
      "times 13600:  min_loss: 4.441862660086417  current k,b: 0.14893083003952534,-1\n",
      "times 13700:  min_loss: 4.441518914917521  current k,b: 0.14893083003952534,-1\n",
      "times 13800:  min_loss: 4.441175169748619  current k,b: 0.14893083003952534,-1\n",
      "times 13900:  min_loss: 4.4408212504125695  current k,b: 0.17250790513833936,-1\n",
      "times 14000:  min_loss: 4.440302306049552  current k,b: 0.17250790513833936,-1\n",
      "times 14100:  min_loss: 4.439779342151465  current k,b: 0.14893083003952534,-1\n",
      "times 14200:  min_loss: 4.43944009651033  current k,b: 0.17250790513833936,-1\n",
      "times 14300:  min_loss: 4.439110345658622  current k,b: 0.14725494071146217,-1\n",
      "times 14500:  min_loss: 4.438856070983096  current k,b: 0.16374110671936695,-1\n",
      "times 14600:  min_loss: 4.43854649748209  current k,b: 0.16374110671936695,-1\n",
      "times 14700:  min_loss: 4.43824109730862  current k,b: 0.13848814229248976,-1\n",
      "times 14900:  min_loss: 4.4380460860847935  current k,b: 0.16019169960474258,-1\n"
     ]
    },
    {
     "data": {
      "text/plain": [
       "<matplotlib.collections.PathCollection at 0x23f5d960668>"
      ]
     },
     "execution_count": 6,
     "metadata": {},
     "output_type": "execute_result"
    },
    {
     "data": {
      "image/png": "[encoded data removed]",
      "text/plain": [
       "<Figure size 432x288 with 1 Axes>"
      ]
     },
     "metadata": {
      "needs_background": "light"
     },
     "output_type": "display_data"
    }
   ],
   "source": [
    "from sklearn.datasets import load_boston\n",
    "data = load_boston()\n",
    "X, y = data['data'], data['target']\n",
    "\n",
    "import random\n",
    "import matplotlib.pyplot as plt\n",
    "def draw_rm_and_price():\n",
    "    plt.scatter(X[:, 5], y)\n",
    "\n",
    "def price(rm, k, b):\n",
    "    \"\"\"f(x) = k * x + b\"\"\"\n",
    "    return k * rm + b\n",
    "\n",
    "def abs_loss(y,y_hat):\n",
    "    return sum(abs(y_i-y_hat_i) for y_i,y_hat_i in zip(list(y),list(y_hat)))/len(list(y))\n",
    "\n",
    "def abs_gredient_k(x,y,y_hat):\n",
    "    def gredient(x_i,y_i,y_hat_i):\n",
    "        # 绝对值loss function对k的导数\n",
    "        if y_i-y_hat_i>=0: return -x_i\n",
    "        else: return x_i\n",
    "#         return abs(x_i)\n",
    "    g=0\n",
    "    for x_i, y_i, y_hat_i in zip(list(x), list(y), list(y_hat)):\n",
    "        g+=gredient(x_i,y_i,y_hat_i)\n",
    "    return 1/len(y)*g\n",
    "\n",
    "def abs_gredient_b(y,y_hat):\n",
    "    return -1\n",
    "\n",
    "def find_best_by_gredient(times):\n",
    "    X_rm = X[:, 5]\n",
    "    min_loss =float('inf')\n",
    "    learning_rate = 1e-03\n",
    "    next_k = random.randint(-100, 100)\n",
    "    next_b = random.randint(-100, 100)\n",
    "    for i in range(times):\n",
    "        new_price = [price(r, next_k, next_b) for r in X_rm]\n",
    "        cur_loss = abs_loss(y,new_price)\n",
    "        \n",
    "        k_g = abs_gredient_k(X_rm,y,new_price)\n",
    "        b_g = abs_gredient_b(X_rm,new_price)\n",
    "        if cur_loss<min_loss:\n",
    "#             print(i,min_loss,cur_loss,next_k,next_b)\n",
    "            min_loss = cur_loss\n",
    "            if i%100==0:\n",
    "                print(\"times {}:  min_loss: {}  current k,b: {},{}\".format(i,min_loss,k_g,b_g))\n",
    "        \n",
    "        next_k=next_k-k_g*learning_rate\n",
    "        next_b = next_b-b_g*learning_rate\n",
    "    return next_k,next_b\n",
    "\n",
    "k,b = find_best_by_gredient(15000)\n",
    "draw_rm_and_price()\n",
    "plt.scatter(X[:, 5], [price(r, k, b) for r in X[:, 5]])"
   ]
  },
  {
   "cell_type": "markdown",
   "metadata": {},
   "source": [
    "### Part 3: Finish the Solution Parse Part of Edit-Distance"
   ]
  },
  {
   "cell_type": "code",
   "execution_count": 10,
   "metadata": {},
   "outputs": [
    {
     "name": "stdout",
     "output_type": "stream",
     "text": [
      "11\n",
      "Wall time: 1.01 ms\n",
      "11\n",
      "Wall time: 31.4 s\n"
     ]
    }
   ],
   "source": [
    "import edit_distance as ed\n",
    "\n",
    "%time print(ed.edit_distance_dynamic_program('SilentKnig','RecyclerView'))\n",
    "%time print(ed.edit_distance('SilentKnig','RecyclerView'))"
   ]
  },
  {
   "cell_type": "markdown",
   "metadata": {},
   "source": [
    "### Part 4 Choose 1 - 2 books to keep reading: \n",
    "\n",
    "+ SICP, Structure and Interpretation of Computer Programming. \n",
    "+ Introduction to Algorithms \n",
    "+ Artificial Intelligence A Modern Approach (3rd Edition) \n",
    "+ Code Complete 2 \n",
    "+ Programming Pearls \n",
    "+ Deep Learning\n",
    "+ 黑客与画家\n",
    "+ 数学之美\n",
    "+ Fluent Python\n",
    "+ Hands on Tensorflow\n",
    "+ Conference: NIPS_ ICML_ ICLR_ ACL_ AAAI\n",
    "\n",
    "> most books you may find in our github: https://github.com/Computing-Intelligence/References"
   ]
  },
  {
   "cell_type": "markdown",
   "metadata": {},
   "source": [
    "## Part 5-1: review machine learning"
   ]
  },
  {
   "cell_type": "markdown",
   "metadata": {},
   "source": [
    "1. Why do we use Derivative / Gredient to fit a target function?¶"
   ]
  },
  {
   "cell_type": "markdown",
   "metadata": {},
   "source": [
    "Ans: 梯度能够直接给我们下降速度最快的方向，而不用再去计算判断其他方向是否上升还是下降、或者下降不够快的问题"
   ]
  },
  {
   "cell_type": "markdown",
   "metadata": {},
   "source": [
    "2. In the words 'Gredient Descent', what's the Gredient and what's the Descent?¶"
   ]
  },
  {
   "cell_type": "markdown",
   "metadata": {},
   "source": [
    "Ans: 梯度指数据变化最快的方向，可以是上升也可以是下降；Descent指的是下降的方向"
   ]
  },
  {
   "cell_type": "markdown",
   "metadata": {},
   "source": [
    "\n",
    "3. What's the advantages of the 3rd gradient descent method compared to the previous methods?"
   ]
  },
  {
   "cell_type": "markdown",
   "metadata": {},
   "source": [
    "Ans: 利用了梯度是数据变化最快的方向的特性，减少了其他方向探索和计算的可能，提升了性能，更快的逼近待拟合的函数"
   ]
  },
  {
   "cell_type": "markdown",
   "metadata": {},
   "source": [
    "4. Using the simple words to describe: What's the machine leanring.¶"
   ]
  },
  {
   "cell_type": "markdown",
   "metadata": {},
   "source": [
    "Ans: 机器学习是通过计算机寻找一个函数来逼近数据集。通过这个函数可以对数据进行预测"
   ]
  },
  {
   "cell_type": "markdown",
   "metadata": {},
   "source": [
    "### Part 5: Answer following questions: "
   ]
  },
  {
   "cell_type": "markdown",
   "metadata": {},
   "source": [
    "1. Why do we need dynamic programming? What's the difference of dynamic programming and previous talked `search` problme? "
   ]
  },
  {
   "cell_type": "markdown",
   "metadata": {},
   "source": [
    "动态规划能够提升运行速度，降低计算量。\n",
    "search与动态规划的区别：search是在一个结构已知的图上进行的查找，动态规划则是将问题分解为子问题，通过查表的方式查询子问题结果，达到快速解决问题的方法"
   ]
  },
  {
   "cell_type": "markdown",
   "metadata": {},
   "source": [
    "2. Why do we still need dynamic programming? Why not we train a machine learning to fit a function which could get the `right` answer based on inputs?"
   ]
  },
  {
   "cell_type": "markdown",
   "metadata": {},
   "source": [
    "使用动态规划的原因是在某些确定性问题上它能够高效快速的获得结果。而如果采用机器学习，我们首先要采集相关的数据，设计模型，进行训练，之后才能使用；并且使用的时候还需要判断它正确的概率，并不能保证是完全正确的"
   ]
  },
  {
   "cell_type": "markdown",
   "metadata": {},
   "source": [
    "3. Can you catch up at least 3 problems which could solved by Dynamic Programming? "
   ]
  },
  {
   "cell_type": "markdown",
   "metadata": {},
   "source": [
    "篱笆问题、两个字符串的最大公共子串、背包问题"
   ]
  },
  {
   "cell_type": "markdown",
   "metadata": {},
   "source": [
    "4. Can you catch up at least 3 problems wich could sloved by Edit Distance? "
   ]
  },
  {
   "cell_type": "markdown",
   "metadata": {},
   "source": [
    "单词纠错、去除单词时态、复数形式"
   ]
  },
  {
   "cell_type": "markdown",
   "metadata": {},
   "source": [
    "5. Please summarize the three main features of Dynamic Programming, and make a concise explain for each feature. "
   ]
  },
  {
   "cell_type": "markdown",
   "metadata": {},
   "source": [
    "1.具有最优子结构。即每个子问题的解都是最优的\n",
    "2.子问题的解会被多次用到\n",
    "3.无后效性。即子问题的解不会被改变，这个特性使我们可以直接保存子问题的解而不用再次计算"
   ]
  },
  {
   "cell_type": "markdown",
   "metadata": {},
   "source": [
    "6. What's the disadvantages of Dynamic Programming? (You may need search by yourself in Internet)"
   ]
  },
  {
   "cell_type": "markdown",
   "metadata": {},
   "source": [
    "需要额外的空间存储子问题的结果，是一个以空间换时间的算法"
   ]
  },
  {
   "cell_type": "markdown",
   "metadata": {},
   "source": [
    "## Part 6 Preparation of Project-01"
   ]
  },
  {
   "cell_type": "markdown",
   "metadata": {},
   "source": [
    "1. Using python Flask or Bottle to finish your first simple web app:\n",
    "> https://bottlepy.org/\n",
    "\n",
    "2. Learn what's the SQL, and try some simple SQL operations:\n",
    "> https://www.w3schools.com/sql/sql_intro.asp\n",
    "\n",
    "3. Learn what's the HTML ( *ONLY* need to know the basic things)\n",
    "> https://getbootstrap.com/; https://www.w3schools.com/html/"
   ]
  },
  {
   "cell_type": "markdown",
   "metadata": {},
   "source": [
    "### (Optinal) Finish the k-person-salesman problem:"
   ]
  },
  {
   "cell_type": "code",
   "execution_count": 7,
   "metadata": {},
   "outputs": [],
   "source": [
    "import random\n",
    "import matplotlib.pylab as plt"
   ]
  },
  {
   "cell_type": "code",
   "execution_count": 8,
   "metadata": {},
   "outputs": [],
   "source": [
    "latitudes = [random.randint(-100, 100) for _ in range(20)]\n",
    "longitude = [random.randint(-100, 100) for _ in range(20)]"
   ]
  },
  {
   "cell_type": "code",
   "execution_count": 9,
   "metadata": {},
   "outputs": [
    {
     "data": {
      "text/plain": [
       "<matplotlib.collections.PathCollection at 0x11da1c588>"
      ]
     },
     "execution_count": 9,
     "metadata": {},
     "output_type": "execute_result"
    },
    {
     "data": {
      "image/png": "[encoded data removed]",
      "text/plain": [
       "<Figure size 432x288 with 1 Axes>"
      ]
     },
     "metadata": {
      "needs_background": "light"
     },
     "output_type": "display_data"
    }
   ],
   "source": [
    "plt.scatter(latitudes, longitude)"
   ]
  },
  {
   "cell_type": "markdown",
   "metadata": {},
   "source": [
    "给定一个初始点 𝑃, 已经 𝑘个车辆，如何从该点出发，经这 k 个车辆经过所以的点全部一次，而且所走过的路程最短?\n",
    "\n",
    "例如："
   ]
  },
  {
   "cell_type": "code",
   "execution_count": 14,
   "metadata": {},
   "outputs": [],
   "source": [
    "chosen_p = (-50, 10)\n",
    "chosen_p2 = (1, 30)\n",
    "chosen_p3 = (99, 15)"
   ]
  },
  {
   "cell_type": "code",
   "execution_count": 4,
   "metadata": {},
   "outputs": [],
   "source": [
    "import matplotlib.pyplot as plt"
   ]
  },
  {
   "cell_type": "code",
   "execution_count": 15,
   "metadata": {
    "scrolled": true
   },
   "outputs": [
    {
     "data": {
      "text/plain": [
       "<matplotlib.collections.PathCollection at 0x11dbbd470>"
      ]
     },
     "execution_count": 15,
     "metadata": {},
     "output_type": "execute_result"
    },
    {
     "data": {
      "image/png": "[encoded data removed]",
      "text/plain": [
       "<Figure size 432x288 with 1 Axes>"
      ]
     },
     "metadata": {
      "needs_background": "light"
     },
     "output_type": "display_data"
    }
   ],
   "source": [
    "plt.scatter(latitudes, longitude)\n",
    "plt.scatter([chosen_p[0]], [chosen_p[1]], color='r')\n",
    "plt.scatter([chosen_p2[0]], [chosen_p2[1]], color='r')\n",
    "plt.scatter([chosen_p3[0]], [chosen_p3[1]], color='r')"
   ]
  },
  {
   "cell_type": "markdown",
   "metadata": {},
   "source": [
    "shuro"
   ]
  }
 ],
 "metadata": {
  "kernelspec": {
   "display_name": "Python 3",
   "language": "python",
   "name": "python3"
  },
  "language_info": {
   "codemirror_mode": {
    "name": "ipython",
    "version": 3
   },
   "file_extension": ".py",
   "mimetype": "text/x-python",
   "name": "python",
   "nbconvert_exporter": "python",
   "pygments_lexer": "ipython3",
   "version": "3.7.0"
  }
 },
 "nbformat": 4,
 "nbformat_minor": 2
}
