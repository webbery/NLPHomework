{
 "cells": [
  {
   "cell_type": "code",
   "execution_count": 2,
   "metadata": {},
   "outputs": [],
   "source": [
    "#导入数据\n",
    "import pandas as pd\n",
    "content = pd.read_csv('./sqlResult_1558435.csv', encoding='gb18030')\n",
    "data = pd.DataFrame({'content':content['content'],'y':content['source']=='新华社'})\n",
    "data=data.dropna(axis=0)"
   ]
  },
  {
   "cell_type": "code",
   "execution_count": 4,
   "metadata": {},
   "outputs": [
    {
     "name": "stderr",
     "output_type": "stream",
     "text": [
      "Building prefix dict from the default dictionary ...\n",
      "Loading model from cache C:\\Users\\Raytine\\AppData\\Local\\Temp\\jieba.cache\n",
      "Loading model cost 0.581 seconds.\n",
      "Prefix dict has been built succesfully.\n"
     ]
    },
    {
     "name": "stdout",
     "output_type": "stream",
     "text": [
      "5294\n"
     ]
    }
   ],
   "source": [
    "from sklearn.feature_extraction.text import TfidfVectorizer\n",
    "import cut_sentence as cs\n",
    "from collections import defaultdict\n",
    "\n",
    "#1. 统计词频\n",
    "tf=defaultdict(int)\n",
    "for index,row in data.iterrows():\n",
    "    words_list = cs.segment(row['content'],type=\"arr\")\n",
    "    for word in words_list:\n",
    "        tf[word]+=1\n",
    "\n",
    "result = sorted(tf.items(),key=lambda item: item[1])\n",
    "#3. 挑选词频大于150小于350的词作为feature\n",
    "# 构建vocabulary\n",
    "vocabulary = defaultdict(int)\n",
    "index = 0\n",
    "for item in result:\n",
    "    if item[1]>150 and item[1]<350:\n",
    "        vocabulary[item[0]]=index\n",
    "        index+=1\n",
    "print(len(vocabulary))\n",
    "\n",
    "from scipy.sparse import dok_matrix\n",
    "\n",
    "def flatten2line(doc):\n",
    "    #把一篇文档压成一行\n",
    "    raw_doc=\"\"\n",
    "    for sentence in doc:\n",
    "        raw_doc+=sentence\n",
    "        raw_doc+=\" \"\n",
    "#     print(raw_doc)\n",
    "    return raw_doc\n",
    "\n",
    "docs=[]\n",
    "for index,row in data.iterrows():\n",
    "#     if index>1: break\n",
    "    doc = cs.cut_and_segment(row['content'])\n",
    "    if len(doc)==0:\n",
    "#         print(index,row['content'],doc)\n",
    "        docs.append(\"\")\n",
    "        continue\n",
    "#    print(doc)\n",
    "    doc = flatten2line(doc)\n",
    "    docs.append(doc)\n",
    "\n",
    "tfidf = TfidfVectorizer(max_features=len(vocabulary),vocabulary=vocabulary)\n",
    "vectorize = tfidf.fit_transform(docs)\n",
    "\n",
    "from sklearn.model_selection import train_test_split\n",
    "\n",
    "X_train, X_test, y_train, y_test = train_test_split(vectorize,data['y'])"
   ]
  },
  {
   "cell_type": "code",
   "execution_count": 22,
   "metadata": {},
   "outputs": [],
   "source": [
    "def search_super_params(parameters,estimator):\n",
    "    scores = ['f1']\n",
    "    for score in scores:\n",
    "        print('%s_weighted: ' % score)\n",
    "        est = estimator()\n",
    "        clf = GridSearchCV(est,parameters,cv=3,scoring='%s_weighted' % score,verbose=3)\n",
    "        clf.fit(X_train.todense(),y_train)\n",
    "        print(clf.best_params_)\n",
    "        y_true, y_pred = y_test, clf.predict(X_test.todense())\n",
    "        print(classification_report(y_true, y_pred))"
   ]
  },
  {
   "cell_type": "markdown",
   "metadata": {},
   "source": [
    "### 支持向量机"
   ]
  },
  {
   "cell_type": "code",
   "execution_count": 7,
   "metadata": {},
   "outputs": [
    {
     "name": "stdout",
     "output_type": "stream",
     "text": [
      "(65290, 5294)\n",
      "0.9548990645002462\n",
      "0.9840673838035315\n",
      "0.9692638312759257\n"
     ]
    }
   ],
   "source": [
    "# SVM\n",
    "from sklearn.svm import LinearSVC\n",
    "\n",
    "clf = LinearSVC(random_state=0)\n",
    "clf.fit(X_train, y_train)\n",
    "print(X_train.shape)\n",
    "\n",
    "# print(y_train)\n",
    "y_hat = clf.predict(X_test)\n",
    "\n",
    "from sklearn.metrics import precision_score\n",
    "from sklearn.metrics import f1_score\n",
    "from sklearn.metrics import recall_score\n",
    "\n",
    "print(precision_score(y_test,y_hat))\n",
    "print(recall_score(y_test,y_hat))\n",
    "print(f1_score(y_test,y_hat))"
   ]
  },
  {
   "cell_type": "code",
   "execution_count": 23,
   "metadata": {},
   "outputs": [
    {
     "name": "stdout",
     "output_type": "stream",
     "text": [
      "f1_weighted: \n",
      "Fitting 3 folds for each of 3 candidates, totalling 9 fits\n",
      "[CV] tol=0.0001 ......................................................\n"
     ]
    },
    {
     "name": "stderr",
     "output_type": "stream",
     "text": [
      "[Parallel(n_jobs=1)]: Using backend SequentialBackend with 1 concurrent workers.\n"
     ]
    },
    {
     "name": "stdout",
     "output_type": "stream",
     "text": [
      "[CV] ............. tol=0.0001, score=0.9349310926139736, total=   2.2s\n",
      "[CV] tol=0.0001 ......................................................\n"
     ]
    },
    {
     "name": "stderr",
     "output_type": "stream",
     "text": [
      "[Parallel(n_jobs=1)]: Done   1 out of   1 | elapsed:    2.7s remaining:    0.0s\n"
     ]
    },
    {
     "name": "stdout",
     "output_type": "stream",
     "text": [
      "[CV] ............. tol=0.0001, score=0.9356977941321748, total=   1.6s\n"
     ]
    },
    {
     "name": "stderr",
     "output_type": "stream",
     "text": [
      "[Parallel(n_jobs=1)]: Done   2 out of   2 | elapsed:    4.9s remaining:    0.0s\n"
     ]
    },
    {
     "name": "stdout",
     "output_type": "stream",
     "text": [
      "[CV] tol=0.0001 ......................................................\n",
      "[CV] ............. tol=0.0001, score=0.9354533857011122, total=   1.6s\n",
      "[CV] tol=0.001 .......................................................\n",
      "[CV] .............. tol=0.001, score=0.9349310926139736, total=   1.9s\n",
      "[CV] tol=0.001 .......................................................\n",
      "[CV] .............. tol=0.001, score=0.9356977941321748, total=   2.0s\n",
      "[CV] tol=0.001 .......................................................\n",
      "[CV] .............. tol=0.001, score=0.9354938317788455, total=   1.6s\n",
      "[CV] tol=0.01 ........................................................\n",
      "[CV] ............... tol=0.01, score=0.9350344418184231, total=   1.6s\n",
      "[CV] tol=0.01 ........................................................\n",
      "[CV] ............... tol=0.01, score=0.9356977941321748, total=   1.6s\n",
      "[CV] tol=0.01 ........................................................\n",
      "[CV] ............... tol=0.01, score=0.9355519301504234, total=   1.6s\n"
     ]
    },
    {
     "name": "stderr",
     "output_type": "stream",
     "text": [
      "[Parallel(n_jobs=1)]: Done   9 out of   9 | elapsed:   21.2s finished\n"
     ]
    },
    {
     "name": "stdout",
     "output_type": "stream",
     "text": [
      "{'tol': 0.01}\n",
      "              precision    recall  f1-score   support\n",
      "\n",
      "       False       0.78      0.55      0.65      2056\n",
      "        True       0.95      0.98      0.97     19708\n",
      "\n",
      "   micro avg       0.94      0.94      0.94     21764\n",
      "   macro avg       0.87      0.77      0.81     21764\n",
      "weighted avg       0.94      0.94      0.94     21764\n",
      "\n"
     ]
    }
   ],
   "source": [
    "from sklearn.model_selection import GridSearchCV\n",
    "from sklearn.metrics import classification_report\n",
    "\n",
    "# scores = ['f1']\n",
    "parameters={'tol':[1e-4,1e-3,1e-2]}\n",
    "search_super_params(parameters,lambda : LinearSVC())\n",
    "# for score in scores:\n",
    "#     print('%s_weighted: ' % score)\n",
    "#     svc = LinearSVC(random_state=0)\n",
    "#     clf = GridSearchCV(svc,parameters,cv=3,scoring='%s_weighted' % score,verbose=3)\n",
    "#     clf.fit(X_train,y_train)\n",
    "#     print(clf.best_params_)\n",
    "#     y_true, y_pred = y_test, clf.predict(X_test)\n",
    "#     print(classification_report(y_true, y_pred))"
   ]
  },
  {
   "cell_type": "markdown",
   "metadata": {},
   "source": [
    "### Bayes"
   ]
  },
  {
   "cell_type": "code",
   "execution_count": 24,
   "metadata": {},
   "outputs": [
    {
     "name": "stdout",
     "output_type": "stream",
     "text": [
      "f1_weighted: \n",
      "Fitting 3 folds for each of 1 candidates, totalling 3 fits\n",
      "[CV]  ................................................................\n"
     ]
    },
    {
     "name": "stderr",
     "output_type": "stream",
     "text": [
      "[Parallel(n_jobs=1)]: Using backend SequentialBackend with 1 concurrent workers.\n"
     ]
    },
    {
     "name": "stdout",
     "output_type": "stream",
     "text": [
      "[CV] ....................... , score=0.7137695468965951, total=   8.4s\n",
      "[CV]  ................................................................\n"
     ]
    },
    {
     "name": "stderr",
     "output_type": "stream",
     "text": [
      "[Parallel(n_jobs=1)]: Done   1 out of   1 | elapsed:   13.6s remaining:    0.0s\n"
     ]
    },
    {
     "name": "stdout",
     "output_type": "stream",
     "text": [
      "[CV] ....................... , score=0.7241695895010841, total=   7.6s\n",
      "[CV]  ................................................................\n"
     ]
    },
    {
     "name": "stderr",
     "output_type": "stream",
     "text": [
      "[Parallel(n_jobs=1)]: Done   2 out of   2 | elapsed:   26.3s remaining:    0.0s\n"
     ]
    },
    {
     "name": "stdout",
     "output_type": "stream",
     "text": [
      "[CV] ....................... , score=0.7211975777443014, total=   7.4s\n"
     ]
    },
    {
     "name": "stderr",
     "output_type": "stream",
     "text": [
      "[Parallel(n_jobs=1)]: Done   3 out of   3 | elapsed:   38.9s finished\n"
     ]
    },
    {
     "name": "stdout",
     "output_type": "stream",
     "text": [
      "{}\n",
      "              precision    recall  f1-score   support\n",
      "\n",
      "       False       0.20      0.92      0.33      2056\n",
      "        True       0.99      0.62      0.76     19708\n",
      "\n",
      "   micro avg       0.65      0.65      0.65     21764\n",
      "   macro avg       0.59      0.77      0.55     21764\n",
      "weighted avg       0.91      0.65      0.72     21764\n",
      "\n"
     ]
    }
   ],
   "source": [
    "from sklearn.naive_bayes import GaussianNB\n",
    "\n",
    "parameters={}\n",
    "search_super_params(parameters,lambda : GaussianNB())"
   ]
  },
  {
   "cell_type": "markdown",
   "metadata": {},
   "source": [
    "### Decision Tree"
   ]
  },
  {
   "cell_type": "code",
   "execution_count": 25,
   "metadata": {},
   "outputs": [
    {
     "name": "stdout",
     "output_type": "stream",
     "text": [
      "f1_weighted: \n",
      "Fitting 3 folds for each of 3 candidates, totalling 9 fits\n",
      "[CV] max_depth=5 .....................................................\n"
     ]
    },
    {
     "name": "stderr",
     "output_type": "stream",
     "text": [
      "[Parallel(n_jobs=1)]: Using backend SequentialBackend with 1 concurrent workers.\n"
     ]
    },
    {
     "name": "stdout",
     "output_type": "stream",
     "text": [
      "[CV] ............ max_depth=5, score=0.8828361963584322, total=  21.0s\n",
      "[CV] max_depth=5 .....................................................\n"
     ]
    },
    {
     "name": "stderr",
     "output_type": "stream",
     "text": [
      "[Parallel(n_jobs=1)]: Done   1 out of   1 | elapsed:   21.7s remaining:    0.0s\n"
     ]
    },
    {
     "name": "stdout",
     "output_type": "stream",
     "text": [
      "[CV] ............. max_depth=5, score=0.885352087456465, total=  20.7s\n",
      "[CV] max_depth=5 .....................................................\n"
     ]
    },
    {
     "name": "stderr",
     "output_type": "stream",
     "text": [
      "[Parallel(n_jobs=1)]: Done   2 out of   2 | elapsed:   43.4s remaining:    0.0s\n"
     ]
    },
    {
     "name": "stdout",
     "output_type": "stream",
     "text": [
      "[CV] ............ max_depth=5, score=0.8867481020771206, total=  20.7s\n",
      "[CV] max_depth=10 ....................................................\n",
      "[CV] ........... max_depth=10, score=0.8982670788965637, total=  39.3s\n",
      "[CV] max_depth=10 ....................................................\n",
      "[CV] ........... max_depth=10, score=0.9000815523608732, total=  39.4s\n",
      "[CV] max_depth=10 ....................................................\n",
      "[CV] ........... max_depth=10, score=0.9030973823263906, total=  39.4s\n",
      "[CV] max_depth=None ..................................................\n",
      "[CV] ......... max_depth=None, score=0.9229082157726919, total=55.2min\n",
      "[CV] max_depth=None ..................................................\n",
      "[CV] ......... max_depth=None, score=0.9218968048031095, total=55.0min\n",
      "[CV] max_depth=None ..................................................\n",
      "[CV] ......... max_depth=None, score=0.9259087788409612, total=46.8min\n"
     ]
    },
    {
     "name": "stderr",
     "output_type": "stream",
     "text": [
      "[Parallel(n_jobs=1)]: Done   9 out of   9 | elapsed: 160.1min finished\n"
     ]
    },
    {
     "name": "stdout",
     "output_type": "stream",
     "text": [
      "{'max_depth': None}\n",
      "              precision    recall  f1-score   support\n",
      "\n",
      "       False       0.69      0.56      0.62      2056\n",
      "        True       0.95      0.97      0.96     19708\n",
      "\n",
      "   micro avg       0.93      0.93      0.93     21764\n",
      "   macro avg       0.82      0.77      0.79     21764\n",
      "weighted avg       0.93      0.93      0.93     21764\n",
      "\n"
     ]
    }
   ],
   "source": [
    "\n",
    "from sklearn.tree import DecisionTreeClassifier\n",
    "\n",
    "parameters={'max_depth':[5,10,None]}\n",
    "search_super_params(parameters,lambda : DecisionTreeClassifier())"
   ]
  },
  {
   "cell_type": "markdown",
   "metadata": {},
   "source": [
    "### Random Forest"
   ]
  },
  {
   "cell_type": "code",
   "execution_count": 27,
   "metadata": {},
   "outputs": [
    {
     "name": "stdout",
     "output_type": "stream",
     "text": [
      "f1_weighted: \n",
      "Fitting 3 folds for each of 4 candidates, totalling 12 fits\n",
      "[CV] max_depth=5 .....................................................\n"
     ]
    },
    {
     "name": "stderr",
     "output_type": "stream",
     "text": [
      "[Parallel(n_jobs=1)]: Using backend SequentialBackend with 1 concurrent workers.\n",
      "E:\\Anaconda3\\lib\\site-packages\\sklearn\\ensemble\\forest.py:248: FutureWarning: The default value of n_estimators will change from 10 in version 0.20 to 100 in 0.22.\n",
      "  \"10 in version 0.20 to 100 in 0.22.\", FutureWarning)\n"
     ]
    },
    {
     "name": "stdout",
     "output_type": "stream",
     "text": [
      "[CV] ............ max_depth=5, score=0.8608445547989465, total=   3.5s\n",
      "[CV] max_depth=5 .....................................................\n"
     ]
    },
    {
     "name": "stderr",
     "output_type": "stream",
     "text": [
      "[Parallel(n_jobs=1)]: Done   1 out of   1 | elapsed:    4.4s remaining:    0.0s\n",
      "E:\\Anaconda3\\lib\\site-packages\\sklearn\\ensemble\\forest.py:248: FutureWarning: The default value of n_estimators will change from 10 in version 0.20 to 100 in 0.22.\n",
      "  \"10 in version 0.20 to 100 in 0.22.\", FutureWarning)\n"
     ]
    },
    {
     "name": "stdout",
     "output_type": "stream",
     "text": [
      "[CV] ............ max_depth=5, score=0.8612331591387459, total=   3.1s\n",
      "[CV] max_depth=5 .....................................................\n"
     ]
    },
    {
     "name": "stderr",
     "output_type": "stream",
     "text": [
      "[Parallel(n_jobs=1)]: Done   2 out of   2 | elapsed:    8.4s remaining:    0.0s\n",
      "E:\\Anaconda3\\lib\\site-packages\\sklearn\\ensemble\\forest.py:248: FutureWarning: The default value of n_estimators will change from 10 in version 0.20 to 100 in 0.22.\n",
      "  \"10 in version 0.20 to 100 in 0.22.\", FutureWarning)\n"
     ]
    },
    {
     "name": "stdout",
     "output_type": "stream",
     "text": [
      "[CV] ............ max_depth=5, score=0.8578043393243928, total=   3.1s\n",
      "[CV] max_depth=10 ....................................................\n"
     ]
    },
    {
     "name": "stderr",
     "output_type": "stream",
     "text": [
      "E:\\Anaconda3\\lib\\site-packages\\sklearn\\ensemble\\forest.py:248: FutureWarning: The default value of n_estimators will change from 10 in version 0.20 to 100 in 0.22.\n",
      "  \"10 in version 0.20 to 100 in 0.22.\", FutureWarning)\n"
     ]
    },
    {
     "name": "stdout",
     "output_type": "stream",
     "text": [
      "[CV] ........... max_depth=10, score=0.8642838108829096, total=   4.6s\n",
      "[CV] max_depth=10 ....................................................\n"
     ]
    },
    {
     "name": "stderr",
     "output_type": "stream",
     "text": [
      "E:\\Anaconda3\\lib\\site-packages\\sklearn\\ensemble\\forest.py:248: FutureWarning: The default value of n_estimators will change from 10 in version 0.20 to 100 in 0.22.\n",
      "  \"10 in version 0.20 to 100 in 0.22.\", FutureWarning)\n"
     ]
    },
    {
     "name": "stdout",
     "output_type": "stream",
     "text": [
      "[CV] ............ max_depth=10, score=0.865436146164151, total=   4.5s\n",
      "[CV] max_depth=10 ....................................................\n"
     ]
    },
    {
     "name": "stderr",
     "output_type": "stream",
     "text": [
      "E:\\Anaconda3\\lib\\site-packages\\sklearn\\ensemble\\forest.py:248: FutureWarning: The default value of n_estimators will change from 10 in version 0.20 to 100 in 0.22.\n",
      "  \"10 in version 0.20 to 100 in 0.22.\", FutureWarning)\n"
     ]
    },
    {
     "name": "stdout",
     "output_type": "stream",
     "text": [
      "[CV] ........... max_depth=10, score=0.8733513039171984, total=   4.6s\n",
      "[CV] max_depth=15 ....................................................\n"
     ]
    },
    {
     "name": "stderr",
     "output_type": "stream",
     "text": [
      "E:\\Anaconda3\\lib\\site-packages\\sklearn\\ensemble\\forest.py:248: FutureWarning: The default value of n_estimators will change from 10 in version 0.20 to 100 in 0.22.\n",
      "  \"10 in version 0.20 to 100 in 0.22.\", FutureWarning)\n"
     ]
    },
    {
     "name": "stdout",
     "output_type": "stream",
     "text": [
      "[CV] ........... max_depth=15, score=0.8718555120258454, total=   6.1s\n",
      "[CV] max_depth=15 ....................................................\n"
     ]
    },
    {
     "name": "stderr",
     "output_type": "stream",
     "text": [
      "E:\\Anaconda3\\lib\\site-packages\\sklearn\\ensemble\\forest.py:248: FutureWarning: The default value of n_estimators will change from 10 in version 0.20 to 100 in 0.22.\n",
      "  \"10 in version 0.20 to 100 in 0.22.\", FutureWarning)\n"
     ]
    },
    {
     "name": "stdout",
     "output_type": "stream",
     "text": [
      "[CV] ........... max_depth=15, score=0.8683268163581106, total=   6.0s\n",
      "[CV] max_depth=15 ....................................................\n"
     ]
    },
    {
     "name": "stderr",
     "output_type": "stream",
     "text": [
      "E:\\Anaconda3\\lib\\site-packages\\sklearn\\ensemble\\forest.py:248: FutureWarning: The default value of n_estimators will change from 10 in version 0.20 to 100 in 0.22.\n",
      "  \"10 in version 0.20 to 100 in 0.22.\", FutureWarning)\n"
     ]
    },
    {
     "name": "stdout",
     "output_type": "stream",
     "text": [
      "[CV] ........... max_depth=15, score=0.8746863032763891, total=   6.0s\n",
      "[CV] max_depth=None ..................................................\n"
     ]
    },
    {
     "name": "stderr",
     "output_type": "stream",
     "text": [
      "E:\\Anaconda3\\lib\\site-packages\\sklearn\\ensemble\\forest.py:248: FutureWarning: The default value of n_estimators will change from 10 in version 0.20 to 100 in 0.22.\n",
      "  \"10 in version 0.20 to 100 in 0.22.\", FutureWarning)\n"
     ]
    },
    {
     "name": "stdout",
     "output_type": "stream",
     "text": [
      "[CV] ......... max_depth=None, score=0.9301470699597272, total= 4.2min\n",
      "[CV] max_depth=None ..................................................\n"
     ]
    },
    {
     "name": "stderr",
     "output_type": "stream",
     "text": [
      "E:\\Anaconda3\\lib\\site-packages\\sklearn\\ensemble\\forest.py:248: FutureWarning: The default value of n_estimators will change from 10 in version 0.20 to 100 in 0.22.\n",
      "  \"10 in version 0.20 to 100 in 0.22.\", FutureWarning)\n"
     ]
    },
    {
     "name": "stdout",
     "output_type": "stream",
     "text": [
      "[CV] ......... max_depth=None, score=0.9331985921316458, total= 4.2min\n",
      "[CV] max_depth=None ..................................................\n"
     ]
    },
    {
     "name": "stderr",
     "output_type": "stream",
     "text": [
      "E:\\Anaconda3\\lib\\site-packages\\sklearn\\ensemble\\forest.py:248: FutureWarning: The default value of n_estimators will change from 10 in version 0.20 to 100 in 0.22.\n",
      "  \"10 in version 0.20 to 100 in 0.22.\", FutureWarning)\n"
     ]
    },
    {
     "name": "stdout",
     "output_type": "stream",
     "text": [
      "[CV] ......... max_depth=None, score=0.9313887267745607, total= 4.1min\n"
     ]
    },
    {
     "name": "stderr",
     "output_type": "stream",
     "text": [
      "[Parallel(n_jobs=1)]: Done  12 out of  12 | elapsed: 13.4min finished\n",
      "E:\\Anaconda3\\lib\\site-packages\\sklearn\\ensemble\\forest.py:248: FutureWarning: The default value of n_estimators will change from 10 in version 0.20 to 100 in 0.22.\n",
      "  \"10 in version 0.20 to 100 in 0.22.\", FutureWarning)\n"
     ]
    },
    {
     "name": "stdout",
     "output_type": "stream",
     "text": [
      "{'max_depth': None}\n",
      "              precision    recall  f1-score   support\n",
      "\n",
      "       False       0.80      0.53      0.64      2056\n",
      "        True       0.95      0.99      0.97     19708\n",
      "\n",
      "   micro avg       0.94      0.94      0.94     21764\n",
      "   macro avg       0.87      0.76      0.80     21764\n",
      "weighted avg       0.94      0.94      0.94     21764\n",
      "\n"
     ]
    }
   ],
   "source": [
    "from sklearn.ensemble import RandomForestClassifier\n",
    "\n",
    "parameters={'max_depth':[5,10,15,None]}\n",
    "search_super_params(parameters,lambda : RandomForestClassifier())"
   ]
  },
  {
   "cell_type": "code",
   "execution_count": null,
   "metadata": {},
   "outputs": [],
   "source": []
  }
 ],
 "metadata": {
  "kernelspec": {
   "display_name": "Python 3",
   "language": "python",
   "name": "python3"
  },
  "language_info": {
   "codemirror_mode": {
    "name": "ipython",
    "version": 3
   },
   "file_extension": ".py",
   "mimetype": "text/x-python",
   "name": "python",
   "nbconvert_exporter": "python",
   "pygments_lexer": "ipython3",
   "version": "3.7.0"
  }
 },
 "nbformat": 4,
 "nbformat_minor": 2
}
